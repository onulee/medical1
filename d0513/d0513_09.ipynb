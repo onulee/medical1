{
 "cells": [
  {
   "cell_type": "code",
   "execution_count": 1,
   "metadata": {},
   "outputs": [],
   "source": [
    "### 오라클 연결해서 데이터를 pandas변환\n",
    "import oracledb\n",
    "import pandas as pd\n"
   ]
  },
  {
   "cell_type": "code",
   "execution_count": 11,
   "metadata": {},
   "outputs": [
    {
     "name": "stdout",
     "output_type": "stream",
     "text": [
      "18.0.0.0.0\n"
     ]
    },
    {
     "name": "stderr",
     "output_type": "stream",
     "text": [
      "C:\\Users\\KOREAVC\\AppData\\Local\\Temp\\ipykernel_15952\\1382485385.py:6: UserWarning: pandas only supports SQLAlchemy connectable (engine/connection) or database string URI or sqlite3 DBAPI2 connection. Other DBAPI2 objects are not tested. Please consider using SQLAlchemy.\n",
      "  df = pd.read_sql_query(query,conn)\n"
     ]
    },
    {
     "data": {
      "text/plain": [
       "0     2600.0\n",
       "1     2600.0\n",
       "2     4400.0\n",
       "3    13000.0\n",
       "4     6000.0\n",
       "Name: SALARY, dtype: float64"
      ]
     },
     "execution_count": 11,
     "metadata": {},
     "output_type": "execute_result"
    }
   ],
   "source": [
    "conn = oracledb.connect(user='ora_user',password='1111',dsn='localhost:1521/xe')\n",
    "print(conn.version)\n",
    "# cursor = conn.cursor()\n",
    "query = 'select employee_id,salary from employees'\n",
    "# select 데이터가 df타입으로 변경되어 가지고 옴.\n",
    "df = pd.read_sql_query(query,conn)\n",
    "x_list = list(df['EMPLOYEE_ID'].head())\n",
    "x_list\n",
    "df['SALARY'].head()\n",
    "\n",
    "# 그래프 (x,y)\n"
   ]
  }
 ],
 "metadata": {
  "kernelspec": {
   "display_name": "Python 3",
   "language": "python",
   "name": "python3"
  },
  "language_info": {
   "codemirror_mode": {
    "name": "ipython",
    "version": 3
   },
   "file_extension": ".py",
   "mimetype": "text/x-python",
   "name": "python",
   "nbconvert_exporter": "python",
   "pygments_lexer": "ipython3",
   "version": "3.12.0"
  }
 },
 "nbformat": 4,
 "nbformat_minor": 2
}
