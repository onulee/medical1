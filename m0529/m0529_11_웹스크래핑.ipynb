{
 "cells": [
  {
   "cell_type": "code",
   "execution_count": 1,
   "metadata": {},
   "outputs": [],
   "source": [
    "import requests\n",
    "import time\n",
    "import random\n",
    "from bs4 import BeautifulSoup\n",
    "from selenium import webdriver\n",
    "from selenium.webdriver.common.by import By\n",
    "from selenium.webdriver.common.keys import Keys\n",
    "# 화면이 나타나는 것을 확인\n",
    "from selenium.webdriver.support.ui import WebDriverWait\n",
    "from selenium.webdriver.support import expected_conditions as EC\n",
    "import pyautogui\n",
    "\n",
    "headers = {\"User-Agent\":\"Mozilla/5.0 (Windows NT 10.0; Win64; x64) AppleWebKit/537.36 (KHTML, like Gecko) Chrome/124.0.0.0 Safari/537.36\",\"Accep-Language\":\"ko-KR,ko;q=0.9,en-US;q=0.8,en;q=0.7\"}\n",
    "url = \"https://namu.wiki/RecentChanges\""
   ]
  },
  {
   "cell_type": "code",
   "execution_count": 2,
   "metadata": {},
   "outputs": [],
   "source": [
    "# 브라우저 열기\n",
    "browser = webdriver.Chrome()\n",
    "browser.maximize_window()\n",
    "browser.get(url)"
   ]
  },
  {
   "cell_type": "code",
   "execution_count": 3,
   "metadata": {},
   "outputs": [],
   "source": [
    "# 데이터 불러오기 - 파일저장\n",
    "soup = BeautifulSoup(browser.page_source,\"lxml\")\n",
    "with open(\"test.html\",\"w\",encoding=\"utf8\") as f:\n",
    "    f.write(soup.prettify())   "
   ]
  },
  {
   "cell_type": "code",
   "execution_count": 6,
   "metadata": {},
   "outputs": [],
   "source": [
    "# 표부분 전체 위치 값 찾기\n",
    "section = soup.find(\"div\",{\"class\":\"aunJwsbN\"})"
   ]
  },
  {
   "cell_type": "code",
   "execution_count": 7,
   "metadata": {},
   "outputs": [],
   "source": [
    "lists = section.find_all(\"div\",{\"class\":\"b5G6-Ki+\"})"
   ]
  },
  {
   "cell_type": "code",
   "execution_count": 8,
   "metadata": {},
   "outputs": [
    {
     "data": {
      "text/plain": [
       "100"
      ]
     },
     "execution_count": 8,
     "metadata": {},
     "output_type": "execute_result"
    }
   ],
   "source": [
    "len(lists)"
   ]
  },
  {
   "cell_type": "code",
   "execution_count": 11,
   "metadata": {},
   "outputs": [
    {
     "data": {
      "text/plain": [
       "'/w/%EC%A0%9C9%ED%9A%8C%20%EC%A0%84%EA%B5%AD%EB%8F%99%EC%8B%9C%EC%A7%80%EB%B0%A9%EC%84%A0%EA%B1%B0/%EA%B4%91%EC%97%AD%EC%9E%90%EC%B9%98%EB%8B%A8%EC%B2%B4%EC%9E%A5/%ED%9B%84%EB%B3%B4%EA%B5%B0'"
      ]
     },
     "execution_count": 11,
     "metadata": {},
     "output_type": "execute_result"
    }
   ],
   "source": [
    "lists[1].a['href']"
   ]
  },
  {
   "cell_type": "code",
   "execution_count": 12,
   "metadata": {},
   "outputs": [
    {
     "name": "stdout",
     "output_type": "stream",
     "text": [
      "완료\n"
     ]
    }
   ],
   "source": [
    "urls = []\n",
    "for i in range(1,len(lists)):\n",
    "    urls.append(\"https://namu.wiki\"+lists[i].a['href'])\n",
    "print(\"완료\")    "
   ]
  },
  {
   "cell_type": "code",
   "execution_count": 13,
   "metadata": {},
   "outputs": [
    {
     "data": {
      "text/plain": [
       "['https://namu.wiki/w/%EC%A0%9C9%ED%9A%8C%20%EC%A0%84%EA%B5%AD%EB%8F%99%EC%8B%9C%EC%A7%80%EB%B0%A9%EC%84%A0%EA%B1%B0/%EA%B4%91%EC%97%AD%EC%9E%90%EC%B9%98%EB%8B%A8%EC%B2%B4%EC%9E%A5/%ED%9B%84%EB%B3%B4%EA%B5%B0',\n",
       " 'https://namu.wiki/w/%EA%B9%80%EB%AF%BC%EC%9E%AC',\n",
       " 'https://namu.wiki/w/%EC%8B%9C%EA%B3%84%ED%83%91%20%EC%B5%9C%ED%95%98%EC%B8%B5',\n",
       " 'https://namu.wiki/w/%ED%8C%8C%EC%9D%BC:R-TYPE%20FINAL%202%20%EB%A1%B1%ED%98%BC%20%ED%8C%8C%EB%8F%99%ED%8F%AC%20%EC%84%AC%EB%84%A4%EC%9D%BC.png',\n",
       " 'https://namu.wiki/w/%ED%8C%8C%EC%9D%BC:LuaJIT_logo.svg',\n",
       " 'https://namu.wiki/w/2024%20WBSC%20%ED%94%84%EB%A6%AC%EB%AF%B8%EC%96%B4%2012/%EC%A1%B0%EB%B3%84%20%EB%A6%AC%EA%B7%B8/B%EC%A1%B0',\n",
       " 'https://namu.wiki/w/%ED%95%B4%EB%8B%AC%EC%84%A0/%EB%93%B1%EC%9E%A5%EC%9D%B8%EB%AC%BC',\n",
       " 'https://namu.wiki/w/%EC%9D%B4%EC%A0%95%EA%B7%BC(%EC%A0%95%EC%B9%98%EC%9D%B8)',\n",
       " 'https://namu.wiki/w/%EA%B3%A0%EC%86%8D%EB%B2%84%EC%8A%A4%20%EC%84%9C%EC%9A%B8%ED%98%B8%EB%82%A8-%EA%B4%91%EC%A3%BC',\n",
       " 'https://namu.wiki/w/7%EC%9D%B8%EC%9D%98%20%ED%83%88%EC%B6%9C%20%EC%8B%9C%EB%A6%AC%EC%A6%88/%EC%8B%9C%EC%A6%8C%EB%B3%84%20%ED%8F%89%EA%B0%80',\n",
       " 'https://namu.wiki/w/%EB%A9%94%EB%A5%B4%EC%84%B8%EB%8D%B0%EC%8A%A4%20%EB%AA%A8%EB%84%A4',\n",
       " 'https://namu.wiki/w/2024%20LoL%20Champions%20Korea%20Summer/3%EC%A3%BC%EC%B0%A8',\n",
       " 'https://namu.wiki/w/%EC%A0%95%EC%9D%98%EC%A0%95%EC%B1%85%EC%97%B0%EA%B5%AC%EC%86%8C',\n",
       " 'https://namu.wiki/w/%EC%BB%A4%EC%8A%A4%ED%8B%B4%20%EB%8D%B0%EC%9D%B4',\n",
       " 'https://namu.wiki/w/%ED%8C%8C%EC%A3%BC%20%EC%A0%84%EA%B8%B0%ED%86%B1%20%ED%86%A0%EB%A7%89%EC%82%B4%EC%9D%B8%20%EC%82%AC%EA%B1%B4',\n",
       " 'https://namu.wiki/w/%EC%A0%9C%EB%84%A4%EC%8B%9C%EC%8A%A4%20%EB%8D%94%20%EA%B3%A0%EC%A7%88%EB%9D%BC',\n",
       " 'https://namu.wiki/w/%EC%9B%8C%ED%82%B9%20%EB%8D%B0%EB%93%9C:%20%EB%8D%B0%EB%93%9C%20%EC%8B%9C%ED%8B%B0',\n",
       " 'https://namu.wiki/w/%EB%B0%95%EB%B3%91%ED%98%B8/%EC%84%A0%EC%88%98%20%EA%B2%BD%EB%A0%A5/2024%EB%85%84',\n",
       " 'https://namu.wiki/w/%EC%A1%B0%EC%9A%B0%EC%A0%9C',\n",
       " 'https://namu.wiki/w/%EA%B9%80%EB%AF%BC%EC%9E%AC',\n",
       " 'https://namu.wiki/w/%ED%8C%8C%EC%9D%BC:R-TYPE%20FINAL%202%20%EC%97%94%EB%94%A9%20%ED%8C%8C%EB%8F%99%ED%8F%AC%20%EC%84%AC%EB%84%A4%EC%9D%BC.png',\n",
       " 'https://namu.wiki/w/%EB%AA%85%EC%A1%B0:%20%EC%9B%8C%EB%8D%94%EB%A7%81%20%EC%9B%A8%EC%9D%B4%EB%B8%8C/%EC%84%A4%EC%A0%95',\n",
       " 'https://namu.wiki/w/%ED%95%B4%EC%99%B8%EC%A7%81%EA%B5%AC%20%EA%B8%89%EC%A6%9D%EC%97%90%20%EB%94%B0%EB%A5%B8%20%EC%86%8C%EB%B9%84%EC%9E%90%20%EC%95%88%EC%A0%84%20%EA%B0%95%ED%99%94%20%EB%B0%8F%20%EA%B8%B0%EC%97%85%20%EA%B2%BD%EC%9F%81%EB%A0%A5%20%EC%A0%9C%EA%B3%A0%20%EB%B0%A9%EC%95%88/%EC%A0%84%EA%B0%9C',\n",
       " 'https://namu.wiki/w/%ED%8B%80:Flood%20Escape%202/%EB%A7%B5',\n",
       " 'https://namu.wiki/w/LG%20%ED%8A%B8%EC%9C%88%EC%8A%A4/2024%EB%85%84/6%EC%9B%94',\n",
       " 'https://namu.wiki/w/%EC%A1%B0%EC%9A%B0%EC%A0%9C',\n",
       " 'https://namu.wiki/w/%ED%8B%80:FANTASTICS',\n",
       " 'https://namu.wiki/w/%EC%A3%BC%ED%99%94%EC%97%B0/%ED%8F%89%EA%B0%80',\n",
       " 'https://namu.wiki/w/%EC%84%A0%EB%AF%B8',\n",
       " 'https://namu.wiki/w/%EB%A6%BC%EC%9B%94%EB%93%9C/%EB%AA%A8%EB%93%9C/%EC%A2%85%EC%A1%B1%20%EB%B0%8F%20%EC%84%B8%EB%A0%A5%20%EC%B6%94%EA%B0%80%20%EB%AA%A8%EB%93%9C',\n",
       " 'https://namu.wiki/w/%EC%A1%B0%ED%8F%AD%EC%9D%B8%20%EB%82%B4%EA%B0%80%20%EA%B3%A0%EB%93%B1%ED%95%99%EC%83%9D%EC%9D%B4%20%EB%90%98%EC%97%88%EC%8A%B5%EB%8B%88%EB%8B%A4(%EB%93%9C%EB%9D%BC%EB%A7%88)',\n",
       " 'https://namu.wiki/w/%EC%9D%B4%EC%9C%A4%EC%B2%A0(%EB%B0%95%ED%83%9C%EC%A4%80%20%EC%9C%A0%EB%8B%88%EB%B2%84%EC%8A%A4)',\n",
       " 'https://namu.wiki/w/%ED%8C%8C%EC%9D%BC:parkbh_lions.jpg',\n",
       " 'https://namu.wiki/w/%EA%B2%A8%EC%9A%B8%EC%99%95%EA%B5%AD/%EB%8C%80%ED%95%9C%EB%AF%BC%EA%B5%AD',\n",
       " 'https://namu.wiki/w/LG%20%ED%8A%B8%EC%9C%88%EC%8A%A4/2024%EB%85%84/6%EC%9B%94',\n",
       " 'https://namu.wiki/w/%ED%8C%8C%EC%A3%BC%20%EC%A0%84%EA%B8%B0%ED%86%B1%20%ED%86%A0%EB%A7%89%EC%82%B4%EC%9D%B8%20%EC%82%AC%EA%B1%B4',\n",
       " 'https://namu.wiki/w/%ED%8C%8C%EB%A5%B4%EB%93%9C',\n",
       " 'https://namu.wiki/w/%ED%83%9C%EC%A7%84%EC%97%AC%EA%B0%9D',\n",
       " 'https://namu.wiki/w/%EA%B9%80%EC%84%9C%ED%9D%AC(%EC%A0%95%EC%B9%98%EC%9D%B8)',\n",
       " 'https://namu.wiki/w/%EC%9A%B0%EA%B8%88%EC%B9%98%20%EC%A0%84%ED%88%AC',\n",
       " 'https://namu.wiki/w/%EC%A7%84%ED%95%B4%EC%84%B1',\n",
       " 'https://namu.wiki/w/%EC%A3%BC%EC%9D%B8%EA%B3%B5/%EB%A8%BC%EC%B9%98%ED%82%A8%ED%98%95',\n",
       " 'https://namu.wiki/w/%ED%8C%8C%EC%9D%BC:R-TYPE%20FINAL%202%20Gallery%20No%2053.png',\n",
       " 'https://namu.wiki/w/%EC%A0%9C9%ED%9A%8C%20%EC%A0%84%EA%B5%AD%EB%8F%99%EC%8B%9C%EC%A7%80%EB%B0%A9%EC%84%A0%EA%B1%B0/%EA%B4%91%EC%97%AD%EC%9E%90%EC%B9%98%EB%8B%A8%EC%B2%B4%EC%9E%A5/%ED%9B%84%EB%B3%B4%EA%B5%B0',\n",
       " 'https://namu.wiki/w/MrBeast%20vs%20T-Series',\n",
       " 'https://namu.wiki/w/%EC%9D%B4%EC%88%9C%EC%B2%A0/%EC%A7%80%EB%8F%84%EC%9E%90%20%EA%B2%BD%EB%A0%A5',\n",
       " 'https://namu.wiki/w/%EC%9D%B4%EC%A0%95%EA%B7%BC(%EC%A0%95%EC%B9%98%EC%9D%B8)',\n",
       " 'https://namu.wiki/w/%EA%B9%80%EB%A7%8C%EC%9E%AC(%EB%B2%94%EC%A3%84%EB%8F%84%EC%8B%9C%20%EC%8B%9C%EB%A6%AC%EC%A6%88)',\n",
       " 'https://namu.wiki/w/%EB%B0%95%EB%B3%91%ED%98%B8',\n",
       " 'https://namu.wiki/w/%EB%AA%BD%ED%82%A4%20D.%20%EA%B0%80%ED%94%84',\n",
       " 'https://namu.wiki/w/%EC%A0%95%EC%B1%85%EC%97%B0%EA%B5%AC%EC%86%8C',\n",
       " 'https://namu.wiki/w/%ED%95%B4%EB%8B%AC%EC%84%A0/%EB%93%B1%EC%9E%A5%EC%9D%B8%EB%AC%BC',\n",
       " 'https://namu.wiki/w/%EC%A3%BC%EC%9D%B8%EA%B3%B5/%EB%A8%BC%EC%B9%98%ED%82%A8%ED%98%95',\n",
       " 'https://namu.wiki/w/%ED%81%B4%EB%A6%B0%ED%8A%B8%20%EC%9D%B4%EC%8A%A4%ED%8A%B8%EC%9A%B0%EB%93%9C',\n",
       " 'https://namu.wiki/w/%EC%BF%A0%EB%A1%9C%ED%95%98%EB%9D%BC%20%ED%83%80%EC%BF%A0%EB%AF%B8',\n",
       " 'https://namu.wiki/w/%EB%98%90%EB%B4%87%20W',\n",
       " 'https://namu.wiki/w/LG%20%ED%8A%B8%EC%9C%88%EC%8A%A4/2024%EB%85%84/5%EC%9B%94',\n",
       " 'https://namu.wiki/w/%ED%8C%8C%EC%9D%B4%EB%84%90%20%ED%8C%90%ED%83%80%EC%A7%80%20XVI',\n",
       " 'https://namu.wiki/w/%EB%A6%BC%EC%9B%94%EB%93%9C/%EB%AA%A8%EB%93%9C/%EC%A2%85%EC%A1%B1%20%EB%B0%8F%20%EC%84%B8%EB%A0%A5%20%EC%B6%94%EA%B0%80%20%EB%AA%A8%EB%93%9C',\n",
       " 'https://namu.wiki/w/%ED%8C%8C%EC%9D%BC:R-TYPE%20FINAL%202%20%EA%B8%B0%EA%B0%80%20%ED%8C%8C%EB%8F%99%ED%8F%AC%20%EC%84%A4%EB%AA%85.png',\n",
       " 'https://namu.wiki/w/%EC%8B%9C%EC%BD%94%EC%BF%A0%20%EC%95%84%EC%9D%BC%EB%9E%9C%EB%93%9C%20%EB%A6%AC%EA%B7%B8%20%ED%94%8C%EB%9F%AC%EC%8A%A4',\n",
       " 'https://namu.wiki/w/%ED%81%B4%EB%A6%B0%ED%8A%B8%20%EC%9D%B4%EC%8A%A4%ED%8A%B8%EC%9A%B0%EB%93%9C',\n",
       " 'https://namu.wiki/w/%EC%95%84%EC%BB%B4%ED%98%B8%EB%9F%AC%20%EC%B9%B4%EB%93%9C%EA%B2%8C%EC%9E%84/%ED%94%8C%EB%A0%88%EC%9D%B4%EC%96%B4%20%EC%B9%B4%EB%93%9C/%EC%9D%B8%EC%8A%A4%EB%A8%B8%EC%8A%A4%EC%97%90%20%EB%93%9C%EB%A6%AC%EC%9A%B4%20%EC%9D%8C%EB%AA%A8',\n",
       " 'https://namu.wiki/w/%EB%AA%85%EC%A1%B0:%20%EC%9B%8C%EB%8D%94%EB%A7%81%20%EC%9B%A8%EC%9D%B4%EB%B8%8C/%EC%84%A4%EC%A0%95',\n",
       " 'https://namu.wiki/w/%EB%8F%99%EC%A1%B0%EC%9E%90/%EB%93%B1%EC%9E%A5%EC%9D%B8%EB%AC%BC',\n",
       " 'https://namu.wiki/w/%ED%8C%8C%EC%A3%BC%20%EC%A0%84%EA%B8%B0%ED%86%B1%20%ED%86%A0%EB%A7%89%EC%82%B4%EC%9D%B8%20%EC%82%AC%EA%B1%B4',\n",
       " 'https://namu.wiki/w/%EC%8C%88%EB%BD%95',\n",
       " 'https://namu.wiki/w/%EC%B9%B4%EB%A5%B4%EB%A9%9C',\n",
       " 'https://namu.wiki/w/%EC%82%B0%EB%A6%BC%EC%B2%AD',\n",
       " 'https://namu.wiki/w/%ED%98%B8%EC%8B%9C%EB%85%B8%20%EA%B2%90/%EC%82%AC%EA%B1%B4%EC%82%AC%EA%B3%A0',\n",
       " 'https://namu.wiki/w/%EC%9D%B4%EC%9E%A5%EC%9B%90(%EC%84%B1%EC%9A%B0)/%EC%B6%9C%EC%97%B0%EC%9E%91',\n",
       " 'https://namu.wiki/w/%EB%A9%94%EC%8A%A4%EB%A8%B8%EB%9D%BC%EC%9D%B4%EC%A0%80',\n",
       " 'https://namu.wiki/w/%EC%88%98%EC%A7%80(%EB%8D%B8%ED%83%80%EB%A3%AC)',\n",
       " 'https://namu.wiki/w/%EC%B2%9C%EB%85%84%EC%97%AC%EC%99%95',\n",
       " 'https://namu.wiki/w/%EB%A6%BC%EC%9B%94%EB%93%9C/%EB%AA%A8%EB%93%9C/%EC%A2%85%EC%A1%B1%20%EB%B0%8F%20%EC%84%B8%EB%A0%A5%20%EC%B6%94%EA%B0%80%20%EB%AA%A8%EB%93%9C',\n",
       " 'https://namu.wiki/w/%EB%A1%AF%EB%8D%B0%20%EC%9E%90%EC%9D%B4%EC%96%B8%EC%B8%A0/2024%EB%85%84/5%EC%9B%94',\n",
       " 'https://namu.wiki/w/%ED%83%9D%EC%86%8C%EB%85%B8%EB%AF%B8',\n",
       " 'https://namu.wiki/w/TWICE',\n",
       " 'https://namu.wiki/w/%EC%B9%B4%EB%9D%BD%EC%8A%A4/%ED%98%91%EB%8F%99%EC%A0%84%20%EC%9E%84%EB%AC%B4/%EC%A1%B0%ED%95%A9%20%EB%B0%8F%20%EC%82%AC%EB%A0%B9%EA%B4%80%20%EA%B6%81%ED%95%A9',\n",
       " 'https://namu.wiki/w/%ED%8C%8C%EC%9D%BC:R-TYPE%20FINAL%202%20stage%20X1.0%20official%20image%20no.1.jpg',\n",
       " 'https://namu.wiki/w/%EB%AF%BC%EC%84%A0%208%EA%B8%B0%20%EA%B8%B0%EC%B4%88%EC%9D%98%ED%9A%8C%EC%9D%98%EC%9B%90/%EA%B2%BD%EC%83%81%EB%B6%81%EB%8F%84',\n",
       " 'https://namu.wiki/w/%ED%81%B4%EB%A6%B0%ED%8A%B8%20%EC%9D%B4%EC%8A%A4%ED%8A%B8%EC%9A%B0%EB%93%9C',\n",
       " 'https://namu.wiki/w/%EC%9D%B4%EB%82%98%EB%9D%BC(1988)',\n",
       " 'https://namu.wiki/w/%EB%B8%94%EB%9E%99%EC%BB%B4%EB%B1%83/%EC%B1%94%ED%94%BC%EC%96%B8%EC%8A%A4%20%EB%A6%AC%EA%B7%B8/2024-25%EC%8B%9C%EC%A6%8C',\n",
       " 'https://namu.wiki/w/%ED%8C%8C%EC%9D%BC:%EC%98%A4%ED%94%BC%EC%85%9C%EC%82%BC%EB%B3%91%ED%98%B8.jpg',\n",
       " 'https://namu.wiki/w/%EC%9D%B4%EB%82%98%EB%9D%BC(1988)',\n",
       " 'https://namu.wiki/w/%EB%B6%81%ED%95%9C%EC%9D%98%20%EB%AF%B8%EC%82%AC%EC%9D%BC%20%EA%B0%9C%EB%B0%9C',\n",
       " 'https://namu.wiki/w/%EB%8F%99%ED%95%99%20%EB%86%8D%EB%AF%BC%20%ED%98%81%EB%AA%85',\n",
       " 'https://namu.wiki/w/%ED%99%A9%EB%AF%BC%ED%98%84/%EC%96%B4%EB%A1%9D%20%EB%B0%8F%20%ED%8F%89%EA%B0%80',\n",
       " 'https://namu.wiki/w/%EB%A9%94%ED%83%80%EC%84%B8%EC%BF%BC%EC%9D%B4%EC%95%84',\n",
       " 'https://namu.wiki/w/%ED%8C%8C%EC%9D%BC:R-TYPE%20FINAL%202%20%EC%8A%A4%ED%83%A0%EB%8B%A4%EB%93%9C%20%ED%8C%8C%EB%8F%99%ED%8F%AC%20III%20%EC%84%AC%EB%84%A4%EC%9D%BC.png',\n",
       " 'https://namu.wiki/w/%EC%A7%84%ED%95%B4%EC%84%B1',\n",
       " 'https://namu.wiki/w/%EB%B2%A4%20%EB%8D%B0%EC%9D%B4%EB%B9%84%EC%8A%A4/%ED%81%B4%EB%9F%BD%20%EA%B2%BD%EB%A0%A5/2023-24%20%EC%8B%9C%EC%A6%8C',\n",
       " 'https://namu.wiki/w/%EA%B4%B4%EB%8F%84%20%ED%94%BC%EB%8B%89%EC%8A%A4',\n",
       " 'https://namu.wiki/w/%EA%B0%90%EA%B8%88%EC%99%95/%EB%93%B1%EC%9E%A5%EC%9D%B8%EB%AC%BC',\n",
       " 'https://namu.wiki/w/%EC%A0%9C%ED%8E%98%ED%86%A0%20%ED%95%B4%EB%8B%AC%EC%84%A0/%EB%93%B1%EC%9E%A5%EC%9D%B8%EB%AC%BC',\n",
       " 'https://namu.wiki/w/%EC%A3%BC%EC%9D%B8%EA%B3%B5/%EC%96%BC%EB%B9%B5%ED%98%95',\n",
       " 'https://namu.wiki/w/%ED%97%8C%ED%84%B0(%EB%AA%AC%EC%8A%A4%ED%8A%B8%EB%9F%BC%20%EC%8B%9C%EB%A6%AC%EC%A6%88)',\n",
       " 'https://namu.wiki/w/Alan%20Becker']"
      ]
     },
     "execution_count": 13,
     "metadata": {},
     "output_type": "execute_result"
    }
   ],
   "source": [
    "urls"
   ]
  },
  {
   "cell_type": "markdown",
   "metadata": {},
   "source": [
    "#### 상세페이지 내 title,category,content"
   ]
  },
  {
   "cell_type": "code",
   "execution_count": 14,
   "metadata": {},
   "outputs": [],
   "source": [
    "# 상세페이지 title,category,content 가져오기 예시\n",
    "url = 'https://namu.wiki/w/%EA%B9%80%EB%AF%BC%EC%9E%AC'\n",
    "res = requests.get(url)\n",
    "res.raise_for_status()\n",
    "# 데이터 불러오기\n",
    "soup = BeautifulSoup(res.text,'lxml')"
   ]
  },
  {
   "cell_type": "code",
   "execution_count": 17,
   "metadata": {},
   "outputs": [
    {
     "data": {
      "text/plain": [
       "'김민재'"
      ]
     },
     "execution_count": 17,
     "metadata": {},
     "output_type": "execute_result"
    }
   ],
   "source": [
    "# title\n",
    "title = soup.find(\"a\",{\"class\":\"wldOEh2w\"}).text\n",
    "title"
   ]
  },
  {
   "cell_type": "code",
   "execution_count": 19,
   "metadata": {},
   "outputs": [
    {
     "data": {
      "text/plain": [
       "'김민재'"
      ]
     },
     "execution_count": 19,
     "metadata": {},
     "output_type": "execute_result"
    }
   ],
   "source": [
    "category = soup.find(\"li\",{\"class\":\"_5YOCljOj\"}).text\n",
    "category"
   ]
  },
  {
   "cell_type": "code",
   "execution_count": 24,
   "metadata": {},
   "outputs": [],
   "source": [
    "contents = soup.find(\"div\",{\"class\":\"URRHzM+F\"})"
   ]
  },
  {
   "cell_type": "code",
   "execution_count": 30,
   "metadata": {},
   "outputs": [
    {
     "name": "stdout",
     "output_type": "stream",
     "text": [
      "대한민국 국적의 FC 바이에른 뮌헨 소속 축구 선수. 포지션은 센터백이다.22-23 시즌 SSC 나폴리에서의 뛰어난 활약으로 33년 만에 팀의 세리에 A 우승을 이끌며 세리에 A 올해의 팀과 세리에 A 최우수 수비수를 수상했다.\n"
     ]
    }
   ],
   "source": [
    "# 개요의 부모를 찾아서, 다음형제로 이동\n",
    "cont = contents.find(\"span\",{\"id\":\"개요\"}).parent.nextSibling.text\n",
    "print(cont)"
   ]
  },
  {
   "cell_type": "code",
   "execution_count": null,
   "metadata": {},
   "outputs": [],
   "source": [
    "for i in range():\n",
    "    # 상세페이지 title,category,content 가져오기 예시\n",
    "    url = 'https://namu.wiki/w/%EA%B9%80%EB%AF%BC%EC%9E%AC'\n",
    "    res = requests.get(url)\n",
    "    res.raise_for_status()\n",
    "    # 데이터 불러오기\n",
    "    soup = BeautifulSoup(res.text,'lxml')"
   ]
  }
 ],
 "metadata": {
  "kernelspec": {
   "display_name": "Python 3",
   "language": "python",
   "name": "python3"
  },
  "language_info": {
   "codemirror_mode": {
    "name": "ipython",
    "version": 3
   },
   "file_extension": ".py",
   "mimetype": "text/x-python",
   "name": "python",
   "nbconvert_exporter": "python",
   "pygments_lexer": "ipython3",
   "version": "3.12.0"
  }
 },
 "nbformat": 4,
 "nbformat_minor": 2
}
