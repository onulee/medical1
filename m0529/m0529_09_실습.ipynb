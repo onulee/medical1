{
 "cells": [
  {
   "cell_type": "code",
   "execution_count": null,
   "metadata": {},
   "outputs": [],
   "source": [
    "# train.csv, t10k.csv \n",
    "# 딥러닝 구현\n",
    "# 콜백,조기종료 까지 \n",
    "# 조기 종료는 몇번째 이뤄졌는지 출력\n",
    "# 최종 검증세트 정답률을 출력하시오.\n"
   ]
  }
 ],
 "metadata": {
  "language_info": {
   "name": "python"
  }
 },
 "nbformat": 4,
 "nbformat_minor": 2
}
