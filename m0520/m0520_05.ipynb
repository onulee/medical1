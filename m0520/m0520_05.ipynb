{
 "cells": [
  {
   "cell_type": "code",
   "execution_count": 86,
   "metadata": {},
   "outputs": [
    {
     "name": "stdout",
     "output_type": "stream",
     "text": [
      "매칭 되지 않았습니다.\n"
     ]
    }
   ],
   "source": [
    "import re\n",
    "# 정규표현식\n",
    "p = re.compile(\"ca.e\") # 정규표현식을 지정\n",
    "word = 'caffe'\n",
    "word2 = 'care'\n",
    "word3 = 'cark'\n",
    "\n",
    "if p.match(word):\n",
    "    print(\"매칭이 되었습니다.\")\n",
    "else:\n",
    "    print(\"매칭 되지 않았습니다.\")    "
   ]
  },
  {
   "cell_type": "code",
   "execution_count": 88,
   "metadata": {},
   "outputs": [
    {
     "name": "stdout",
     "output_type": "stream",
     "text": [
      "매칭되지 않았습니다. adesk 입니다\n"
     ]
    }
   ],
   "source": [
    "#  ^de : 첫시작이 de로 시작되어야 함.\n",
    "\n",
    "word = 'adesk 입니다'\n",
    "if re.match(r'^(de)',word): # 시작이 de로 시작되어야 함.\n",
    "    print(\"매칭되었습니다.\",word)\n",
    "else:\n",
    "    print(\"매칭되지 않았습니다.\",word)    "
   ]
  },
  {
   "cell_type": "code",
   "execution_count": 106,
   "metadata": {},
   "outputs": [
    {
     "name": "stdout",
     "output_type": "stream",
     "text": [
      "매칭되지 않았습니다. casee\n"
     ]
    }
   ],
   "source": [
    "#  se$ : 첫시작이 de로 시작되어야 함.\n",
    "# match : 정확히 일치해야 True\n",
    "# search : 포함이 되어 있으면 True\n",
    "\n",
    "word = 'casee'\n",
    "p = re.compile(\"(se$)\") # 정규표현식을 지정\n",
    "if p.search(word): # 시작이 de로 시작되어야 함.\n",
    "    print(\"매칭되었습니다.\",word)\n",
    "else:\n",
    "    print(\"매칭되지 않았습니다.\",word)  "
   ]
  },
  {
   "cell_type": "code",
   "execution_count": 112,
   "metadata": {},
   "outputs": [
    {
     "name": "stdout",
     "output_type": "stream",
     "text": [
      "매칭 안됨 bbcdef\n"
     ]
    }
   ],
   "source": [
    "# {3} : 3자리가 들어와야 True\n",
    "# {2,3} : 2~3자리가 들어와 True\n",
    "# ^ 시작\n",
    "# [ ] : []안에 있는 글자만 True\n",
    "# a-z : abcdefg....xyz\n",
    "# A-Z : ABCDEF....XYZ\n",
    "# 0-9 : 012345...9\n",
    "# ㄱ-ㅎ가-힣 : 국문만 가능\n",
    "\n",
    "# 첫글자가 a 이면서, 영문소문자가 5개만 들어올수 있음\n",
    "word = 'bbcdef'\n",
    "if re.match(r'^a{1}[a-z]{5}$',word):\n",
    "    print(\"매칭 됨\",word)\n",
    "else:\n",
    "    print(\"매칭 안됨\",word)   \n",
    "    \n",
    "     "
   ]
  },
  {
   "cell_type": "code",
   "execution_count": 116,
   "metadata": {},
   "outputs": [
    {
     "name": "stdout",
     "output_type": "stream",
     "text": [
      "매칭되지 않음 0101234-4567\n"
     ]
    }
   ],
   "source": [
    "word =\"010-1234-4567\"\n",
    "if re.search('[0-9]{2,3}-[0-9]{4}-[0-9]{4}', word):\n",
    "    print(\"매칭되었습니다.\",word)\n",
    "else:\n",
    "    print(\"매칭되지 않음\",word)    "
   ]
  },
  {
   "cell_type": "code",
   "execution_count": 77,
   "metadata": {},
   "outputs": [
    {
     "name": "stdout",
     "output_type": "stream",
     "text": [
      "오답입니다. 1234567\n",
      "오답입니다. 123\n",
      "오답입니다. a12345\n",
      "오답입니다. 12345a\n",
      "오답입니다. 010101\n",
      "정답입니다. 101010\n"
     ]
    }
   ],
   "source": [
    "# 데이터를 입력받아,  첫글자 1, 길이가 6자리 숫자만 입력가능 입력이 되면\n",
    "# 제대로 입력되었습니다.\n",
    "# 다시 입력하세요라고 출력되겠끔 구현하시오.\n",
    "# 제대로 입력되어야지만, 프로그램을 종료 시키시오.\n",
    "\n",
    "while True:\n",
    "    data = input(\"데이터를 입력하세요.\")\n",
    "    if data.isdigit() and data[0]=='1' and len(data)==6:\n",
    "        print(\"정답입니다.\",data)\n",
    "        break\n",
    "    else:\n",
    "        print(\"오답입니다.\",data)        "
   ]
  },
  {
   "cell_type": "code",
   "execution_count": null,
   "metadata": {},
   "outputs": [],
   "source": [
    "12345"
   ]
  }
 ],
 "metadata": {
  "kernelspec": {
   "display_name": "Python 3",
   "language": "python",
   "name": "python3"
  },
  "language_info": {
   "codemirror_mode": {
    "name": "ipython",
    "version": 3
   },
   "file_extension": ".py",
   "mimetype": "text/x-python",
   "name": "python",
   "nbconvert_exporter": "python",
   "pygments_lexer": "ipython3",
   "version": "3.12.0"
  }
 },
 "nbformat": 4,
 "nbformat_minor": 2
}
