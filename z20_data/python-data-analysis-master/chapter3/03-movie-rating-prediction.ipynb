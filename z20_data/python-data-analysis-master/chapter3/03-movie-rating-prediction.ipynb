{
 "cells": [
  {
   "cell_type": "markdown",
   "metadata": {},
   "source": [
    "Copyright (c) 2019 [윤기태]\n",
    "\n",
    "https://github.com/yoonkt200/python-data-analysis\n",
    "\n",
    "[MIT License](https://github.com/yoonkt200/python-data-analysis/blob/master/LICENSE.txt)"
   ]
  },
  {
   "cell_type": "markdown",
   "metadata": {},
   "source": [
    "# (가제) 파이썬 데이터 분석"
   ]
  },
  {
   "cell_type": "markdown",
   "metadata": {},
   "source": [
    "-----"
   ]
  },
  {
   "cell_type": "markdown",
   "metadata": {},
   "source": [
    "# 3.3) 미래에 볼 영화의 평점 예측하기"
   ]
  },
  {
   "cell_type": "markdown",
   "metadata": {},
   "source": [
    "### 바로가기"
   ]
  },
  {
   "cell_type": "markdown",
   "metadata": {},
   "source": [
    "- [<Step1. 탐색> : MovieLens 데이터 살펴보기](#<Step1.-탐색>-:-MovieLens-데이터-살펴보기)\n",
    "    - [MovieLens 데이터셋의 기본 정보]\n",
    "- [<Step2. 분석> : 탐색적 데이터 분석](#<Step2.-분석>-:-탐색적-데이터-분석)\n",
    "    - [분석할 영화의 정보 탐색하기]\n",
    "    - [장르의 속성 탐색]\n",
    "    - [분석할 유저의 정보 탐색하기]\n",
    "    - [평점 데이터의 정보 탐색하기]\n",
    "    - [user-movie 형태의 테이블로 살펴보기]\n",
    "- [<Step3. 예측> : 수학적 기법을 활용한 평점 예측](#<Step3.-예측>-:-수학적-기법을-활용한-평점-예측)\n",
    "    - [SVD를 활용한 빈칸 채우기]\n",
    "    - [아직 평가하지 않은 영화의 점수 예측하기]\n",
    "- [<Step4. 평가> : 예측 모델 평가하기](#<Step4.-평가>-:-예측-모델-평가하기)\n",
    "    - [예측 모델의 평가 방법]\n",
    "    - [실제 평점과의 비교 시각화]\n",
    "    - [한걸음 더 : 20대가 좋아할만한 영화를 예측해보자]"
   ]
  },
  {
   "cell_type": "markdown",
   "metadata": {},
   "source": [
    "-----"
   ]
  },
  {
   "cell_type": "code",
   "execution_count": 1,
   "metadata": {},
   "outputs": [],
   "source": [
    "# -*- coding: utf-8 -*-\n",
    "\n",
    "%matplotlib inline\n",
    "\n",
    "import time\n",
    "import operator\n",
    "\n",
    "import pandas as pd\n",
    "import numpy as np\n",
    "import matplotlib.pyplot as plt\n",
    "import seaborn as sns\n",
    "\n",
    "import warnings\n",
    "warnings.filterwarnings(\"ignore\")"
   ]
  },
  {
   "cell_type": "markdown",
   "metadata": {},
   "source": [
    "# <Step1. 탐색> : MovieLens 데이터 살펴보기"
   ]
  },
  {
   "cell_type": "markdown",
   "metadata": {},
   "source": [
    "### [MovieLens 데이터셋의 기본 정보]"
   ]
  },
  {
   "cell_type": "code",
   "execution_count": 2,
   "metadata": {},
   "outputs": [],
   "source": [
    "# Data Source : https://grouplens.org/datasets/movielens\n",
    "\n",
    "rating_file_path = \"../data/ml-1m/ratings.dat\"\n",
    "movie_file_path = \"../data/ml-1m/movies.dat\"\n",
    "user_file_path = \"../data/ml-1m/users.dat\"\n",
    "\n",
    "rating_data = pd.io.parsers.read_csv(rating_file_path, \n",
    "                                     names=['user_id', 'movie_id', 'rating', 'time'], delimiter='::')\n",
    "movie_data = pd.io.parsers.read_csv(movie_file_path, \n",
    "                                    names=['movie_id', 'title', 'genre'], delimiter='::')\n",
    "user_data = pd.io.parsers.read_csv(user_file_path, \n",
    "                                   names=['user_id', 'gender', 'age', 'occupation', 'zipcode'], delimiter='::')"
   ]
  },
  {
   "cell_type": "code",
   "execution_count": 3,
   "metadata": {},
   "outputs": [
    {
     "data": {
      "text/html": [
       "<div>\n",
       "<style scoped>\n",
       "    .dataframe tbody tr th:only-of-type {\n",
       "        vertical-align: middle;\n",
       "    }\n",
       "\n",
       "    .dataframe tbody tr th {\n",
       "        vertical-align: top;\n",
       "    }\n",
       "\n",
       "    .dataframe thead th {\n",
       "        text-align: right;\n",
       "    }\n",
       "</style>\n",
       "<table border=\"1\" class=\"dataframe\">\n",
       "  <thead>\n",
       "    <tr style=\"text-align: right;\">\n",
       "      <th></th>\n",
       "      <th>user_id</th>\n",
       "      <th>movie_id</th>\n",
       "      <th>rating</th>\n",
       "      <th>time</th>\n",
       "    </tr>\n",
       "  </thead>\n",
       "  <tbody>\n",
       "    <tr>\n",
       "      <th>0</th>\n",
       "      <td>1</td>\n",
       "      <td>1193</td>\n",
       "      <td>5</td>\n",
       "      <td>978300760</td>\n",
       "    </tr>\n",
       "    <tr>\n",
       "      <th>1</th>\n",
       "      <td>1</td>\n",
       "      <td>661</td>\n",
       "      <td>3</td>\n",
       "      <td>978302109</td>\n",
       "    </tr>\n",
       "    <tr>\n",
       "      <th>2</th>\n",
       "      <td>1</td>\n",
       "      <td>914</td>\n",
       "      <td>3</td>\n",
       "      <td>978301968</td>\n",
       "    </tr>\n",
       "    <tr>\n",
       "      <th>3</th>\n",
       "      <td>1</td>\n",
       "      <td>3408</td>\n",
       "      <td>4</td>\n",
       "      <td>978300275</td>\n",
       "    </tr>\n",
       "    <tr>\n",
       "      <th>4</th>\n",
       "      <td>1</td>\n",
       "      <td>2355</td>\n",
       "      <td>5</td>\n",
       "      <td>978824291</td>\n",
       "    </tr>\n",
       "  </tbody>\n",
       "</table>\n",
       "</div>"
      ],
      "text/plain": [
       "   user_id  movie_id  rating       time\n",
       "0        1      1193       5  978300760\n",
       "1        1       661       3  978302109\n",
       "2        1       914       3  978301968\n",
       "3        1      3408       4  978300275\n",
       "4        1      2355       5  978824291"
      ]
     },
     "execution_count": 3,
     "metadata": {},
     "output_type": "execute_result"
    }
   ],
   "source": [
    "rating_data.head()"
   ]
  },
  {
   "cell_type": "code",
   "execution_count": 4,
   "metadata": {},
   "outputs": [
    {
     "data": {
      "text/html": [
       "<div>\n",
       "<style scoped>\n",
       "    .dataframe tbody tr th:only-of-type {\n",
       "        vertical-align: middle;\n",
       "    }\n",
       "\n",
       "    .dataframe tbody tr th {\n",
       "        vertical-align: top;\n",
       "    }\n",
       "\n",
       "    .dataframe thead th {\n",
       "        text-align: right;\n",
       "    }\n",
       "</style>\n",
       "<table border=\"1\" class=\"dataframe\">\n",
       "  <thead>\n",
       "    <tr style=\"text-align: right;\">\n",
       "      <th></th>\n",
       "      <th>movie_id</th>\n",
       "      <th>title</th>\n",
       "      <th>genre</th>\n",
       "    </tr>\n",
       "  </thead>\n",
       "  <tbody>\n",
       "    <tr>\n",
       "      <th>0</th>\n",
       "      <td>1</td>\n",
       "      <td>Toy Story (1995)</td>\n",
       "      <td>Animation|Children's|Comedy</td>\n",
       "    </tr>\n",
       "    <tr>\n",
       "      <th>1</th>\n",
       "      <td>2</td>\n",
       "      <td>Jumanji (1995)</td>\n",
       "      <td>Adventure|Children's|Fantasy</td>\n",
       "    </tr>\n",
       "    <tr>\n",
       "      <th>2</th>\n",
       "      <td>3</td>\n",
       "      <td>Grumpier Old Men (1995)</td>\n",
       "      <td>Comedy|Romance</td>\n",
       "    </tr>\n",
       "    <tr>\n",
       "      <th>3</th>\n",
       "      <td>4</td>\n",
       "      <td>Waiting to Exhale (1995)</td>\n",
       "      <td>Comedy|Drama</td>\n",
       "    </tr>\n",
       "    <tr>\n",
       "      <th>4</th>\n",
       "      <td>5</td>\n",
       "      <td>Father of the Bride Part II (1995)</td>\n",
       "      <td>Comedy</td>\n",
       "    </tr>\n",
       "  </tbody>\n",
       "</table>\n",
       "</div>"
      ],
      "text/plain": [
       "   movie_id                               title                         genre\n",
       "0         1                    Toy Story (1995)   Animation|Children's|Comedy\n",
       "1         2                      Jumanji (1995)  Adventure|Children's|Fantasy\n",
       "2         3             Grumpier Old Men (1995)                Comedy|Romance\n",
       "3         4            Waiting to Exhale (1995)                  Comedy|Drama\n",
       "4         5  Father of the Bride Part II (1995)                        Comedy"
      ]
     },
     "execution_count": 4,
     "metadata": {},
     "output_type": "execute_result"
    }
   ],
   "source": [
    "movie_data.head()"
   ]
  },
  {
   "cell_type": "code",
   "execution_count": 5,
   "metadata": {},
   "outputs": [
    {
     "data": {
      "text/html": [
       "<div>\n",
       "<style scoped>\n",
       "    .dataframe tbody tr th:only-of-type {\n",
       "        vertical-align: middle;\n",
       "    }\n",
       "\n",
       "    .dataframe tbody tr th {\n",
       "        vertical-align: top;\n",
       "    }\n",
       "\n",
       "    .dataframe thead th {\n",
       "        text-align: right;\n",
       "    }\n",
       "</style>\n",
       "<table border=\"1\" class=\"dataframe\">\n",
       "  <thead>\n",
       "    <tr style=\"text-align: right;\">\n",
       "      <th></th>\n",
       "      <th>user_id</th>\n",
       "      <th>gender</th>\n",
       "      <th>age</th>\n",
       "      <th>occupation</th>\n",
       "      <th>zipcode</th>\n",
       "    </tr>\n",
       "  </thead>\n",
       "  <tbody>\n",
       "    <tr>\n",
       "      <th>0</th>\n",
       "      <td>1</td>\n",
       "      <td>F</td>\n",
       "      <td>1</td>\n",
       "      <td>10</td>\n",
       "      <td>48067</td>\n",
       "    </tr>\n",
       "    <tr>\n",
       "      <th>1</th>\n",
       "      <td>2</td>\n",
       "      <td>M</td>\n",
       "      <td>56</td>\n",
       "      <td>16</td>\n",
       "      <td>70072</td>\n",
       "    </tr>\n",
       "    <tr>\n",
       "      <th>2</th>\n",
       "      <td>3</td>\n",
       "      <td>M</td>\n",
       "      <td>25</td>\n",
       "      <td>15</td>\n",
       "      <td>55117</td>\n",
       "    </tr>\n",
       "    <tr>\n",
       "      <th>3</th>\n",
       "      <td>4</td>\n",
       "      <td>M</td>\n",
       "      <td>45</td>\n",
       "      <td>7</td>\n",
       "      <td>02460</td>\n",
       "    </tr>\n",
       "    <tr>\n",
       "      <th>4</th>\n",
       "      <td>5</td>\n",
       "      <td>M</td>\n",
       "      <td>25</td>\n",
       "      <td>20</td>\n",
       "      <td>55455</td>\n",
       "    </tr>\n",
       "  </tbody>\n",
       "</table>\n",
       "</div>"
      ],
      "text/plain": [
       "   user_id gender  age  occupation zipcode\n",
       "0        1      F    1          10   48067\n",
       "1        2      M   56          16   70072\n",
       "2        3      M   25          15   55117\n",
       "3        4      M   45           7   02460\n",
       "4        5      M   25          20   55455"
      ]
     },
     "execution_count": 5,
     "metadata": {},
     "output_type": "execute_result"
    }
   ],
   "source": [
    "user_data.head()"
   ]
  },
  {
   "cell_type": "code",
   "execution_count": 6,
   "metadata": {},
   "outputs": [
    {
     "name": "stdout",
     "output_type": "stream",
     "text": [
      "user_id     0\n",
      "movie_id    0\n",
      "rating      0\n",
      "time        0\n",
      "dtype: int64\n",
      "movie_id    0\n",
      "title       0\n",
      "genre       0\n",
      "dtype: int64\n",
      "user_id       0\n",
      "gender        0\n",
      "age           0\n",
      "occupation    0\n",
      "zipcode       0\n",
      "dtype: int64\n"
     ]
    }
   ],
   "source": [
    "print(rating_data.isnull().sum())\n",
    "print(movie_data.isnull().sum())\n",
    "print(user_data.isnull().sum())"
   ]
  },
  {
   "cell_type": "markdown",
   "metadata": {},
   "source": [
    "-----"
   ]
  },
  {
   "cell_type": "markdown",
   "metadata": {},
   "source": [
    "# <Step2. 분석> : 탐색적 데이터 분석"
   ]
  },
  {
   "cell_type": "markdown",
   "metadata": {},
   "source": [
    "### [분석할 영화의 정보 탐색하기]"
   ]
  },
  {
   "cell_type": "code",
   "execution_count": 7,
   "metadata": {},
   "outputs": [
    {
     "name": "stdout",
     "output_type": "stream",
     "text": [
      "total number of movie in data : 3883\n"
     ]
    },
    {
     "data": {
      "text/plain": [
       "1996    345\n",
       "1995    342\n",
       "1998    337\n",
       "1997    315\n",
       "1999    283\n",
       "1994    257\n",
       "1993    165\n",
       "2000    156\n",
       "1986    104\n",
       "1992    102\n",
       "Name: year, dtype: int64"
      ]
     },
     "execution_count": 7,
     "metadata": {},
     "output_type": "execute_result"
    }
   ],
   "source": [
    "# 총 영화의 개수를 출력합니다.\n",
    "print(\"total number of movie in data :\", len(movie_data['movie_id'].unique()))\n",
    "\n",
    "# 연도별 영화 개수가 많은 Top 10 년도를 출력합니다.\n",
    "movie_data['year'] = movie_data['title'].apply(lambda x: x[-5:-1])\n",
    "movie_data['year'].value_counts().head(10)"
   ]
  },
  {
   "cell_type": "markdown",
   "metadata": {},
   "source": [
    "-----"
   ]
  },
  {
   "cell_type": "markdown",
   "metadata": {},
   "source": [
    "### `[미니 퀴즈 - 3.3]`\n",
    "- `영화 데이터에 대한 탐색적 데이터 분석을 더 실행해 봅시다. 영화의 연대별 갯수를 탐색해 보세요.`"
   ]
  },
  {
   "cell_type": "code",
   "execution_count": 8,
   "metadata": {},
   "outputs": [
    {
     "name": "stdout",
     "output_type": "stream",
     "text": [
      "1910       3\n",
      "1920      34\n",
      "1930      77\n",
      "1940     126\n",
      "1950     168\n",
      "1960     191\n",
      "1970     247\n",
      "1980     598\n",
      "1990    2283\n",
      "2000     156\n",
      "Name: year_term, dtype: int64\n"
     ]
    }
   ],
   "source": [
    "# 연대별 영화의 개수를 출력합니다.\n",
    "movie_data['year_term'] = movie_data['title'].apply(lambda x: x[-5:-2]+\"0\")\n",
    "moview_year_term = movie_data['year_term'].value_counts().sort_index()\n",
    "print(moview_year_term)"
   ]
  },
  {
   "cell_type": "code",
   "execution_count": 9,
   "metadata": {},
   "outputs": [
    {
     "data": {
      "image/png": "[encoded data removed]",
      "text/plain": [
       "<Figure size 432x288 with 1 Axes>"
      ]
     },
     "metadata": {
      "needs_background": "light"
     },
     "output_type": "display_data"
    }
   ],
   "source": [
    "sns.barplot(moview_year_term.index, moview_year_term.values, alpha=0.8)\n",
    "plt.title('Movie data by years generation')\n",
    "plt.ylabel('Number of Movies', fontsize=12)\n",
    "plt.xlabel('Years', fontsize=12)\n",
    "plt.show()"
   ]
  },
  {
   "cell_type": "markdown",
   "metadata": {},
   "source": [
    "-----"
   ]
  },
  {
   "cell_type": "markdown",
   "metadata": {},
   "source": [
    "### [장르의 속성 탐색] "
   ]
  },
  {
   "cell_type": "code",
   "execution_count": 10,
   "metadata": {},
   "outputs": [
    {
     "data": {
      "text/plain": [
       "Drama             843\n",
       "Comedy            521\n",
       "Horror            178\n",
       "Comedy|Drama      162\n",
       "Comedy|Romance    142\n",
       "Drama|Romance     134\n",
       "Documentary       116\n",
       "Thriller          101\n",
       "Action             65\n",
       "Drama|Thriller     63\n",
       "Name: genre, dtype: int64"
      ]
     },
     "execution_count": 10,
     "metadata": {},
     "output_type": "execute_result"
    }
   ],
   "source": [
    "# 가장 많이 사용된 장르의 조합을 출력합니다. (Top 10)\n",
    "movie_data['genre'].value_counts()[:10]"
   ]
  },
  {
   "cell_type": "markdown",
   "metadata": {},
   "source": [
    "-----"
   ]
  },
  {
   "cell_type": "code",
   "execution_count": 11,
   "metadata": {},
   "outputs": [
    {
     "name": "stdout",
     "output_type": "stream",
     "text": [
      "{'Animation': 105, \"Children's\": 251, 'Comedy': 1200, 'Adventure': 283, 'Fantasy': 68, 'Romance': 471, 'Drama': 1603, 'Action': 503, 'Crime': 211, 'Thriller': 492, 'Horror': 343, 'Sci-Fi': 276, 'Documentary': 127, 'War': 143, 'Musical': 114, 'Mystery': 106, 'Film-Noir': 44, 'Western': 68}\n"
     ]
    }
   ],
   "source": [
    "# 가장 많이 등장한 장르의 속성을 추출합니다. (예시 : Drama)\n",
    "unique_genre_dict = {}\n",
    "for index, row in movie_data.iterrows():\n",
    "    \n",
    "    # genre 피처를 ‘|’ 구분자로 분리합니다.\n",
    "    genre_combination = row['genre']\n",
    "    parsed_genre = genre_combination.split(\"|\")\n",
    "    \n",
    "    # 구분자로 분리한 장르의 속성을 unique_genre_dict에 각각 계산하여 저장합니다.\n",
    "    for genre in parsed_genre:\n",
    "        if genre in unique_genre_dict:\n",
    "            unique_genre_dict[genre] += 1\n",
    "        else:\n",
    "            unique_genre_dict[genre] = 1\n",
    "            \n",
    "print(unique_genre_dict)"
   ]
  },
  {
   "cell_type": "code",
   "execution_count": 12,
   "metadata": {},
   "outputs": [
    {
     "data": {
      "image/png": "[encoded data removed]",
      "text/plain": [
       "<Figure size 1440x1152 with 1 Axes>"
      ]
     },
     "metadata": {
      "needs_background": "light"
     },
     "output_type": "display_data"
    }
   ],
   "source": [
    "# unique_genre_dict를 이용하여 장르의 속성을 그래프로 출력합니다.\n",
    "plt.rcParams['figure.figsize'] = [20, 16]\n",
    "sns.barplot(list(unique_genre_dict.keys()), list(unique_genre_dict.values()), alpha=0.8)\n",
    "plt.title('Popular genre in movies')\n",
    "plt.ylabel('Count of Genre', fontsize=12)\n",
    "plt.xlabel('Genre', fontsize=12)\n",
    "plt.show()"
   ]
  },
  {
   "cell_type": "markdown",
   "metadata": {},
   "source": [
    "-----"
   ]
  },
  {
   "cell_type": "markdown",
   "metadata": {},
   "source": [
    "### [분석할 유저의 정보 탐색하기]"
   ]
  },
  {
   "cell_type": "code",
   "execution_count": 13,
   "metadata": {},
   "outputs": [
    {
     "name": "stdout",
     "output_type": "stream",
     "text": [
      "total number of user in data : 6040\n"
     ]
    }
   ],
   "source": [
    "# 유저의 수를 탐색합니다.\n",
    "print(\"total number of user in data :\", len(user_data['user_id'].unique()))"
   ]
  },
  {
   "cell_type": "markdown",
   "metadata": {},
   "source": [
    "-----"
   ]
  },
  {
   "cell_type": "markdown",
   "metadata": {},
   "source": [
    "### `[미니 퀴즈 - 3.4]`\n",
    "- `유저 데이터에 대한 탐색적 데이터 분석을 실행해 봅시다. 아래의 질문들에 답해보세요.` \n",
    "    - 유저의 성별 탐색\n",
    "    - 유저의 연령대 탐색"
   ]
  },
  {
   "cell_type": "code",
   "execution_count": 14,
   "metadata": {},
   "outputs": [
    {
     "data": {
      "image/png": "[encoded data removed]",
      "text/plain": [
       "<Figure size 288x288 with 1 Axes>"
      ]
     },
     "metadata": {
      "needs_background": "light"
     },
     "output_type": "display_data"
    }
   ],
   "source": [
    "# 유저의 성별을 탐색합니다.\n",
    "plt.rcParams['figure.figsize'] = [4, 4]\n",
    "user_gender = user_data['gender'].value_counts()\n",
    "sns.barplot(user_gender.index, user_gender.values, alpha=0.8)\n",
    "plt.title('Gender ratio of user')\n",
    "plt.ylabel('Count', fontsize=12)\n",
    "plt.xlabel('Gender', fontsize=12)\n",
    "plt.show()"
   ]
  },
  {
   "cell_type": "code",
   "execution_count": 15,
   "metadata": {},
   "outputs": [
    {
     "data": {
      "text/plain": [
       "25    2096\n",
       "35    1193\n",
       "18    1103\n",
       "45     550\n",
       "50     496\n",
       "56     380\n",
       "1      222\n",
       "Name: age, dtype: int64"
      ]
     },
     "execution_count": 15,
     "metadata": {},
     "output_type": "execute_result"
    }
   ],
   "source": [
    "# 유저의 연령대를 탐색합니다.\n",
    "user_data['age'].value_counts()"
   ]
  },
  {
   "cell_type": "code",
   "execution_count": 16,
   "metadata": {},
   "outputs": [],
   "source": [
    "def age_classification(age):\n",
    "    if age == 1:\n",
    "        return 'outlier'\n",
    "    else:\n",
    "        return str(age)[0] + \"0\"\n",
    "\n",
    "user_data['ages'] = user_data['age'].apply(lambda x: age_classification(x))\n",
    "user_ages = user_data['ages'].value_counts()"
   ]
  },
  {
   "cell_type": "code",
   "execution_count": 17,
   "metadata": {},
   "outputs": [
    {
     "data": {
      "image/png": "[encoded data removed]",
      "text/plain": [
       "<Figure size 288x288 with 1 Axes>"
      ]
     },
     "metadata": {
      "needs_background": "light"
     },
     "output_type": "display_data"
    }
   ],
   "source": [
    "sns.barplot(user_ages.index, user_ages.values, alpha=0.8)\n",
    "plt.title('User ages')\n",
    "plt.ylabel('Count', fontsize=12)\n",
    "plt.xlabel('Ages', fontsize=12)\n",
    "plt.show()"
   ]
  },
  {
   "cell_type": "markdown",
   "metadata": {},
   "source": [
    "-----"
   ]
  },
  {
   "cell_type": "markdown",
   "metadata": {},
   "source": [
    "### [평점 데이터의 정보 탐색하기]"
   ]
  },
  {
   "cell_type": "code",
   "execution_count": 18,
   "metadata": {},
   "outputs": [
    {
     "data": {
      "image/png": "[encoded data removed]",
      "text/plain": [
       "<Figure size 576x576 with 1 Axes>"
      ]
     },
     "metadata": {
      "needs_background": "light"
     },
     "output_type": "display_data"
    }
   ],
   "source": [
    "# 각 영화들이 평가받은 횟수를 탐색합니다.\n",
    "movie_rate_count = rating_data.groupby('movie_id')['rating'].count().values\n",
    "plt.rcParams['figure.figsize'] = [8, 8]\n",
    "fig = plt.hist(movie_rate_count, bins=200)\n",
    "plt.ylabel('Count', fontsize=12)\n",
    "plt.xlabel(\"Movie's rated count\", fontsize=12)\n",
    "plt.show()"
   ]
  },
  {
   "cell_type": "code",
   "execution_count": 19,
   "metadata": {},
   "outputs": [
    {
     "name": "stdout",
     "output_type": "stream",
     "text": [
      "total number of movie in data : 3883\n",
      "total number of movie rated below 100 : 1687\n"
     ]
    }
   ],
   "source": [
    "print(\"total number of movie in data :\", len(movie_data['movie_id'].unique()))\n",
    "print(\"total number of movie rated below 100 :\", len(movie_rate_count[movie_rate_count < 100]))"
   ]
  },
  {
   "cell_type": "markdown",
   "metadata": {},
   "source": [
    "-----"
   ]
  },
  {
   "cell_type": "code",
   "execution_count": 20,
   "metadata": {},
   "outputs": [],
   "source": [
    "# 영화별 평균 평점을 탐색합니다.\n",
    "movie_grouped_rating_info = rating_data.groupby(\"movie_id\")['rating'].agg(['count','mean'])\n",
    "movie_grouped_rating_info.columns = ['rated_count', 'rating_mean']"
   ]
  },
  {
   "cell_type": "code",
   "execution_count": 21,
   "metadata": {},
   "outputs": [
    {
     "data": {
      "text/html": [
       "<div>\n",
       "<style scoped>\n",
       "    .dataframe tbody tr th:only-of-type {\n",
       "        vertical-align: middle;\n",
       "    }\n",
       "\n",
       "    .dataframe tbody tr th {\n",
       "        vertical-align: top;\n",
       "    }\n",
       "\n",
       "    .dataframe thead th {\n",
       "        text-align: right;\n",
       "    }\n",
       "</style>\n",
       "<table border=\"1\" class=\"dataframe\">\n",
       "  <thead>\n",
       "    <tr style=\"text-align: right;\">\n",
       "      <th></th>\n",
       "      <th>rated_count</th>\n",
       "      <th>rating_mean</th>\n",
       "    </tr>\n",
       "    <tr>\n",
       "      <th>movie_id</th>\n",
       "      <th></th>\n",
       "      <th></th>\n",
       "    </tr>\n",
       "  </thead>\n",
       "  <tbody>\n",
       "    <tr>\n",
       "      <th>1</th>\n",
       "      <td>2077</td>\n",
       "      <td>4.146846</td>\n",
       "    </tr>\n",
       "    <tr>\n",
       "      <th>2</th>\n",
       "      <td>701</td>\n",
       "      <td>3.201141</td>\n",
       "    </tr>\n",
       "    <tr>\n",
       "      <th>3</th>\n",
       "      <td>478</td>\n",
       "      <td>3.016736</td>\n",
       "    </tr>\n",
       "    <tr>\n",
       "      <th>4</th>\n",
       "      <td>170</td>\n",
       "      <td>2.729412</td>\n",
       "    </tr>\n",
       "    <tr>\n",
       "      <th>5</th>\n",
       "      <td>296</td>\n",
       "      <td>3.006757</td>\n",
       "    </tr>\n",
       "  </tbody>\n",
       "</table>\n",
       "</div>"
      ],
      "text/plain": [
       "          rated_count  rating_mean\n",
       "movie_id                          \n",
       "1                2077     4.146846\n",
       "2                 701     3.201141\n",
       "3                 478     3.016736\n",
       "4                 170     2.729412\n",
       "5                 296     3.006757"
      ]
     },
     "execution_count": 21,
     "metadata": {},
     "output_type": "execute_result"
    }
   ],
   "source": [
    "movie_grouped_rating_info.head(5)"
   ]
  },
  {
   "cell_type": "code",
   "execution_count": 22,
   "metadata": {},
   "outputs": [
    {
     "data": {
      "text/plain": [
       "<AxesSubplot:>"
      ]
     },
     "execution_count": 22,
     "metadata": {},
     "output_type": "execute_result"
    },
    {
     "data": {
      "image/png": "[encoded data removed]",
      "text/plain": [
       "<Figure size 576x576 with 1 Axes>"
      ]
     },
     "metadata": {
      "needs_background": "light"
     },
     "output_type": "display_data"
    }
   ],
   "source": [
    "movie_grouped_rating_info['rating_mean'].hist(bins=150, grid=False)"
   ]
  },
  {
   "cell_type": "markdown",
   "metadata": {},
   "source": [
    "-----"
   ]
  },
  {
   "cell_type": "code",
   "execution_count": 23,
   "metadata": {},
   "outputs": [
    {
     "data": {
      "text/html": [
       "<div>\n",
       "<style scoped>\n",
       "    .dataframe tbody tr th:only-of-type {\n",
       "        vertical-align: middle;\n",
       "    }\n",
       "\n",
       "    .dataframe tbody tr th {\n",
       "        vertical-align: top;\n",
       "    }\n",
       "\n",
       "    .dataframe thead th {\n",
       "        text-align: right;\n",
       "    }\n",
       "</style>\n",
       "<table border=\"1\" class=\"dataframe\">\n",
       "  <thead>\n",
       "    <tr style=\"text-align: right;\">\n",
       "      <th></th>\n",
       "      <th>rating_mean</th>\n",
       "      <th>title</th>\n",
       "    </tr>\n",
       "  </thead>\n",
       "  <tbody>\n",
       "    <tr>\n",
       "      <th>1839</th>\n",
       "      <td>4.560510</td>\n",
       "      <td>Seven Samurai (The Magnificent Seven) (Shichin...</td>\n",
       "    </tr>\n",
       "    <tr>\n",
       "      <th>309</th>\n",
       "      <td>4.554558</td>\n",
       "      <td>Shawshank Redemption, The (1994)</td>\n",
       "    </tr>\n",
       "    <tr>\n",
       "      <th>802</th>\n",
       "      <td>4.524966</td>\n",
       "      <td>Godfather, The (1972)</td>\n",
       "    </tr>\n",
       "    <tr>\n",
       "      <th>708</th>\n",
       "      <td>4.520548</td>\n",
       "      <td>Close Shave, A (1995)</td>\n",
       "    </tr>\n",
       "    <tr>\n",
       "      <th>49</th>\n",
       "      <td>4.517106</td>\n",
       "      <td>Usual Suspects, The (1995)</td>\n",
       "    </tr>\n",
       "    <tr>\n",
       "      <th>513</th>\n",
       "      <td>4.510417</td>\n",
       "      <td>Schindler's List (1993)</td>\n",
       "    </tr>\n",
       "    <tr>\n",
       "      <th>1066</th>\n",
       "      <td>4.507937</td>\n",
       "      <td>Wrong Trousers, The (1993)</td>\n",
       "    </tr>\n",
       "    <tr>\n",
       "      <th>861</th>\n",
       "      <td>4.491489</td>\n",
       "      <td>Sunset Blvd. (a.k.a. Sunset Boulevard) (1950)</td>\n",
       "    </tr>\n",
       "    <tr>\n",
       "      <th>1108</th>\n",
       "      <td>4.477725</td>\n",
       "      <td>Raiders of the Lost Ark (1981)</td>\n",
       "    </tr>\n",
       "    <tr>\n",
       "      <th>843</th>\n",
       "      <td>4.476190</td>\n",
       "      <td>Rear Window (1954)</td>\n",
       "    </tr>\n",
       "  </tbody>\n",
       "</table>\n",
       "</div>"
      ],
      "text/plain": [
       "      rating_mean                                              title\n",
       "1839     4.560510  Seven Samurai (The Magnificent Seven) (Shichin...\n",
       "309      4.554558                   Shawshank Redemption, The (1994)\n",
       "802      4.524966                              Godfather, The (1972)\n",
       "708      4.520548                              Close Shave, A (1995)\n",
       "49       4.517106                         Usual Suspects, The (1995)\n",
       "513      4.510417                            Schindler's List (1993)\n",
       "1066     4.507937                         Wrong Trousers, The (1993)\n",
       "861      4.491489      Sunset Blvd. (a.k.a. Sunset Boulevard) (1950)\n",
       "1108     4.477725                     Raiders of the Lost Ark (1981)\n",
       "843      4.476190                                 Rear Window (1954)"
      ]
     },
     "execution_count": 23,
     "metadata": {},
     "output_type": "execute_result"
    }
   ],
   "source": [
    "# 100번 이상의 평가를 받은 영화 중, 평점이 높은 10개의 영화를 출력합니다.\n",
    "merged_data = movie_grouped_rating_info.merge(movie_data, on=['movie_id'], how='left')\n",
    "merged_data[merged_data['rated_count'] > 100][['rating_mean', 'title']].nlargest(10, 'rating_mean')"
   ]
  },
  {
   "cell_type": "markdown",
   "metadata": {},
   "source": [
    "-----"
   ]
  },
  {
   "cell_type": "markdown",
   "metadata": {},
   "source": [
    "### `[미니 퀴즈 - 3.5]`\n",
    "- `동일한 방식으로, 유저 그룹 단위의 평점 속성을 분석해 보세요.` \n",
    "    - 유저별로 평가한 영화 개수\n",
    "    - 유저별로 평가한 평균 영화 점수\n",
    "    - 유저별로 평가한 영화 점수의 편차"
   ]
  },
  {
   "cell_type": "code",
   "execution_count": 24,
   "metadata": {},
   "outputs": [],
   "source": [
    "# 유저별 영화 평가를 탐색합니다.\n",
    "user_grouped_rating_info = rating_data.groupby('user_id')['rating'].agg(['count','mean', 'std'])\n",
    "user_grouped_rating_info.columns = ['rated_count', 'rating_mean', 'rating_std']"
   ]
  },
  {
   "cell_type": "code",
   "execution_count": 25,
   "metadata": {},
   "outputs": [
    {
     "data": {
      "text/html": [
       "<div>\n",
       "<style scoped>\n",
       "    .dataframe tbody tr th:only-of-type {\n",
       "        vertical-align: middle;\n",
       "    }\n",
       "\n",
       "    .dataframe tbody tr th {\n",
       "        vertical-align: top;\n",
       "    }\n",
       "\n",
       "    .dataframe thead th {\n",
       "        text-align: right;\n",
       "    }\n",
       "</style>\n",
       "<table border=\"1\" class=\"dataframe\">\n",
       "  <thead>\n",
       "    <tr style=\"text-align: right;\">\n",
       "      <th></th>\n",
       "      <th>rated_count</th>\n",
       "      <th>rating_mean</th>\n",
       "      <th>rating_std</th>\n",
       "    </tr>\n",
       "    <tr>\n",
       "      <th>user_id</th>\n",
       "      <th></th>\n",
       "      <th></th>\n",
       "      <th></th>\n",
       "    </tr>\n",
       "  </thead>\n",
       "  <tbody>\n",
       "    <tr>\n",
       "      <th>1</th>\n",
       "      <td>53</td>\n",
       "      <td>4.188679</td>\n",
       "      <td>0.680967</td>\n",
       "    </tr>\n",
       "    <tr>\n",
       "      <th>2</th>\n",
       "      <td>129</td>\n",
       "      <td>3.713178</td>\n",
       "      <td>1.001513</td>\n",
       "    </tr>\n",
       "    <tr>\n",
       "      <th>3</th>\n",
       "      <td>51</td>\n",
       "      <td>3.901961</td>\n",
       "      <td>0.984985</td>\n",
       "    </tr>\n",
       "    <tr>\n",
       "      <th>4</th>\n",
       "      <td>21</td>\n",
       "      <td>4.190476</td>\n",
       "      <td>1.077917</td>\n",
       "    </tr>\n",
       "    <tr>\n",
       "      <th>5</th>\n",
       "      <td>198</td>\n",
       "      <td>3.146465</td>\n",
       "      <td>1.132699</td>\n",
       "    </tr>\n",
       "  </tbody>\n",
       "</table>\n",
       "</div>"
      ],
      "text/plain": [
       "         rated_count  rating_mean  rating_std\n",
       "user_id                                      \n",
       "1                 53     4.188679    0.680967\n",
       "2                129     3.713178    1.001513\n",
       "3                 51     3.901961    0.984985\n",
       "4                 21     4.190476    1.077917\n",
       "5                198     3.146465    1.132699"
      ]
     },
     "execution_count": 25,
     "metadata": {},
     "output_type": "execute_result"
    }
   ],
   "source": [
    "user_grouped_rating_info.head()"
   ]
  },
  {
   "cell_type": "code",
   "execution_count": 26,
   "metadata": {},
   "outputs": [
    {
     "data": {
      "text/plain": [
       "<AxesSubplot:>"
      ]
     },
     "execution_count": 26,
     "metadata": {},
     "output_type": "execute_result"
    },
    {
     "data": {
      "image/png": "[encoded data removed]",
      "text/plain": [
       "<Figure size 576x576 with 1 Axes>"
      ]
     },
     "metadata": {
      "needs_background": "light"
     },
     "output_type": "display_data"
    }
   ],
   "source": [
    "# 유저별로 평가한 영화 개수의 분포를 출력합니다.\n",
    "user_grouped_rating_info['rated_count'].hist(bins=150, grid=False)"
   ]
  },
  {
   "cell_type": "code",
   "execution_count": 27,
   "metadata": {},
   "outputs": [
    {
     "data": {
      "text/plain": [
       "<AxesSubplot:>"
      ]
     },
     "execution_count": 27,
     "metadata": {},
     "output_type": "execute_result"
    },
    {
     "data": {
      "image/png": "[encoded data removed]",
      "text/plain": [
       "<Figure size 576x576 with 1 Axes>"
      ]
     },
     "metadata": {
      "needs_background": "light"
     },
     "output_type": "display_data"
    }
   ],
   "source": [
    "# 유저별로 평가한 영화 점수 평균의 분포를 그래프로 출력합니다.\n",
    "user_grouped_rating_info['rating_mean'].hist(bins=150, grid=False)"
   ]
  },
  {
   "cell_type": "code",
   "execution_count": 28,
   "metadata": {},
   "outputs": [
    {
     "data": {
      "text/plain": [
       "<AxesSubplot:>"
      ]
     },
     "execution_count": 28,
     "metadata": {},
     "output_type": "execute_result"
    },
    {
     "data": {
      "image/png": "[encoded data removed]",
      "text/plain": [
       "<Figure size 576x576 with 1 Axes>"
      ]
     },
     "metadata": {
      "needs_background": "light"
     },
     "output_type": "display_data"
    }
   ],
   "source": [
    "# 유저별로 평가한 영화 점수 편차의 분포를 그래프로 출력합니다.\n",
    "user_grouped_rating_info['rating_std'].hist(bins=150, grid=False)"
   ]
  },
  {
   "cell_type": "markdown",
   "metadata": {},
   "source": [
    "-----"
   ]
  },
  {
   "cell_type": "markdown",
   "metadata": {},
   "source": [
    "### [user-movie 형태의 테이블로 살펴보기]"
   ]
  },
  {
   "cell_type": "code",
   "execution_count": 29,
   "metadata": {},
   "outputs": [
    {
     "data": {
      "text/html": [
       "<div>\n",
       "<style scoped>\n",
       "    .dataframe tbody tr th:only-of-type {\n",
       "        vertical-align: middle;\n",
       "    }\n",
       "\n",
       "    .dataframe tbody tr th {\n",
       "        vertical-align: top;\n",
       "    }\n",
       "\n",
       "    .dataframe thead th {\n",
       "        text-align: right;\n",
       "    }\n",
       "</style>\n",
       "<table border=\"1\" class=\"dataframe\">\n",
       "  <thead>\n",
       "    <tr style=\"text-align: right;\">\n",
       "      <th></th>\n",
       "      <th>user_id</th>\n",
       "      <th>movie_id</th>\n",
       "      <th>rating</th>\n",
       "      <th>time</th>\n",
       "    </tr>\n",
       "  </thead>\n",
       "  <tbody>\n",
       "    <tr>\n",
       "      <th>0</th>\n",
       "      <td>1</td>\n",
       "      <td>1193</td>\n",
       "      <td>5</td>\n",
       "      <td>978300760</td>\n",
       "    </tr>\n",
       "    <tr>\n",
       "      <th>1</th>\n",
       "      <td>1</td>\n",
       "      <td>661</td>\n",
       "      <td>3</td>\n",
       "      <td>978302109</td>\n",
       "    </tr>\n",
       "    <tr>\n",
       "      <th>2</th>\n",
       "      <td>1</td>\n",
       "      <td>914</td>\n",
       "      <td>3</td>\n",
       "      <td>978301968</td>\n",
       "    </tr>\n",
       "    <tr>\n",
       "      <th>3</th>\n",
       "      <td>1</td>\n",
       "      <td>3408</td>\n",
       "      <td>4</td>\n",
       "      <td>978300275</td>\n",
       "    </tr>\n",
       "    <tr>\n",
       "      <th>4</th>\n",
       "      <td>1</td>\n",
       "      <td>2355</td>\n",
       "      <td>5</td>\n",
       "      <td>978824291</td>\n",
       "    </tr>\n",
       "  </tbody>\n",
       "</table>\n",
       "</div>"
      ],
      "text/plain": [
       "   user_id  movie_id  rating       time\n",
       "0        1      1193       5  978300760\n",
       "1        1       661       3  978302109\n",
       "2        1       914       3  978301968\n",
       "3        1      3408       4  978300275\n",
       "4        1      2355       5  978824291"
      ]
     },
     "execution_count": 29,
     "metadata": {},
     "output_type": "execute_result"
    }
   ],
   "source": [
    "rating_data.head()"
   ]
  },
  {
   "cell_type": "code",
   "execution_count": 30,
   "metadata": {},
   "outputs": [
    {
     "data": {
      "text/html": [
       "<div>\n",
       "<style scoped>\n",
       "    .dataframe tbody tr th:only-of-type {\n",
       "        vertical-align: middle;\n",
       "    }\n",
       "\n",
       "    .dataframe tbody tr th {\n",
       "        vertical-align: top;\n",
       "    }\n",
       "\n",
       "    .dataframe thead tr th {\n",
       "        text-align: left;\n",
       "    }\n",
       "\n",
       "    .dataframe thead tr:last-of-type th {\n",
       "        text-align: right;\n",
       "    }\n",
       "</style>\n",
       "<table border=\"1\" class=\"dataframe\">\n",
       "  <thead>\n",
       "    <tr>\n",
       "      <th></th>\n",
       "      <th colspan=\"21\" halign=\"left\">rating</th>\n",
       "    </tr>\n",
       "    <tr>\n",
       "      <th>movie_id</th>\n",
       "      <th>1</th>\n",
       "      <th>2</th>\n",
       "      <th>3</th>\n",
       "      <th>4</th>\n",
       "      <th>5</th>\n",
       "      <th>6</th>\n",
       "      <th>7</th>\n",
       "      <th>8</th>\n",
       "      <th>9</th>\n",
       "      <th>10</th>\n",
       "      <th>...</th>\n",
       "      <th>3943</th>\n",
       "      <th>3944</th>\n",
       "      <th>3945</th>\n",
       "      <th>3946</th>\n",
       "      <th>3947</th>\n",
       "      <th>3948</th>\n",
       "      <th>3949</th>\n",
       "      <th>3950</th>\n",
       "      <th>3951</th>\n",
       "      <th>3952</th>\n",
       "    </tr>\n",
       "    <tr>\n",
       "      <th>user_id</th>\n",
       "      <th></th>\n",
       "      <th></th>\n",
       "      <th></th>\n",
       "      <th></th>\n",
       "      <th></th>\n",
       "      <th></th>\n",
       "      <th></th>\n",
       "      <th></th>\n",
       "      <th></th>\n",
       "      <th></th>\n",
       "      <th></th>\n",
       "      <th></th>\n",
       "      <th></th>\n",
       "      <th></th>\n",
       "      <th></th>\n",
       "      <th></th>\n",
       "      <th></th>\n",
       "      <th></th>\n",
       "      <th></th>\n",
       "      <th></th>\n",
       "      <th></th>\n",
       "    </tr>\n",
       "  </thead>\n",
       "  <tbody>\n",
       "    <tr>\n",
       "      <th>1</th>\n",
       "      <td>5.0</td>\n",
       "      <td>NaN</td>\n",
       "      <td>NaN</td>\n",
       "      <td>NaN</td>\n",
       "      <td>NaN</td>\n",
       "      <td>NaN</td>\n",
       "      <td>NaN</td>\n",
       "      <td>NaN</td>\n",
       "      <td>NaN</td>\n",
       "      <td>NaN</td>\n",
       "      <td>...</td>\n",
       "      <td>NaN</td>\n",
       "      <td>NaN</td>\n",
       "      <td>NaN</td>\n",
       "      <td>NaN</td>\n",
       "      <td>NaN</td>\n",
       "      <td>NaN</td>\n",
       "      <td>NaN</td>\n",
       "      <td>NaN</td>\n",
       "      <td>NaN</td>\n",
       "      <td>NaN</td>\n",
       "    </tr>\n",
       "    <tr>\n",
       "      <th>2</th>\n",
       "      <td>NaN</td>\n",
       "      <td>NaN</td>\n",
       "      <td>NaN</td>\n",
       "      <td>NaN</td>\n",
       "      <td>NaN</td>\n",
       "      <td>NaN</td>\n",
       "      <td>NaN</td>\n",
       "      <td>NaN</td>\n",
       "      <td>NaN</td>\n",
       "      <td>NaN</td>\n",
       "      <td>...</td>\n",
       "      <td>NaN</td>\n",
       "      <td>NaN</td>\n",
       "      <td>NaN</td>\n",
       "      <td>NaN</td>\n",
       "      <td>NaN</td>\n",
       "      <td>NaN</td>\n",
       "      <td>NaN</td>\n",
       "      <td>NaN</td>\n",
       "      <td>NaN</td>\n",
       "      <td>NaN</td>\n",
       "    </tr>\n",
       "    <tr>\n",
       "      <th>3</th>\n",
       "      <td>NaN</td>\n",
       "      <td>NaN</td>\n",
       "      <td>NaN</td>\n",
       "      <td>NaN</td>\n",
       "      <td>NaN</td>\n",
       "      <td>NaN</td>\n",
       "      <td>NaN</td>\n",
       "      <td>NaN</td>\n",
       "      <td>NaN</td>\n",
       "      <td>NaN</td>\n",
       "      <td>...</td>\n",
       "      <td>NaN</td>\n",
       "      <td>NaN</td>\n",
       "      <td>NaN</td>\n",
       "      <td>NaN</td>\n",
       "      <td>NaN</td>\n",
       "      <td>NaN</td>\n",
       "      <td>NaN</td>\n",
       "      <td>NaN</td>\n",
       "      <td>NaN</td>\n",
       "      <td>NaN</td>\n",
       "    </tr>\n",
       "    <tr>\n",
       "      <th>4</th>\n",
       "      <td>NaN</td>\n",
       "      <td>NaN</td>\n",
       "      <td>NaN</td>\n",
       "      <td>NaN</td>\n",
       "      <td>NaN</td>\n",
       "      <td>NaN</td>\n",
       "      <td>NaN</td>\n",
       "      <td>NaN</td>\n",
       "      <td>NaN</td>\n",
       "      <td>NaN</td>\n",
       "      <td>...</td>\n",
       "      <td>NaN</td>\n",
       "      <td>NaN</td>\n",
       "      <td>NaN</td>\n",
       "      <td>NaN</td>\n",
       "      <td>NaN</td>\n",
       "      <td>NaN</td>\n",
       "      <td>NaN</td>\n",
       "      <td>NaN</td>\n",
       "      <td>NaN</td>\n",
       "      <td>NaN</td>\n",
       "    </tr>\n",
       "    <tr>\n",
       "      <th>5</th>\n",
       "      <td>NaN</td>\n",
       "      <td>NaN</td>\n",
       "      <td>NaN</td>\n",
       "      <td>NaN</td>\n",
       "      <td>NaN</td>\n",
       "      <td>2.0</td>\n",
       "      <td>NaN</td>\n",
       "      <td>NaN</td>\n",
       "      <td>NaN</td>\n",
       "      <td>NaN</td>\n",
       "      <td>...</td>\n",
       "      <td>NaN</td>\n",
       "      <td>NaN</td>\n",
       "      <td>NaN</td>\n",
       "      <td>NaN</td>\n",
       "      <td>NaN</td>\n",
       "      <td>NaN</td>\n",
       "      <td>NaN</td>\n",
       "      <td>NaN</td>\n",
       "      <td>NaN</td>\n",
       "      <td>NaN</td>\n",
       "    </tr>\n",
       "    <tr>\n",
       "      <th>6</th>\n",
       "      <td>4.0</td>\n",
       "      <td>NaN</td>\n",
       "      <td>NaN</td>\n",
       "      <td>NaN</td>\n",
       "      <td>NaN</td>\n",
       "      <td>NaN</td>\n",
       "      <td>NaN</td>\n",
       "      <td>NaN</td>\n",
       "      <td>NaN</td>\n",
       "      <td>NaN</td>\n",
       "      <td>...</td>\n",
       "      <td>NaN</td>\n",
       "      <td>NaN</td>\n",
       "      <td>NaN</td>\n",
       "      <td>NaN</td>\n",
       "      <td>NaN</td>\n",
       "      <td>NaN</td>\n",
       "      <td>NaN</td>\n",
       "      <td>NaN</td>\n",
       "      <td>NaN</td>\n",
       "      <td>NaN</td>\n",
       "    </tr>\n",
       "    <tr>\n",
       "      <th>7</th>\n",
       "      <td>NaN</td>\n",
       "      <td>NaN</td>\n",
       "      <td>NaN</td>\n",
       "      <td>NaN</td>\n",
       "      <td>NaN</td>\n",
       "      <td>4.0</td>\n",
       "      <td>NaN</td>\n",
       "      <td>NaN</td>\n",
       "      <td>NaN</td>\n",
       "      <td>NaN</td>\n",
       "      <td>...</td>\n",
       "      <td>NaN</td>\n",
       "      <td>NaN</td>\n",
       "      <td>NaN</td>\n",
       "      <td>NaN</td>\n",
       "      <td>NaN</td>\n",
       "      <td>NaN</td>\n",
       "      <td>NaN</td>\n",
       "      <td>NaN</td>\n",
       "      <td>NaN</td>\n",
       "      <td>NaN</td>\n",
       "    </tr>\n",
       "    <tr>\n",
       "      <th>8</th>\n",
       "      <td>4.0</td>\n",
       "      <td>NaN</td>\n",
       "      <td>NaN</td>\n",
       "      <td>3.0</td>\n",
       "      <td>NaN</td>\n",
       "      <td>NaN</td>\n",
       "      <td>NaN</td>\n",
       "      <td>NaN</td>\n",
       "      <td>NaN</td>\n",
       "      <td>NaN</td>\n",
       "      <td>...</td>\n",
       "      <td>NaN</td>\n",
       "      <td>NaN</td>\n",
       "      <td>NaN</td>\n",
       "      <td>NaN</td>\n",
       "      <td>NaN</td>\n",
       "      <td>NaN</td>\n",
       "      <td>NaN</td>\n",
       "      <td>NaN</td>\n",
       "      <td>NaN</td>\n",
       "      <td>NaN</td>\n",
       "    </tr>\n",
       "    <tr>\n",
       "      <th>9</th>\n",
       "      <td>5.0</td>\n",
       "      <td>NaN</td>\n",
       "      <td>NaN</td>\n",
       "      <td>NaN</td>\n",
       "      <td>NaN</td>\n",
       "      <td>NaN</td>\n",
       "      <td>NaN</td>\n",
       "      <td>NaN</td>\n",
       "      <td>NaN</td>\n",
       "      <td>NaN</td>\n",
       "      <td>...</td>\n",
       "      <td>NaN</td>\n",
       "      <td>NaN</td>\n",
       "      <td>NaN</td>\n",
       "      <td>NaN</td>\n",
       "      <td>NaN</td>\n",
       "      <td>3.0</td>\n",
       "      <td>NaN</td>\n",
       "      <td>NaN</td>\n",
       "      <td>NaN</td>\n",
       "      <td>NaN</td>\n",
       "    </tr>\n",
       "    <tr>\n",
       "      <th>10</th>\n",
       "      <td>5.0</td>\n",
       "      <td>5.0</td>\n",
       "      <td>NaN</td>\n",
       "      <td>NaN</td>\n",
       "      <td>NaN</td>\n",
       "      <td>NaN</td>\n",
       "      <td>4.0</td>\n",
       "      <td>NaN</td>\n",
       "      <td>NaN</td>\n",
       "      <td>NaN</td>\n",
       "      <td>...</td>\n",
       "      <td>NaN</td>\n",
       "      <td>NaN</td>\n",
       "      <td>NaN</td>\n",
       "      <td>NaN</td>\n",
       "      <td>NaN</td>\n",
       "      <td>4.0</td>\n",
       "      <td>NaN</td>\n",
       "      <td>NaN</td>\n",
       "      <td>NaN</td>\n",
       "      <td>NaN</td>\n",
       "    </tr>\n",
       "  </tbody>\n",
       "</table>\n",
       "<p>10 rows × 3706 columns</p>\n",
       "</div>"
      ],
      "text/plain": [
       "         rating                                               ...            \\\n",
       "movie_id   1    2    3    4    5    6    7    8    9    10    ... 3943 3944   \n",
       "user_id                                                       ...             \n",
       "1           5.0  NaN  NaN  NaN  NaN  NaN  NaN  NaN  NaN  NaN  ...  NaN  NaN   \n",
       "2           NaN  NaN  NaN  NaN  NaN  NaN  NaN  NaN  NaN  NaN  ...  NaN  NaN   \n",
       "3           NaN  NaN  NaN  NaN  NaN  NaN  NaN  NaN  NaN  NaN  ...  NaN  NaN   \n",
       "4           NaN  NaN  NaN  NaN  NaN  NaN  NaN  NaN  NaN  NaN  ...  NaN  NaN   \n",
       "5           NaN  NaN  NaN  NaN  NaN  2.0  NaN  NaN  NaN  NaN  ...  NaN  NaN   \n",
       "6           4.0  NaN  NaN  NaN  NaN  NaN  NaN  NaN  NaN  NaN  ...  NaN  NaN   \n",
       "7           NaN  NaN  NaN  NaN  NaN  4.0  NaN  NaN  NaN  NaN  ...  NaN  NaN   \n",
       "8           4.0  NaN  NaN  3.0  NaN  NaN  NaN  NaN  NaN  NaN  ...  NaN  NaN   \n",
       "9           5.0  NaN  NaN  NaN  NaN  NaN  NaN  NaN  NaN  NaN  ...  NaN  NaN   \n",
       "10          5.0  5.0  NaN  NaN  NaN  NaN  4.0  NaN  NaN  NaN  ...  NaN  NaN   \n",
       "\n",
       "                                                  \n",
       "movie_id 3945 3946 3947 3948 3949 3950 3951 3952  \n",
       "user_id                                           \n",
       "1         NaN  NaN  NaN  NaN  NaN  NaN  NaN  NaN  \n",
       "2         NaN  NaN  NaN  NaN  NaN  NaN  NaN  NaN  \n",
       "3         NaN  NaN  NaN  NaN  NaN  NaN  NaN  NaN  \n",
       "4         NaN  NaN  NaN  NaN  NaN  NaN  NaN  NaN  \n",
       "5         NaN  NaN  NaN  NaN  NaN  NaN  NaN  NaN  \n",
       "6         NaN  NaN  NaN  NaN  NaN  NaN  NaN  NaN  \n",
       "7         NaN  NaN  NaN  NaN  NaN  NaN  NaN  NaN  \n",
       "8         NaN  NaN  NaN  NaN  NaN  NaN  NaN  NaN  \n",
       "9         NaN  NaN  NaN  3.0  NaN  NaN  NaN  NaN  \n",
       "10        NaN  NaN  NaN  4.0  NaN  NaN  NaN  NaN  \n",
       "\n",
       "[10 rows x 3706 columns]"
      ]
     },
     "execution_count": 30,
     "metadata": {},
     "output_type": "execute_result"
    }
   ],
   "source": [
    "# unstack() 함수로 user_id, movie_id를 축으로 하는 데이터를 생성합니다.\n",
    "rating_table = rating_data[['user_id', 'movie_id', 'rating']].set_index([\"user_id\", \"movie_id\"]).unstack()\n",
    "rating_table.head(10)"
   ]
  },
  {
   "cell_type": "markdown",
   "metadata": {},
   "source": [
    "-----"
   ]
  },
  {
   "cell_type": "code",
   "execution_count": 31,
   "metadata": {},
   "outputs": [
    {
     "data": {
      "image/png": "[encoded data removed]",
      "text/plain": [
       "<Figure size 720x720 with 1 Axes>"
      ]
     },
     "metadata": {
      "needs_background": "light"
     },
     "output_type": "display_data"
    }
   ],
   "source": [
    "# user-movie 테이블을 시각화합니다.\n",
    "plt.rcParams['figure.figsize'] = [10, 10]\n",
    "plt.imshow(rating_table)\n",
    "plt.grid(False)\n",
    "plt.xlabel(\"Movie\")\n",
    "plt.ylabel(\"User\")\n",
    "plt.title(\"User-movie Matrix\")\n",
    "plt.show()"
   ]
  },
  {
   "cell_type": "markdown",
   "metadata": {},
   "source": [
    "-----"
   ]
  },
  {
   "cell_type": "markdown",
   "metadata": {},
   "source": [
    "# <Step3. 예측> : 수학적 기법을 활용한 평점 예측"
   ]
  },
  {
   "cell_type": "markdown",
   "metadata": {},
   "source": [
    "### [SVD를 활용한 빈칸 채우기]"
   ]
  },
  {
   "cell_type": "markdown",
   "metadata": {},
   "source": [
    "- 아래 코드 실행을 위해, anaconda prompt 혹은 Terminal에서 아래와 같은 패키지를 설치해 줍니다.\n",
    "    - (env_name) `pip install surprise`"
   ]
  },
  {
   "cell_type": "markdown",
   "metadata": {},
   "source": [
    "-----"
   ]
  },
  {
   "cell_type": "markdown",
   "metadata": {},
   "source": [
    "##### 빈칸을 포함한 user-item 행렬 생성"
   ]
  },
  {
   "cell_type": "code",
   "execution_count": 32,
   "metadata": {},
   "outputs": [],
   "source": [
    "from surprise import SVD, Dataset, Reader, accuracy\n",
    "from surprise.model_selection import train_test_split\n",
    "\n",
    "np.set_printoptions(suppress=True)\n",
    "\n",
    "reader = Reader(rating_scale=(1, 5))"
   ]
  },
  {
   "cell_type": "code",
   "execution_count": 33,
   "metadata": {
    "code_folding": []
   },
   "outputs": [
    {
     "data": {
      "text/html": [
       "<div>\n",
       "<style scoped>\n",
       "    .dataframe tbody tr th:only-of-type {\n",
       "        vertical-align: middle;\n",
       "    }\n",
       "\n",
       "    .dataframe tbody tr th {\n",
       "        vertical-align: top;\n",
       "    }\n",
       "\n",
       "    .dataframe thead th {\n",
       "        text-align: right;\n",
       "    }\n",
       "</style>\n",
       "<table border=\"1\" class=\"dataframe\">\n",
       "  <thead>\n",
       "    <tr style=\"text-align: right;\">\n",
       "      <th></th>\n",
       "      <th>item_id</th>\n",
       "      <th>user_id</th>\n",
       "      <th>rating</th>\n",
       "    </tr>\n",
       "  </thead>\n",
       "  <tbody>\n",
       "    <tr>\n",
       "      <th>0</th>\n",
       "      <td>1</td>\n",
       "      <td>a</td>\n",
       "      <td>2</td>\n",
       "    </tr>\n",
       "    <tr>\n",
       "      <th>1</th>\n",
       "      <td>2</td>\n",
       "      <td>a</td>\n",
       "      <td>4</td>\n",
       "    </tr>\n",
       "    <tr>\n",
       "      <th>2</th>\n",
       "      <td>3</td>\n",
       "      <td>a</td>\n",
       "      <td>4</td>\n",
       "    </tr>\n",
       "    <tr>\n",
       "      <th>3</th>\n",
       "      <td>1</td>\n",
       "      <td>b</td>\n",
       "      <td>2</td>\n",
       "    </tr>\n",
       "    <tr>\n",
       "      <th>4</th>\n",
       "      <td>2</td>\n",
       "      <td>b</td>\n",
       "      <td>5</td>\n",
       "    </tr>\n",
       "    <tr>\n",
       "      <th>5</th>\n",
       "      <td>3</td>\n",
       "      <td>b</td>\n",
       "      <td>4</td>\n",
       "    </tr>\n",
       "    <tr>\n",
       "      <th>6</th>\n",
       "      <td>2</td>\n",
       "      <td>c</td>\n",
       "      <td>5</td>\n",
       "    </tr>\n",
       "  </tbody>\n",
       "</table>\n",
       "</div>"
      ],
      "text/plain": [
       "   item_id user_id  rating\n",
       "0        1       a       2\n",
       "1        2       a       4\n",
       "2        3       a       4\n",
       "3        1       b       2\n",
       "4        2       b       5\n",
       "5        3       b       4\n",
       "6        2       c       5"
      ]
     },
     "execution_count": 33,
     "metadata": {},
     "output_type": "execute_result"
    }
   ],
   "source": [
    "# 데이터 프레임을 생성합니다.\n",
    "ratings_dict = {'item_id': [1,2,3,1,2,3,2],\n",
    "                'user_id': ['a','a','a','b','b','b','c'],\n",
    "                'rating': [2,4,4,2,5,4,5]}\n",
    "df = pd.DataFrame(ratings_dict)\n",
    "df.head(10)"
   ]
  },
  {
   "cell_type": "code",
   "execution_count": 34,
   "metadata": {},
   "outputs": [
    {
     "data": {
      "text/html": [
       "<div>\n",
       "<style scoped>\n",
       "    .dataframe tbody tr th:only-of-type {\n",
       "        vertical-align: middle;\n",
       "    }\n",
       "\n",
       "    .dataframe tbody tr th {\n",
       "        vertical-align: top;\n",
       "    }\n",
       "\n",
       "    .dataframe thead tr th {\n",
       "        text-align: left;\n",
       "    }\n",
       "\n",
       "    .dataframe thead tr:last-of-type th {\n",
       "        text-align: right;\n",
       "    }\n",
       "</style>\n",
       "<table border=\"1\" class=\"dataframe\">\n",
       "  <thead>\n",
       "    <tr>\n",
       "      <th></th>\n",
       "      <th colspan=\"3\" halign=\"left\">rating</th>\n",
       "    </tr>\n",
       "    <tr>\n",
       "      <th>item_id</th>\n",
       "      <th>1</th>\n",
       "      <th>2</th>\n",
       "      <th>3</th>\n",
       "    </tr>\n",
       "    <tr>\n",
       "      <th>user_id</th>\n",
       "      <th></th>\n",
       "      <th></th>\n",
       "      <th></th>\n",
       "    </tr>\n",
       "  </thead>\n",
       "  <tbody>\n",
       "    <tr>\n",
       "      <th>a</th>\n",
       "      <td>2.0</td>\n",
       "      <td>4.0</td>\n",
       "      <td>4.0</td>\n",
       "    </tr>\n",
       "    <tr>\n",
       "      <th>b</th>\n",
       "      <td>2.0</td>\n",
       "      <td>5.0</td>\n",
       "      <td>4.0</td>\n",
       "    </tr>\n",
       "    <tr>\n",
       "      <th>c</th>\n",
       "      <td>0.0</td>\n",
       "      <td>5.0</td>\n",
       "      <td>0.0</td>\n",
       "    </tr>\n",
       "  </tbody>\n",
       "</table>\n",
       "</div>"
      ],
      "text/plain": [
       "        rating          \n",
       "item_id      1    2    3\n",
       "user_id                 \n",
       "a          2.0  4.0  4.0\n",
       "b          2.0  5.0  4.0\n",
       "c          0.0  5.0  0.0"
      ]
     },
     "execution_count": 34,
     "metadata": {},
     "output_type": "execute_result"
    }
   ],
   "source": [
    "# 데이터 프레임을 행렬로 변환하여 확인합니다.\n",
    "df_matrix_table = df[['user_id', 'item_id', 'rating']].set_index([\"user_id\", \"item_id\"]).unstack().fillna(0)\n",
    "df_matrix_table.head(10)"
   ]
  },
  {
   "cell_type": "markdown",
   "metadata": {},
   "source": [
    "-----"
   ]
  },
  {
   "cell_type": "markdown",
   "metadata": {},
   "source": [
    "##### SVD를 이용한 빈칸 채우기 학습"
   ]
  },
  {
   "cell_type": "code",
   "execution_count": 35,
   "metadata": {},
   "outputs": [],
   "source": [
    "# SVD 사용을 위한 데이터셋을 생성합니다.\n",
    "data = Dataset.load_from_df(df=df[[\"user_id\", \"item_id\", \"rating\"]], reader=reader)\n",
    "train_data = data.build_full_trainset()"
   ]
  },
  {
   "cell_type": "code",
   "execution_count": 36,
   "metadata": {},
   "outputs": [
    {
     "data": {
      "text/plain": [
       "<surprise.prediction_algorithms.matrix_factorization.SVD at 0x7fb7991cc850>"
      ]
     },
     "execution_count": 36,
     "metadata": {},
     "output_type": "execute_result"
    }
   ],
   "source": [
    "# SVD 모델을 학습합니다.\n",
    "model = SVD(n_factors=8,\n",
    "            lr_all=0.005,\n",
    "            reg_all=0.02,\n",
    "            n_epochs=10)\n",
    "model.fit(train_data)"
   ]
  },
  {
   "cell_type": "code",
   "execution_count": 37,
   "metadata": {},
   "outputs": [
    {
     "name": "stdout",
     "output_type": "stream",
     "text": [
      "Item id 1 | predicted rating : 3.6176720634842283\n",
      "Item id 3 | predicted rating : 3.8072708960766337\n"
     ]
    }
   ],
   "source": [
    "# 학습한 모델을 기반으로 빈공간의 점수를 예측합니다.\n",
    "\n",
    "\"\"\"\n",
    "build_anti_testset() : \n",
    "\n",
    "학습에 사용된 matrix에서 0으로 평가되어 있는(rating이 0인 지점) 부분의 데이터.\n",
    "user 혹은 item은 학습에 반드시 등장한 적이 있어야 한다는 전제조건을 통해 추출.\n",
    "\"\"\"\n",
    "\n",
    "# test_data : 학습에 사용된 유저, 혹은 아이템이지만 점수는 매겨지지 않은 데이터입니다.\n",
    "test_data = train_data.build_anti_testset()\n",
    "predictions = model.test(test_data)\n",
    "\n",
    "# 아래의 결과는 빈공간(test_data)의 점수를 예측한 결과입니다.\n",
    "for _, iid, _, predicted_rating, _ in predictions:\n",
    "    print(\"Item id\", iid, \"|\", \"predicted rating :\", predicted_rating)"
   ]
  },
  {
   "cell_type": "code",
   "execution_count": 38,
   "metadata": {},
   "outputs": [
    {
     "name": "stdout",
     "output_type": "stream",
     "text": [
      "Item id 1 | real rating : 2.0 | predicted rating : 3.5183633983905285\n",
      "Item id 2 | real rating : 4.0 | predicted rating : 3.8114382515502094\n",
      "Item id 3 | real rating : 4.0 | predicted rating : 3.6812621198440865\n",
      "Item id 1 | real rating : 2.0 | predicted rating : 3.525603189624819\n",
      "Item id 2 | real rating : 5.0 | predicted rating : 3.826767028758042\n",
      "Item id 3 | real rating : 4.0 | predicted rating : 3.795815352517194\n",
      "Item id 2 | real rating : 5.0 | predicted rating : 3.9031935538101723\n"
     ]
    }
   ],
   "source": [
    "\"\"\"\n",
    "build_testset() : \n",
    "\n",
    "학습에 사용된 matrix에서 0으로 평가되어 있는(rating이 0인 지점) 부분의 데이터.\n",
    "user 혹은 item은 학습에 반드시 등장한 적이 있어야 한다는 전제조건을 통해 추출.\n",
    "\"\"\"\n",
    "test_data = train_data.build_testset()\n",
    "predictions = model.test(test_data)\n",
    "\n",
    "# 원래부터 비어있지 않았던 행렬의 값들을 출력한 것입니다. real rating은 원래 값, predicted rating은 행렬 완성 후 예측된 값입니다.\n",
    "for _, iid, r_ui, predicted_rating, _ in predictions:\n",
    "    print(\"Item id\", iid, \"|\", \"real rating :\", r_ui, \"|\", \"predicted rating :\", predicted_rating)"
   ]
  },
  {
   "cell_type": "markdown",
   "metadata": {},
   "source": [
    "-----"
   ]
  },
  {
   "cell_type": "markdown",
   "metadata": {},
   "source": [
    "### [아직 평가하지 않은 영화의 점수 예측하기]"
   ]
  },
  {
   "cell_type": "markdown",
   "metadata": {},
   "source": [
    "##### MovieLens 데이터에 SVD 적용하기"
   ]
  },
  {
   "cell_type": "code",
   "execution_count": 39,
   "metadata": {},
   "outputs": [
    {
     "name": "stdout",
     "output_type": "stream",
     "text": [
      "training time of model: 56.03 seconds\n"
     ]
    }
   ],
   "source": [
    "# SVD 라이브러리를 사용하기 위한 학습 데이터를 생성합니다.\n",
    "reader = Reader(rating_scale=(1, 5))\n",
    "data = Dataset.load_from_df(rating_data[['user_id', 'movie_id', 'rating']], reader)\n",
    "train_data = data.build_full_trainset()\n",
    "\n",
    "# SVD 모델을 학습합니다.\n",
    "train_start = time.time()\n",
    "model = SVD(n_factors=8,\n",
    "            lr_all=0.005,\n",
    "            reg_all=0.02,\n",
    "            n_epochs=100)\n",
    "model.fit(train_data)\n",
    "train_end = time.time()\n",
    "print(\"training time of model: %.2f seconds\" % (train_end - train_start))"
   ]
  },
  {
   "cell_type": "markdown",
   "metadata": {},
   "source": [
    "-----"
   ]
  },
  {
   "cell_type": "markdown",
   "metadata": {},
   "source": [
    "##### 영화의 점수를 예측할 타겟 유저 선정"
   ]
  },
  {
   "cell_type": "code",
   "execution_count": 40,
   "metadata": {},
   "outputs": [
    {
     "data": {
      "text/html": [
       "<div>\n",
       "<style scoped>\n",
       "    .dataframe tbody tr th:only-of-type {\n",
       "        vertical-align: middle;\n",
       "    }\n",
       "\n",
       "    .dataframe tbody tr th {\n",
       "        vertical-align: top;\n",
       "    }\n",
       "\n",
       "    .dataframe thead th {\n",
       "        text-align: right;\n",
       "    }\n",
       "</style>\n",
       "<table border=\"1\" class=\"dataframe\">\n",
       "  <thead>\n",
       "    <tr style=\"text-align: right;\">\n",
       "      <th></th>\n",
       "      <th>user_id</th>\n",
       "      <th>movie_id</th>\n",
       "      <th>rating</th>\n",
       "      <th>time</th>\n",
       "    </tr>\n",
       "  </thead>\n",
       "  <tbody>\n",
       "    <tr>\n",
       "      <th>233</th>\n",
       "      <td>4</td>\n",
       "      <td>3468</td>\n",
       "      <td>5</td>\n",
       "      <td>978294008</td>\n",
       "    </tr>\n",
       "    <tr>\n",
       "      <th>234</th>\n",
       "      <td>4</td>\n",
       "      <td>1210</td>\n",
       "      <td>3</td>\n",
       "      <td>978293924</td>\n",
       "    </tr>\n",
       "    <tr>\n",
       "      <th>235</th>\n",
       "      <td>4</td>\n",
       "      <td>2951</td>\n",
       "      <td>4</td>\n",
       "      <td>978294282</td>\n",
       "    </tr>\n",
       "    <tr>\n",
       "      <th>236</th>\n",
       "      <td>4</td>\n",
       "      <td>1214</td>\n",
       "      <td>4</td>\n",
       "      <td>978294260</td>\n",
       "    </tr>\n",
       "    <tr>\n",
       "      <th>237</th>\n",
       "      <td>4</td>\n",
       "      <td>1036</td>\n",
       "      <td>4</td>\n",
       "      <td>978294282</td>\n",
       "    </tr>\n",
       "  </tbody>\n",
       "</table>\n",
       "</div>"
      ],
      "text/plain": [
       "     user_id  movie_id  rating       time\n",
       "233        4      3468       5  978294008\n",
       "234        4      1210       3  978293924\n",
       "235        4      2951       4  978294282\n",
       "236        4      1214       4  978294260\n",
       "237        4      1036       4  978294282"
      ]
     },
     "execution_count": 40,
     "metadata": {},
     "output_type": "execute_result"
    }
   ],
   "source": [
    "# user_id가 4인 유저의 영화 평가 데이터입니다.\n",
    "target_user_id = 4\n",
    "target_user_data = rating_data[rating_data['user_id']==target_user_id]\n",
    "target_user_data.head(5)"
   ]
  },
  {
   "cell_type": "code",
   "execution_count": 41,
   "metadata": {},
   "outputs": [
    {
     "name": "stdout",
     "output_type": "stream",
     "text": [
      "{3468: 5, 1210: 3, 2951: 4, 1214: 4, 1036: 4, 260: 5, 2028: 5, 480: 4, 1196: 2, 1198: 5, 1954: 5, 1097: 4, 3418: 4, 3702: 4, 2366: 4, 1387: 5, 3527: 1, 1201: 5, 2692: 5, 2947: 5, 1240: 5}\n"
     ]
    }
   ],
   "source": [
    "# user_id 4인 유저가 평가한 영화 히스토리 정보를 추출합니다.\n",
    "target_user_movie_rating_dict = {}\n",
    "\n",
    "for index, row in target_user_data.iterrows():\n",
    "    movie_id = row['movie_id']\n",
    "    target_user_movie_rating_dict[movie_id] = row['rating']\n",
    "            \n",
    "print(target_user_movie_rating_dict)"
   ]
  },
  {
   "cell_type": "markdown",
   "metadata": {},
   "source": [
    "-----"
   ]
  },
  {
   "cell_type": "markdown",
   "metadata": {},
   "source": [
    "##### 타겟 유저가 보지 않은 영화 중, 예상 평점이 높은 10개 선정"
   ]
  },
  {
   "cell_type": "code",
   "execution_count": 42,
   "metadata": {},
   "outputs": [],
   "source": [
    "# 타겟 유저(user_id가 4인 유저)가 보지 않은 영화 정보를 테스트 데이터로 생성합니다.\n",
    "test_data = []\n",
    "for index, row in movie_data.iterrows():\n",
    "    movie_id = row['movie_id']\n",
    "    rating = 0\n",
    "    if movie_id in target_user_movie_rating_dict:\n",
    "        continue\n",
    "    test_data.append((target_user_id, movie_id, rating))"
   ]
  },
  {
   "cell_type": "code",
   "execution_count": 43,
   "metadata": {},
   "outputs": [],
   "source": [
    "# 타겟 유저의 평점 점수를 예측합니다.\n",
    "target_user_predictions = model.test(test_data)\n",
    "\n",
    "# 예측된 점수 중, 타겟 유저의 영화별 점수를 target_user_movie_predict_dict로 저장합니다.\n",
    "def get_user_predicted_ratings(predictions, user_id, user_history):\n",
    "    target_user_movie_predict_dict = {}\n",
    "    for uid, mid, rating, predicted_rating, _ in predictions:\n",
    "        if user_id == uid:\n",
    "            if mid not in user_history:\n",
    "                target_user_movie_predict_dict[mid] = predicted_rating\n",
    "    return target_user_movie_predict_dict\n",
    "\n",
    "target_user_movie_predict_dict = get_user_predicted_ratings(predictions=target_user_predictions, \n",
    "                                                            user_id=target_user_id, \n",
    "                                                            user_history=target_user_movie_rating_dict)"
   ]
  },
  {
   "cell_type": "code",
   "execution_count": 44,
   "metadata": {},
   "outputs": [],
   "source": [
    "# target_user_movie_predict_dict에서 예측된 점수 중, 타겟 유저의 Top 10 영화를 선정합니다.\n",
    "target_user_top10_predicted = sorted(target_user_movie_predict_dict.items(), \n",
    "                                     key=operator.itemgetter(1), reverse=True)[:10]"
   ]
  },
  {
   "cell_type": "code",
   "execution_count": 45,
   "metadata": {},
   "outputs": [
    {
     "data": {
      "text/plain": [
       "[(111, 5),\n",
       " (116, 5),\n",
       " (326, 5),\n",
       " (527, 5),\n",
       " (602, 5),\n",
       " (608, 5),\n",
       " (615, 5),\n",
       " (669, 5),\n",
       " (858, 5),\n",
       " (912, 5)]"
      ]
     },
     "execution_count": 45,
     "metadata": {},
     "output_type": "execute_result"
    }
   ],
   "source": [
    "# 예측된 Top 10 영화\n",
    "target_user_top10_predicted"
   ]
  },
  {
   "cell_type": "code",
   "execution_count": 46,
   "metadata": {},
   "outputs": [],
   "source": [
    "# 타이틀 정보로 출력하기 위해 movie_id마다 movie_title을 딕셔너리 형태로 저장합니다.\n",
    "movie_dict = {}\n",
    "for index, row in movie_data.iterrows():\n",
    "    movie_id = row['movie_id']\n",
    "    movie_title = row['title']\n",
    "    movie_dict[movie_id] = movie_title"
   ]
  },
  {
   "cell_type": "code",
   "execution_count": 47,
   "metadata": {},
   "outputs": [
    {
     "name": "stdout",
     "output_type": "stream",
     "text": [
      "Taxi Driver (1976) : 5\n",
      "Anne Frank Remembered (1995) : 5\n",
      "To Live (Huozhe) (1994) : 5\n",
      "Schindler's List (1993) : 5\n",
      "Great Day in Harlem, A (1994) : 5\n",
      "Fargo (1996) : 5\n",
      "Bread and Chocolate (Pane e cioccolata) (1973) : 5\n",
      "Aparajito (1956) : 5\n",
      "Godfather, The (1972) : 5\n",
      "Casablanca (1942) : 5\n"
     ]
    }
   ],
   "source": [
    "# 앞서 계산한 Top 10 영화에 movie_title을 매핑하여 출력합니다.\n",
    "for predicted in target_user_top10_predicted:\n",
    "    movie_id = predicted[0]\n",
    "    predicted_rating = predicted[1]\n",
    "    print(movie_dict[movie_id], \":\", predicted_rating)"
   ]
  },
  {
   "cell_type": "code",
   "execution_count": 48,
   "metadata": {},
   "outputs": [
    {
     "name": "stdout",
     "output_type": "stream",
     "text": [
      "Hustler, The (1961) : 5\n",
      "Star Wars: Episode IV - A New Hope (1977) : 5\n",
      "Saving Private Ryan (1998) : 5\n",
      "Raiders of the Lost Ark (1981) : 5\n",
      "Rocky (1976) : 5\n",
      "Jaws (1975) : 5\n",
      "Good, The Bad and The Ugly, The (1966) : 5\n",
      "Run Lola Run (Lola rennt) (1998) : 5\n",
      "Goldfinger (1964) : 5\n",
      "Terminator, The (1984) : 5\n"
     ]
    }
   ],
   "source": [
    "# 타겟 유저의 기존 선호 영화와 비교합니다.\n",
    "target_user_top10_real = sorted(target_user_movie_rating_dict.items(), \n",
    "                                key=operator.itemgetter(1),reverse=True)[:10]\n",
    "for real in target_user_top10_real:\n",
    "    movie_id = real[0]\n",
    "    real_rating = real[1]\n",
    "    print(movie_dict[movie_id], \":\", real_rating)"
   ]
  },
  {
   "cell_type": "markdown",
   "metadata": {},
   "source": [
    "-----"
   ]
  },
  {
   "cell_type": "markdown",
   "metadata": {},
   "source": [
    "# <Step4. 평가> : 예측 모델 평가하기"
   ]
  },
  {
   "cell_type": "markdown",
   "metadata": {},
   "source": [
    "### [예측 모델의 평가 방법]"
   ]
  },
  {
   "cell_type": "markdown",
   "metadata": {},
   "source": [
    "##### RMSE 계산하기"
   ]
  },
  {
   "cell_type": "code",
   "execution_count": 49,
   "metadata": {},
   "outputs": [
    {
     "name": "stdout",
     "output_type": "stream",
     "text": [
      "training time of model: 62.41 seconds\n",
      "RMSE of test dataset in SVD model:\n",
      "RMSE: 0.8630\n"
     ]
    },
    {
     "data": {
      "text/plain": [
       "0.8629744853592757"
      ]
     },
     "execution_count": 49,
     "metadata": {},
     "output_type": "execute_result"
    }
   ],
   "source": [
    "# SVD 라이브러리를 사용하기 위한 학습 데이터를 생성합니다. 학습 데이터와 테스트 데이터를 8:2로 분할합니다.\n",
    "reader = Reader(rating_scale=(1, 5))\n",
    "data = Dataset.load_from_df(rating_data[['user_id', 'movie_id', 'rating']], reader)\n",
    "train_data, test_data = train_test_split(data, test_size=0.2)\n",
    "\n",
    "# SVD 모델을 학습합니다.\n",
    "train_start = time.time()\n",
    "model = SVD(n_factors=8,\n",
    "            lr_all=0.005,\n",
    "            reg_all=0.02,\n",
    "            n_epochs=100)\n",
    "model.fit(train_data)\n",
    "train_end = time.time()\n",
    "print(\"training time of model: %.2f seconds\" % (train_end - train_start))\n",
    "\n",
    "predictions = model.test(test_data)\n",
    "\n",
    "# 테스트 데이터의 RMSE를 출력합니다.\n",
    "print(\"RMSE of test dataset in SVD model:\")\n",
    "accuracy.rmse(predictions)"
   ]
  },
  {
   "cell_type": "markdown",
   "metadata": {},
   "source": [
    "-----"
   ]
  },
  {
   "cell_type": "markdown",
   "metadata": {},
   "source": [
    "### `[미니 퀴즈 - 3.6]`\n",
    "- `SVD 예제에서 하이퍼 파라미터를 바꿔가며 RMSE를 출력해 보세요.` \n",
    "    - RMSE를 이용해 적당한 하이퍼 파라미터 n_factors를 찾아봅시다.\n",
    "    - 하이퍼 파라미터 n_factors 설정 변화에 따른 RMSE 그래프를 출력해 보세요."
   ]
  },
  {
   "cell_type": "markdown",
   "metadata": {},
   "source": [
    "##### 하이퍼 파라미터 튜닝 예시"
   ]
  },
  {
   "cell_type": "code",
   "execution_count": 50,
   "metadata": {
    "scrolled": true
   },
   "outputs": [
    {
     "name": "stdout",
     "output_type": "stream",
     "text": [
      "training time of model: 48.02 seconds\n",
      "RMSE of test dataset in SVD model, n_factors=1\n",
      "RMSE: 0.8850\n",
      "------------------------------------\n",
      "training time of model: 51.68 seconds\n",
      "RMSE of test dataset in SVD model, n_factors=2\n",
      "RMSE: 0.8752\n",
      "------------------------------------\n",
      "training time of model: 51.24 seconds\n",
      "RMSE of test dataset in SVD model, n_factors=3\n",
      "RMSE: 0.8684\n",
      "------------------------------------\n",
      "training time of model: 53.13 seconds\n",
      "RMSE of test dataset in SVD model, n_factors=4\n",
      "RMSE: 0.8663\n",
      "------------------------------------\n",
      "training time of model: 57.26 seconds\n",
      "RMSE of test dataset in SVD model, n_factors=5\n",
      "RMSE: 0.8616\n",
      "------------------------------------\n",
      "training time of model: 62.25 seconds\n",
      "RMSE of test dataset in SVD model, n_factors=6\n",
      "RMSE: 0.8621\n",
      "------------------------------------\n",
      "training time of model: 62.63 seconds\n",
      "RMSE of test dataset in SVD model, n_factors=7\n",
      "RMSE: 0.8598\n",
      "------------------------------------\n",
      "training time of model: 63.21 seconds\n",
      "RMSE of test dataset in SVD model, n_factors=8\n",
      "RMSE: 0.8605\n",
      "------------------------------------\n",
      "training time of model: 68.43 seconds\n",
      "RMSE of test dataset in SVD model, n_factors=9\n",
      "RMSE: 0.8672\n",
      "------------------------------------\n",
      "training time of model: 73.18 seconds\n",
      "RMSE of test dataset in SVD model, n_factors=10\n",
      "RMSE: 0.8634\n",
      "------------------------------------\n",
      "training time of model: 70.34 seconds\n",
      "RMSE of test dataset in SVD model, n_factors=11\n",
      "RMSE: 0.8645\n",
      "------------------------------------\n",
      "training time of model: 69.77 seconds\n",
      "RMSE of test dataset in SVD model, n_factors=12\n",
      "RMSE: 0.8689\n",
      "------------------------------------\n",
      "training time of model: 67.30 seconds\n",
      "RMSE of test dataset in SVD model, n_factors=13\n",
      "RMSE: 0.8707\n",
      "------------------------------------\n",
      "training time of model: 75.45 seconds\n",
      "RMSE of test dataset in SVD model, n_factors=14\n",
      "RMSE: 0.8723\n",
      "------------------------------------\n",
      "searching n_factors is finish.\n"
     ]
    }
   ],
   "source": [
    "rmse_list_by_factors = []\n",
    "ttime_list_by_factors = []\n",
    "for n in range(1, 15):    \n",
    "    train_start = time.time()\n",
    "    model = SVD(n_factors=n,\n",
    "                lr_all=0.005,\n",
    "                reg_all=0.02,\n",
    "                n_epochs=100)\n",
    "    model.fit(train_data)\n",
    "    train_end = time.time()\n",
    "    print(\"training time of model: %.2f seconds\" % (train_end - train_start))\n",
    "    print(\"RMSE of test dataset in SVD model, n_factors=\" + str(n))\n",
    "    predictions = model.test(test_data)\n",
    "    rmse_result = accuracy.rmse(predictions)\n",
    "    rmse_list_by_factors.append(rmse_result)\n",
    "    ttime_list_by_factors.append((train_end - train_start))\n",
    "    print(\"------------------------------------\")\n",
    "print(\"searching n_factors is finish.\")"
   ]
  },
  {
   "cell_type": "code",
   "execution_count": 51,
   "metadata": {},
   "outputs": [
    {
     "data": {
      "image/png": "[encoded data removed]",
      "text/plain": [
       "<Figure size 720x720 with 1 Axes>"
      ]
     },
     "metadata": {
      "needs_background": "light"
     },
     "output_type": "display_data"
    }
   ],
   "source": [
    "plt.plot(range(1, 15), rmse_list_by_factors, alpha=0.8)\n",
    "plt.title('RMSE by n_factors of SVD')\n",
    "plt.ylabel('RMSE', fontsize=12)\n",
    "plt.xlabel('n_factors', fontsize=12)\n",
    "plt.show()"
   ]
  },
  {
   "cell_type": "code",
   "execution_count": 52,
   "metadata": {},
   "outputs": [
    {
     "data": {
      "image/png": "[encoded data removed]",
      "text/plain": [
       "<Figure size 720x720 with 1 Axes>"
      ]
     },
     "metadata": {
      "needs_background": "light"
     },
     "output_type": "display_data"
    }
   ],
   "source": [
    "plt.plot(range(1, 15), ttime_list_by_factors, alpha=0.8)\n",
    "plt.title('Training time by n_factors of SVD')\n",
    "plt.ylabel('Training time', fontsize=12)\n",
    "plt.xlabel('n_factors', fontsize=12)\n",
    "plt.show()"
   ]
  },
  {
   "cell_type": "markdown",
   "metadata": {},
   "source": [
    "-----"
   ]
  },
  {
   "cell_type": "markdown",
   "metadata": {},
   "source": [
    "### [실제 평점과의 비교 시각화]"
   ]
  },
  {
   "cell_type": "markdown",
   "metadata": {},
   "source": [
    "##### 평점 예측 단계"
   ]
  },
  {
   "cell_type": "code",
   "execution_count": 53,
   "metadata": {},
   "outputs": [],
   "source": [
    "# 타겟 유저 정보를 테스트 데이터로 생성합니다.\n",
    "test_data = []\n",
    "for index, row in movie_data.iterrows():\n",
    "    movie_id = row['movie_id']\n",
    "    if movie_id in target_user_movie_rating_dict:\n",
    "        rating = target_user_movie_rating_dict[movie_id]\n",
    "        test_data.append((target_user_id, movie_id, rating))"
   ]
  },
  {
   "cell_type": "code",
   "execution_count": 54,
   "metadata": {},
   "outputs": [],
   "source": [
    "# 타겟 유저의 평점 점수를 예측합니다.\n",
    "target_user_predictions = model.test(test_data)\n",
    "\n",
    "# 예측된 점수 중, 타겟 유저의 영화별 점수를 target_user_movie_predict_dict로 저장합니다.\n",
    "def get_user_predicted_ratings(predictions, user_id, user_history):\n",
    "    target_user_movie_predict_dict = {}\n",
    "    for uid, mid, rating, predicted_rating, _ in predictions:\n",
    "        if user_id == uid:\n",
    "            if mid in user_history:\n",
    "                target_user_movie_predict_dict[mid] = predicted_rating\n",
    "    return target_user_movie_predict_dict\n",
    "\n",
    "# target_user_movie_predict_dict에서 예측된 점수 중, 타겟 유저의 Top 10 영화를 선정합니다.\n",
    "target_user_movie_predict_dict = get_user_predicted_ratings(predictions=target_user_predictions, \n",
    "                                                            user_id=target_user_id, \n",
    "                                                            user_history=target_user_movie_rating_dict)"
   ]
  },
  {
   "cell_type": "code",
   "execution_count": 55,
   "metadata": {},
   "outputs": [
    {
     "data": {
      "text/plain": [
       "{260: 4.669811760232215,\n",
       " 480: 3.5499520398324664,\n",
       " 1036: 4.067559263810663,\n",
       " 1097: 4.422685165390757,\n",
       " 1196: 4.386054549328846,\n",
       " 1198: 4.730425980231516,\n",
       " 1201: 4.59109135474278,\n",
       " 1210: 3.919841339066396,\n",
       " 1214: 4.311090900869608,\n",
       " 1240: 4.126578825072968,\n",
       " 1387: 4.430187368191141,\n",
       " 1954: 4.393215562513734,\n",
       " 2028: 4.698629475204382,\n",
       " 2366: 4.169690088504024,\n",
       " 2692: 4.3092535728934065,\n",
       " 2947: 4.480990921258208,\n",
       " 2951: 4.409884720934135,\n",
       " 3418: 4.100185144693687,\n",
       " 3468: 4.973090802820813,\n",
       " 3527: 3.117144386132302,\n",
       " 3702: 3.81550109821816}"
      ]
     },
     "execution_count": 55,
     "metadata": {},
     "output_type": "execute_result"
    }
   ],
   "source": [
    "target_user_movie_predict_dict"
   ]
  },
  {
   "cell_type": "code",
   "execution_count": 56,
   "metadata": {},
   "outputs": [
    {
     "name": "stdout",
     "output_type": "stream",
     "text": [
      "movie 1 : Star Wars: Episode IV - A New Hope (1977) - 5 / 4.67\n",
      "movie 2 : Jurassic Park (1993) - 4 / 3.55\n",
      "movie 3 : Die Hard (1988) - 4 / 4.07\n",
      "movie 4 : E.T. the Extra-Terrestrial (1982) - 4 / 4.42\n",
      "movie 5 : Star Wars: Episode V - The Empire Strikes Back (1980) - 2 / 4.39\n",
      "movie 6 : Raiders of the Lost Ark (1981) - 5 / 4.73\n",
      "movie 7 : Good, The Bad and The Ugly, The (1966) - 5 / 4.59\n",
      "movie 8 : Star Wars: Episode VI - Return of the Jedi (1983) - 3 / 3.92\n",
      "movie 9 : Alien (1979) - 4 / 4.31\n",
      "movie 10 : Terminator, The (1984) - 5 / 4.13\n",
      "movie 11 : Jaws (1975) - 5 / 4.43\n",
      "movie 12 : Rocky (1976) - 5 / 4.39\n",
      "movie 13 : Saving Private Ryan (1998) - 5 / 4.7\n",
      "movie 14 : King Kong (1933) - 4 / 4.17\n",
      "movie 15 : Run Lola Run (Lola rennt) (1998) - 5 / 4.31\n",
      "movie 16 : Goldfinger (1964) - 5 / 4.48\n",
      "movie 17 : Fistful of Dollars, A (1964) - 4 / 4.41\n",
      "movie 18 : Thelma & Louise (1991) - 4 / 4.1\n",
      "movie 19 : Hustler, The (1961) - 5 / 4.97\n",
      "movie 20 : Predator (1987) - 1 / 3.12\n",
      "movie 21 : Mad Max (1979) - 4 / 3.82\n"
     ]
    }
   ],
   "source": [
    "# 예측 점수와 실제 점수를 영화 타이틀에 매핑합니다.\n",
    "origin_rating_list = []\n",
    "predicted_rating_list = []\n",
    "movie_title_list = []\n",
    "idx = 0\n",
    "for movie_id, predicted_rating in target_user_movie_predict_dict.items():\n",
    "    idx = idx + 1\n",
    "    predicted_rating = round(predicted_rating, 2)\n",
    "    origin_rating = target_user_movie_rating_dict[movie_id]\n",
    "    movie_title = movie_dict[movie_id]\n",
    "    print(\"movie\", str(idx), \":\", movie_title, \"-\", origin_rating, \"/\", predicted_rating)\n",
    "    origin_rating_list.append(origin_rating)\n",
    "    predicted_rating_list.append(predicted_rating)\n",
    "    movie_title_list.append(str(idx))"
   ]
  },
  {
   "cell_type": "markdown",
   "metadata": {},
   "source": [
    "-----"
   ]
  },
  {
   "cell_type": "markdown",
   "metadata": {},
   "source": [
    "##### 결과의 시각화"
   ]
  },
  {
   "cell_type": "code",
   "execution_count": 57,
   "metadata": {},
   "outputs": [
    {
     "data": {
      "image/png": "[encoded data removed]",
      "text/plain": [
       "<Figure size 720x432 with 1 Axes>"
      ]
     },
     "metadata": {
      "needs_background": "light"
     },
     "output_type": "display_data"
    }
   ],
   "source": [
    "# 실제 점수와 예측 점수를 리스트로 추출합니다.\n",
    "origin = origin_rating_list\n",
    "predicted = predicted_rating_list\n",
    " \n",
    "# 영화의 개수만큼 bar 그래프의 index 개수를 생성합니다.\n",
    "plt.rcParams['figure.figsize'] = (10,6)\n",
    "index = np.arange(len(movie_title_list))\n",
    "bar_width = 0.2\n",
    " \n",
    "# 실제 점수와 예측 점수를 bar 그래프로 출력합니다.\n",
    "rects1 = plt.bar(index, origin, bar_width,\n",
    "                 color='orange',\n",
    "                 label='Origin')\n",
    "rects2 = plt.bar(index + bar_width, predicted, bar_width,\n",
    "                 color='green',\n",
    "                 label='Predicted')\n",
    "plt.xticks(index, movie_title_list)\n",
    "plt.legend()\n",
    "plt.show()"
   ]
  },
  {
   "cell_type": "markdown",
   "metadata": {},
   "source": [
    "-----"
   ]
  },
  {
   "cell_type": "markdown",
   "metadata": {},
   "source": [
    "### `한걸음 더 나아가기`\n",
    "- `20대가 좋아할만한 영화 예측하기.` "
   ]
  },
  {
   "cell_type": "markdown",
   "metadata": {},
   "source": [
    "##### 20대 유저 리스트 선정"
   ]
  },
  {
   "cell_type": "code",
   "execution_count": 58,
   "metadata": {},
   "outputs": [],
   "source": [
    "user_age_20_list = user_data[user_data['ages']==\"20\"]['user_id'].tolist()"
   ]
  },
  {
   "cell_type": "markdown",
   "metadata": {},
   "source": [
    "- 평가하지 않은 user-movie rating들에 대한 예측값을 통해, 20대가 좋아할 것 같은 영화 리스트 선정"
   ]
  },
  {
   "cell_type": "markdown",
   "metadata": {},
   "source": [
    "-----"
   ]
  },
  {
   "cell_type": "markdown",
   "metadata": {},
   "source": [
    "##### (참고) 아래의 코드는 약 10분 이상이 소요되는 과정입니다."
   ]
  },
  {
   "cell_type": "code",
   "execution_count": 59,
   "metadata": {},
   "outputs": [
    {
     "name": "stdout",
     "output_type": "stream",
     "text": [
      "preprocess time: 536.19 seconds\n"
     ]
    }
   ],
   "source": [
    "# 평가하지 않은 user-movie rating들에 대한 예측값을 계산합니다.\n",
    "preprocess_start = time.time()\n",
    "test_data = train_data.build_anti_testset()\n",
    "predictions = model.test(test_data)\n",
    "\n",
    "# 평가하지 않은 user-movie rating 중에서, 20대의 예측값을 선별합니다.\n",
    "hidden_user_age_20_movie_predict_dict = {}\n",
    "for uid, mid, _, predicted_rating, _ in predictions:\n",
    "    if uid in user_age_20_list:\n",
    "        if mid in hidden_user_age_20_movie_predict_dict:\n",
    "            hidden_user_age_20_movie_predict_dict[mid]['sum'] += predicted_rating\n",
    "            hidden_user_age_20_movie_predict_dict[mid]['count'] += 1\n",
    "        else:\n",
    "            hidden_user_age_20_movie_predict_dict[mid] = {}\n",
    "            hidden_user_age_20_movie_predict_dict[mid]['sum'] = predicted_rating\n",
    "            hidden_user_age_20_movie_predict_dict[mid]['count'] = 1\n",
    "\n",
    "# 영화마다 20대 유저의 rating 평균값을 계산합니다.\n",
    "for movie_id, score_dict in hidden_user_age_20_movie_predict_dict.items():\n",
    "    score_dict['mean'] = score_dict['sum'] / score_dict['count']\n",
    "    \n",
    "# Top 10 movie_id를 추출합니다.\n",
    "hidden_user_age_20_movie_list = sorted(hidden_user_age_20_movie_predict_dict, \n",
    "                                       key=lambda x: (hidden_user_age_20_movie_predict_dict[x]['mean']), \n",
    "                                       reverse=True)[:10]\n",
    "\n",
    "preprocess_end = time.time()\n",
    "print(\"preprocess time: %.2f seconds\" % (preprocess_end - preprocess_start))"
   ]
  },
  {
   "cell_type": "code",
   "execution_count": 60,
   "metadata": {},
   "outputs": [
    {
     "name": "stdout",
     "output_type": "stream",
     "text": [
      "20대가 좋아할지도 모르는 영화 Top 10\n",
      "---------------------------------\n",
      "title: Sanjuro (1962) | rating: 4.614211592128805\n",
      "title: Usual Suspects, The (1995) | rating: 4.507429968125585\n",
      "title: Shawshank Redemption, The (1994) | rating: 4.501622776963358\n",
      "title: Lamerica (1994) | rating: 4.4710823068785706\n",
      "title: Schindler's List (1993) | rating: 4.421405520686119\n",
      "title: Gate of Heavenly Peace, The (1995) | rating: 4.388158707460173\n",
      "title: Seven Samurai (The Magnificent Seven) (Shichinin no samurai) (1954) | rating: 4.3848875725526595\n",
      "title: Rear Window (1954) | rating: 4.376849170003736\n",
      "title: Close Shave, A (1995) | rating: 4.359447901206616\n",
      "title: Raiders of the Lost Ark (1981) | rating: 4.3553438584979185\n"
     ]
    }
   ],
   "source": [
    "# 선정된 리스트를 출력합니다.\n",
    "print(\"20대가 좋아할지도 모르는 영화 Top 10\")\n",
    "print(\"---------------------------------\")\n",
    "for movie_id in hidden_user_age_20_movie_list:\n",
    "    movie_title = movie_dict[movie_id]\n",
    "    age_20_rating = hidden_user_age_20_movie_predict_dict[movie_id]['mean']\n",
    "    print(\"title:\", movie_title, \"| rating:\", age_20_rating)"
   ]
  }
 ],
 "metadata": {
  "kernelspec": {
   "display_name": "Python 3",
   "language": "python",
   "name": "python3"
  },
  "language_info": {
   "codemirror_mode": {
    "name": "ipython",
    "version": 3
   },
   "file_extension": ".py",
   "mimetype": "text/x-python",
   "name": "python",
   "nbconvert_exporter": "python",
   "pygments_lexer": "ipython3",
   "version": "3.8.10"
  },
  "toc": {
   "base_numbering": 1,
   "nav_menu": {},
   "number_sections": true,
   "sideBar": true,
   "skip_h1_title": false,
   "title_cell": "Table of Contents",
   "title_sidebar": "Contents",
   "toc_cell": false,
   "toc_position": {
    "height": "calc(100% - 180px)",
    "left": "10px",
    "top": "150px",
    "width": "384px"
   },
   "toc_section_display": true,
   "toc_window_display": true
  }
 },
 "nbformat": 4,
 "nbformat_minor": 4
}
