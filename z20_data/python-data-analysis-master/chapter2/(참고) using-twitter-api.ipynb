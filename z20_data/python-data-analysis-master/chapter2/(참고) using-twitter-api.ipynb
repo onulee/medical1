{
 "cells": [
  {
   "cell_type": "markdown",
   "metadata": {},
   "source": [
    "Copyright (c) 2019 [윤기태]\n",
    "\n",
    "https://github.com/yoonkt200/python-data-analysis\n",
    "\n",
    "[MIT License](https://github.com/yoonkt200/python-data-analysis/blob/master/LICENSE.txt)"
   ]
  },
  {
   "cell_type": "markdown",
   "metadata": {},
   "source": [
    "# (가제) 파이썬 데이터 분석"
   ]
  },
  {
   "cell_type": "markdown",
   "metadata": {},
   "source": [
    "-----"
   ]
  },
  {
   "cell_type": "markdown",
   "metadata": {},
   "source": [
    "# 트위터 API 사용법"
   ]
  },
  {
   "cell_type": "markdown",
   "metadata": {},
   "source": [
    "### 1. 트위터 개발자 계정 신청"
   ]
  },
  {
   "cell_type": "markdown",
   "metadata": {},
   "source": [
    "- 트위터 개발자 앱 등록 페이지 : https://developer.twitter.com/en/apps\n",
    "    - `개발자 계정이 없는 경우, 아래와 같은 과정을 거쳐 개발자 계정을 등록`"
   ]
  },
  {
   "cell_type": "markdown",
   "metadata": {},
   "source": [
    "![앱 생성 페이지](img/1.png)"
   ]
  },
  {
   "cell_type": "markdown",
   "metadata": {},
   "source": [
    "![앱 생성 페이지](img/2.png)"
   ]
  },
  {
   "cell_type": "markdown",
   "metadata": {},
   "source": [
    "![앱 생성 페이지](img/3.png)"
   ]
  },
  {
   "cell_type": "markdown",
   "metadata": {},
   "source": [
    "![앱 생성 페이지](img/4.png)"
   ]
  },
  {
   "cell_type": "markdown",
   "metadata": {},
   "source": [
    "![앱 생성 페이지](img/5.png)"
   ]
  },
  {
   "cell_type": "markdown",
   "metadata": {},
   "source": [
    "- 개발자 등록을 마친 계정은 며칠 후에 승인을 받게 됩니다."
   ]
  },
  {
   "cell_type": "markdown",
   "metadata": {},
   "source": [
    "-----"
   ]
  },
  {
   "cell_type": "markdown",
   "metadata": {},
   "source": [
    "### 2. 트위터 apps 등록"
   ]
  },
  {
   "cell_type": "markdown",
   "metadata": {},
   "source": [
    "- `개발자 앱 등록`"
   ]
  },
  {
   "cell_type": "markdown",
   "metadata": {},
   "source": [
    "![앱 생성 페이지](img/1.png)"
   ]
  },
  {
   "cell_type": "markdown",
   "metadata": {},
   "source": [
    "-----\n",
    "- `아래의 내용을 기입하여 앱을 생성`\n",
    "    - Name : 앱의 이름\n",
    "    - Description : 앱의 요약\n",
    "    - Website : 앱에서 보여질 URL (아무 주소나 넣어도 상관 X)\n",
    "    - ..."
   ]
  },
  {
   "cell_type": "markdown",
   "metadata": {},
   "source": [
    "![앱 생성 페이지](img/6.png)"
   ]
  },
  {
   "cell_type": "markdown",
   "metadata": {},
   "source": [
    "![앱 생성 페이지](img/7.png)"
   ]
  },
  {
   "cell_type": "markdown",
   "metadata": {},
   "source": [
    "-----\n",
    "- `앱 생성 후, 아래의 중요 정보를 반드시 확인`\n",
    "    - Consumer Key (API Key)\n",
    "    - Consumer Secret (API Secret)\n",
    "    - Access Token\n",
    "    - Access Token Secret"
   ]
  },
  {
   "cell_type": "markdown",
   "metadata": {},
   "source": [
    "![앱 생성 페이지](img/8.png)"
   ]
  },
  {
   "cell_type": "markdown",
   "metadata": {},
   "source": [
    "-----"
   ]
  },
  {
   "cell_type": "markdown",
   "metadata": {},
   "source": [
    "### 3. 파이썬 API 설정"
   ]
  },
  {
   "cell_type": "markdown",
   "metadata": {},
   "source": [
    "- 아래 코드 실행을 위해, anaconda prompt 혹은 Terminal에서 아래와 같은 패키지들을 설치해 줍니다.\n",
    "    - (env_name) `pip install beautifulsoup4`\n",
    "    - (env_name) `pip install lxml`\n",
    "- 혹은 아래의 코드로 라이브러리를 설치합니다."
   ]
  },
  {
   "cell_type": "code",
   "execution_count": 2,
   "metadata": {},
   "outputs": [],
   "source": [
    "# 패키지 설치 확인\n",
    "import tweepy"
   ]
  },
  {
   "cell_type": "markdown",
   "metadata": {},
   "source": [
    "-----"
   ]
  },
  {
   "cell_type": "markdown",
   "metadata": {},
   "source": [
    "- 2. 아래의 코드를 실행하여 API 토큰 인증"
   ]
  },
  {
   "cell_type": "code",
   "execution_count": 3,
   "metadata": {},
   "outputs": [],
   "source": [
    "import tweepy\n",
    "\n",
    "# 발급 완료된 키를 {your_key} 대신 입력합니다.\n",
    "CONSUMER_KEY = \"{your_key}\"\n",
    "CONSUMER_SECRET = \"{your_key}\"\n",
    "ACCESS_TOKEN_KEY = \"{your_key}\"\n",
    "ACCESS_TOKEN_SECRET = \"{your_key}\"\n",
    "\n",
    "# 개인정보 인증을 요청하는 Handler입니다.\n",
    "auth = tweepy.OAuthHandler(CONSUMER_KEY, CONSUMER_SECRET)\n",
    "\n",
    "# 인증 요청을 수행합니다.\n",
    "auth.set_access_token(ACCESS_TOKEN_KEY, ACCESS_TOKEN_SECRET)\n",
    "\n",
    "# twitter API를 사용하기 위한 준비입니다.\n",
    "api = tweepy.API(auth)"
   ]
  },
  {
   "cell_type": "code",
   "execution_count": 4,
   "metadata": {
    "scrolled": true
   },
   "outputs": [
    {
     "name": "stdout",
     "output_type": "stream",
     "text": [
      "[]\n",
      "[]\n",
      "\"한국은 손흥민 포함 다수 유럽파, 힘든 경기 예상\" 투르크메니스탄 감독 https://t.co/T109ZzugSq\n",
      "[]\n",
      "[]\n",
      "부족했던, 그러나 더 기대됐던 손흥민의 개막전\n",
      "[]\n",
      "[]\n",
      "카테고리아프리메라A\n",
      "브라질축구\n",
      "콜롬비아리그\n",
      "라에키다드\n",
      "축구선수\n",
      "브라간치누\n",
      "플라멩구\n",
      "콜롬비아축구\n",
      "스포츠토토\n",
      "라이브스코어\n",
      "브라질리그\n",
      "프미리어리그\n",
      "브라질세리에A\n",
      "토트넘해외축구\n",
      "골오오\n",
      "손흥민\n",
      "opportunity7… https://t.co/8CJBoWWjX3\n",
      "[]\n",
      "[]\n",
      "챔피언스리그\n",
      "토트넘축맞팔\n",
      "무리뉴\n",
      "광저우\n",
      "호날두\n",
      "음바페\n",
      "박지수\n",
      "케인\n",
      "유벤투스\n",
      "챔스\n",
      "챔피언스리그\n",
      "축구\n",
      "프리미어리그\n",
      "디나모키예프\n",
      "광저우헝다\n",
      "파리생제르맹\n",
      "손흥민\n",
      "챔스\n",
      "네이마르\n",
      "맨유\n",
      "backward19586 https://t.co/B7ScSjTllC\n",
      "[{'screen_name': 'sonny_cut', 'name': '쏘니컷🎬𝙎𝙤𝙣𝙣𝙮_𝙘𝙪𝙩', 'id': 418732818, 'id_str': '418732818', 'indices': [3, 13]}]\n",
      "[{'text': '손흥민', 'indices': [32, 36]}]\n",
      "RT @sonny_cut: 190611 이란전 트레이닝컷 #손흥민\n",
      "\n",
      "full ver 👉🏻 https://t.co/xglIiTPrhp https://t.co/yaIGwy9Z35\n",
      "[]\n",
      "[]\n",
      "https://t.co/UcH2TDqTRs\n",
      "https://t.co/DQDg30IWYZ\n",
      "https://t.co/af0VrIacTp\n",
      "Heung Min Son  손흥민   에릭 다이어\n",
      "Eric Dier 얀 버르트… https://t.co/cRiGtcP6ZL\n",
      "[{'screen_name': 'btob2mh', 'name': 'HUTA', 'id': 1522352430, 'id_str': '1522352430', 'indices': [0, 8]}]\n",
      "[{'text': '허타람찌', 'indices': [73, 78]}, {'text': '다정한허타람찌', 'indices': [79, 87]}, {'text': '이민혁', 'indices': [88, 92]}]\n",
      "@btob2mh \n",
      "우리 민혁님이 좋아하는 축구하네용ㅎ\n",
      "2022 카타르 월드컵 예선\n",
      "대한민국 vs 투르크메니스탄\n",
      "손흥민 선수 출전!\n",
      "#허타람찌 #다정한허타람찌 #이민혁 💙🐿💙 https://t.co/j2PSUPG1A1\n",
      "[{'screen_name': 'sonny_record', 'name': '쏘니컷기록', 'id': 2177893836, 'id_str': '2177893836', 'indices': [3, 16]}]\n",
      "[{'text': '손흥민', 'indices': [35, 39]}]\n",
      "RT @sonny_record: 210603 트레이닝세션 타래 #손흥민 https://t.co/QqLEy0r0dt\n",
      "[]\n",
      "[{'text': '오늘의해외축구', 'indices': [92, 100]}]\n",
      "토트넘은 여전히 대한민국 공격수 손흥민과 재계약에 관한 협상을 진행하고 있으며, 새 감독이 선임되면 합의에 이를 것이라 자신하고 있다. (파브리지오 로마노 트위터) #오늘의해외축구 https://t.co/UufQr1SkHX\n",
      "[{'screen_name': 'pm7400', 'name': '머스탱 러브', 'id': 364208868, 'id_str': '364208868', 'indices': [3, 10]}]\n",
      "[]\n",
      "RT @pm7400: https://t.co/iUWThcpQSe\n",
      "난리난 싱가폴  토트넘 대 유벤투스  손흥민 싸인 사진촬영 악수에 계탄 팬들  Cristiano Ronaldo , Heung Min Son\n",
      "얼굴가리기 컨셉 잡은 하루 SON\n",
      "Singap…\n",
      "[{'screen_name': 'pm7400', 'name': '머스탱 러브', 'id': 364208868, 'id_str': '364208868', 'indices': [3, 10]}]\n",
      "[]\n",
      "RT @pm7400: https://t.co/dLwNIup3mu\n",
      "토트넘 왼쪽 풀백 보여주는 손흥민  국가대표 소집 훈련 Son Heung Min\n",
      "This is Tottenham  defense https://t.co/dr1tZGbjTp\n",
      "[{'screen_name': 'pm7400', 'name': '머스탱 러브', 'id': 364208868, 'id_str': '364208868', 'indices': [3, 10]}]\n",
      "[]\n",
      "RT @pm7400: https://t.co/1b7gxUd5hX\n",
      "토트넘 스카이라운지에 올라 마스코트 터치 하다 강심장 손흥민  베르바인 탕강가 겁쟁이   Heung Min Son https://t.co/6nEt4LsXzv\n",
      "[{'screen_name': 'sonny_record', 'name': '쏘니컷기록', 'id': 2177893836, 'id_str': '2177893836', 'indices': [3, 16]}]\n",
      "[{'text': '손흥민', 'indices': [35, 39]}]\n",
      "RT @sonny_record: 210603 트레이닝세션 타래 #손흥민 https://t.co/QqLEy0r0dt\n",
      "[{'screen_name': 'hmson7_fcthai', 'name': '🇰🇷🇹🇭SonheungminFCThai🐇🐓 (FanSupportTHAILAND)', 'id': 2436642744, 'id_str': '2436642744', 'indices': [3, 17]}]\n",
      "[]\n",
      "RT @hmson7_fcthai: กิจกรรมสุดท้ายก่อนปิดซีซั่่น SonHeungminFCThai special The memories🔥🔥🔥🔥\n",
      "🔷ซีซั่น 2020/21 แฟนๆอปป้าซนนี่ประทับใจประตูไหนมา…\n",
      "[{'screen_name': 'hmson7_fcthai', 'name': '🇰🇷🇹🇭SonheungminFCThai🐇🐓 (FanSupportTHAILAND)', 'id': 2436642744, 'id_str': '2436642744', 'indices': [0, 14]}]\n",
      "[]\n",
      "@hmson7_fcthai ￼\n",
      "Son Heung-min has given Tottenham Hotspur the lead against Arsenal with a wonderful curled effort… https://t.co/SPHUpB0d9i\n"
     ]
    }
   ],
   "source": [
    "# twitter API를 사용하여 ‘손흥민’이 포함된 트윗들을 크롤링한 뒤, entities 에서 ‘user_mentions’, ‘hashtags’를 추출합니다.\n",
    "keyword = \"손흥민\"\n",
    "tweets = api.search(keyword)\n",
    "for tweet in tweets:\n",
    "    print(tweet.entities['user_mentions'])\n",
    "    print(tweet.entities['hashtags'])\n",
    "    print(tweet.text)"
   ]
  },
  {
   "cell_type": "code",
   "execution_count": null,
   "metadata": {},
   "outputs": [],
   "source": []
  }
 ],
 "metadata": {
  "kernelspec": {
   "display_name": "Python 3",
   "language": "python",
   "name": "python3"
  },
  "language_info": {
   "codemirror_mode": {
    "name": "ipython",
    "version": 3
   },
   "file_extension": ".py",
   "mimetype": "text/x-python",
   "name": "python",
   "nbconvert_exporter": "python",
   "pygments_lexer": "ipython3",
   "version": "3.8.5"
  },
  "toc": {
   "base_numbering": 1,
   "nav_menu": {},
   "number_sections": true,
   "sideBar": true,
   "skip_h1_title": false,
   "title_cell": "Table of Contents",
   "title_sidebar": "Contents",
   "toc_cell": false,
   "toc_position": {},
   "toc_section_display": true,
   "toc_window_display": true
  }
 },
 "nbformat": 4,
 "nbformat_minor": 4
}
