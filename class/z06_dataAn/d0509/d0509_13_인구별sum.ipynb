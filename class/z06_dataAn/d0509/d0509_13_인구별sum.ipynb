{
 "cells": [
  {
   "cell_type": "code",
   "execution_count": 102,
   "metadata": {},
   "outputs": [
    {
     "name": "stderr",
     "output_type": "stream",
     "text": [
      "c:\\Python312\\Lib\\site-packages\\openpyxl\\styles\\stylesheet.py:226: UserWarning: Workbook contains no default style, apply openpyxl's default\n",
      "  warn(\"Workbook contains no default style, apply openpyxl's default\")\n"
     ]
    }
   ],
   "source": [
    "import pandas as pd\n",
    "df = pd.read_excel('../z20_data/20230103_인구.xlsx',skiprows=3,usecols='B,E:Y',index_col='행정기관')"
   ]
  },
  {
   "cell_type": "code",
   "execution_count": 103,
   "metadata": {},
   "outputs": [],
   "source": [
    "## 컬럼별 타입 변경\n",
    "# df.info()\n",
    "for i in range(len(df)):\n",
    "    df.iloc[i] = df.iloc[i].str.replace(\",\",\"\").astype(int)"
   ]
  },
  {
   "cell_type": "code",
   "execution_count": 104,
   "metadata": {},
   "outputs": [],
   "source": [
    "# 마지막 컬럼에 총합컬럼을 추가\n",
    "df['총합'] = 0"
   ]
  },
  {
   "cell_type": "code",
   "execution_count": 90,
   "metadata": {},
   "outputs": [
    {
     "data": {
      "text/plain": [
       "(18, 21)"
      ]
     },
     "execution_count": 90,
     "metadata": {},
     "output_type": "execute_result"
    }
   ],
   "source": [
    "df.shape"
   ]
  },
  {
   "cell_type": "code",
   "execution_count": 93,
   "metadata": {},
   "outputs": [
    {
     "data": {
      "text/plain": [
       "(18, 22)"
      ]
     },
     "execution_count": 93,
     "metadata": {},
     "output_type": "execute_result"
    }
   ],
   "source": [
    "df.shape"
   ]
  },
  {
   "cell_type": "code",
   "execution_count": 105,
   "metadata": {},
   "outputs": [],
   "source": [
    "# df['총합'] = df['0~4세']+df['5~9세']+......[]\n",
    "# 마지막 총합컬럼의 첫번째 rows\n",
    "# 처음 전국 index의 가로 합\n",
    "# for문으로 row개수만큼 실행시키면 데이터가 모두 들어감.\n",
    "# df.iloc[0,21] = df.iloc[0].sum()\n",
    "\n",
    "for i in range(len(df)):\n",
    "    df.iloc[i,21] = df.iloc[i].sum() # 총합의 컬럼위치를 찾을수 있어야 함."
   ]
  },
  {
   "cell_type": "code",
   "execution_count": 106,
   "metadata": {},
   "outputs": [
    {
     "data": {
      "text/plain": [
       "행정기관\n",
       "전국           25631538\n",
       "서울특별시         4567739\n",
       "부산광역시         1618749\n",
       "대구광역시         1162217\n",
       "인천광역시         1486300\n",
       "광주광역시          706724\n",
       "대전광역시          721037\n",
       "울산광역시          570113\n",
       "세종특별자치시        191769\n",
       "경기도           6842226\n",
       "강원도            772297\n",
       "충청북도           810740\n",
       "충청남도          1086686\n",
       "전라북도           879922\n",
       "전라남도           914811\n",
       "경상북도          1310583\n",
       "경상남도          1650300\n",
       "제주특별자치도        339325\n",
       "Name: 총합, dtype: int64"
      ]
     },
     "execution_count": 106,
     "metadata": {},
     "output_type": "execute_result"
    }
   ],
   "source": [
    "df[df.columns[-1]]"
   ]
  }
 ],
 "metadata": {
  "kernelspec": {
   "display_name": "Python 3",
   "language": "python",
   "name": "python3"
  },
  "language_info": {
   "codemirror_mode": {
    "name": "ipython",
    "version": 3
   },
   "file_extension": ".py",
   "mimetype": "text/x-python",
   "name": "python",
   "nbconvert_exporter": "python",
   "pygments_lexer": "ipython3",
   "version": "3.12.0"
  }
 },
 "nbformat": 4,
 "nbformat_minor": 2
}
