{
 "cells": [
  {
   "cell_type": "code",
   "execution_count": 2,
   "metadata": {},
   "outputs": [
    {
     "name": "stdout",
     "output_type": "stream",
     "text": [
      "18.0.0.0.0\n"
     ]
    }
   ],
   "source": [
    "### 오라클 연결해서 데이터를 pandas변환\n",
    "import oracledb\n",
    "import pandas as pd\n",
    "\n"
   ]
  },
  {
   "cell_type": "code",
   "execution_count": 9,
   "metadata": {},
   "outputs": [
    {
     "name": "stdout",
     "output_type": "stream",
     "text": [
      "18.0.0.0.0\n"
     ]
    },
    {
     "name": "stderr",
     "output_type": "stream",
     "text": [
      "C:\\Users\\KOREAVC\\AppData\\Local\\Temp\\ipykernel_872\\1980312902.py:6: UserWarning: pandas only supports SQLAlchemy connectable (engine/connection) or database string URI or sqlite3 DBAPI2 connection. Other DBAPI2 objects are not tested. Please consider using SQLAlchemy.\n",
      "  df = pd.read_sql_query(query,conn)\n"
     ]
    },
    {
     "data": {
      "text/html": [
       "<div>\n",
       "<style scoped>\n",
       "    .dataframe tbody tr th:only-of-type {\n",
       "        vertical-align: middle;\n",
       "    }\n",
       "\n",
       "    .dataframe tbody tr th {\n",
       "        vertical-align: top;\n",
       "    }\n",
       "\n",
       "    .dataframe thead th {\n",
       "        text-align: right;\n",
       "    }\n",
       "</style>\n",
       "<table border=\"1\" class=\"dataframe\">\n",
       "  <thead>\n",
       "    <tr style=\"text-align: right;\">\n",
       "      <th></th>\n",
       "      <th>BNO</th>\n",
       "      <th>ID</th>\n",
       "      <th>BTITLE</th>\n",
       "      <th>BCONTENT</th>\n",
       "      <th>BDATE</th>\n",
       "      <th>BGROUP</th>\n",
       "      <th>BSTEP</th>\n",
       "      <th>BINDENT</th>\n",
       "      <th>BHIT</th>\n",
       "      <th>BFILE</th>\n",
       "    </tr>\n",
       "  </thead>\n",
       "  <tbody>\n",
       "    <tr>\n",
       "      <th>0</th>\n",
       "      <td>1</td>\n",
       "      <td>aaa</td>\n",
       "      <td>제목입니다.</td>\n",
       "      <td>내용입니다</td>\n",
       "      <td>2024-04-29 10:05:19</td>\n",
       "      <td>1</td>\n",
       "      <td>0</td>\n",
       "      <td>0</td>\n",
       "      <td>1</td>\n",
       "      <td>None</td>\n",
       "    </tr>\n",
       "    <tr>\n",
       "      <th>1</th>\n",
       "      <td>2</td>\n",
       "      <td>bbb</td>\n",
       "      <td>제목입니다2.</td>\n",
       "      <td>내용입니다2</td>\n",
       "      <td>2024-04-29 10:06:05</td>\n",
       "      <td>2</td>\n",
       "      <td>0</td>\n",
       "      <td>0</td>\n",
       "      <td>1</td>\n",
       "      <td>None</td>\n",
       "    </tr>\n",
       "    <tr>\n",
       "      <th>2</th>\n",
       "      <td>4</td>\n",
       "      <td>aaa</td>\n",
       "      <td>제목입니다.3</td>\n",
       "      <td>내용입니다3</td>\n",
       "      <td>2024-04-29 10:09:36</td>\n",
       "      <td>4</td>\n",
       "      <td>0</td>\n",
       "      <td>0</td>\n",
       "      <td>1</td>\n",
       "      <td>None</td>\n",
       "    </tr>\n",
       "  </tbody>\n",
       "</table>\n",
       "</div>"
      ],
      "text/plain": [
       "   BNO   ID   BTITLE BCONTENT               BDATE  BGROUP  BSTEP  BINDENT  \\\n",
       "0    1  aaa   제목입니다.    내용입니다 2024-04-29 10:05:19       1      0        0   \n",
       "1    2  bbb  제목입니다2.   내용입니다2 2024-04-29 10:06:05       2      0        0   \n",
       "2    4  aaa  제목입니다.3   내용입니다3 2024-04-29 10:09:36       4      0        0   \n",
       "\n",
       "   BHIT BFILE  \n",
       "0     1  None  \n",
       "1     1  None  \n",
       "2     1  None  "
      ]
     },
     "execution_count": 9,
     "metadata": {},
     "output_type": "execute_result"
    }
   ],
   "source": [
    "conn = oracledb.connect(user='ora_user',password='1111',dsn='localhost:1521/xe')\n",
    "print(conn.version)\n",
    "# cursor = conn.cursor()\n",
    "query = 'select * from board'\n",
    "# select 데이터가 df타입으로 변경되어 가지고 옴.\n",
    "df = pd.read_sql_query(query,conn)\n",
    "df\n"
   ]
  },
  {
   "cell_type": "code",
   "execution_count": 10,
   "metadata": {},
   "outputs": [],
   "source": [
    "conn.close()"
   ]
  },
  {
   "cell_type": "code",
   "execution_count": 11,
   "metadata": {},
   "outputs": [
    {
     "data": {
      "text/html": [
       "<div>\n",
       "<style scoped>\n",
       "    .dataframe tbody tr th:only-of-type {\n",
       "        vertical-align: middle;\n",
       "    }\n",
       "\n",
       "    .dataframe tbody tr th {\n",
       "        vertical-align: top;\n",
       "    }\n",
       "\n",
       "    .dataframe thead th {\n",
       "        text-align: right;\n",
       "    }\n",
       "</style>\n",
       "<table border=\"1\" class=\"dataframe\">\n",
       "  <thead>\n",
       "    <tr style=\"text-align: right;\">\n",
       "      <th></th>\n",
       "      <th>BNO</th>\n",
       "      <th>ID</th>\n",
       "      <th>BTITLE</th>\n",
       "      <th>BCONTENT</th>\n",
       "      <th>BDATE</th>\n",
       "      <th>BGROUP</th>\n",
       "      <th>BSTEP</th>\n",
       "      <th>BINDENT</th>\n",
       "      <th>BHIT</th>\n",
       "      <th>BFILE</th>\n",
       "    </tr>\n",
       "  </thead>\n",
       "  <tbody>\n",
       "    <tr>\n",
       "      <th>0</th>\n",
       "      <td>1</td>\n",
       "      <td>aaa</td>\n",
       "      <td>제목입니다.</td>\n",
       "      <td>내용입니다</td>\n",
       "      <td>2024-04-29 10:05:19</td>\n",
       "      <td>1</td>\n",
       "      <td>0</td>\n",
       "      <td>0</td>\n",
       "      <td>1</td>\n",
       "      <td>None</td>\n",
       "    </tr>\n",
       "    <tr>\n",
       "      <th>1</th>\n",
       "      <td>2</td>\n",
       "      <td>bbb</td>\n",
       "      <td>제목입니다2.</td>\n",
       "      <td>내용입니다2</td>\n",
       "      <td>2024-04-29 10:06:05</td>\n",
       "      <td>2</td>\n",
       "      <td>0</td>\n",
       "      <td>0</td>\n",
       "      <td>1</td>\n",
       "      <td>None</td>\n",
       "    </tr>\n",
       "    <tr>\n",
       "      <th>2</th>\n",
       "      <td>4</td>\n",
       "      <td>aaa</td>\n",
       "      <td>제목입니다.3</td>\n",
       "      <td>내용입니다3</td>\n",
       "      <td>2024-04-29 10:09:36</td>\n",
       "      <td>4</td>\n",
       "      <td>0</td>\n",
       "      <td>0</td>\n",
       "      <td>1</td>\n",
       "      <td>None</td>\n",
       "    </tr>\n",
       "  </tbody>\n",
       "</table>\n",
       "</div>"
      ],
      "text/plain": [
       "   BNO   ID   BTITLE BCONTENT               BDATE  BGROUP  BSTEP  BINDENT  \\\n",
       "0    1  aaa   제목입니다.    내용입니다 2024-04-29 10:05:19       1      0        0   \n",
       "1    2  bbb  제목입니다2.   내용입니다2 2024-04-29 10:06:05       2      0        0   \n",
       "2    4  aaa  제목입니다.3   내용입니다3 2024-04-29 10:09:36       4      0        0   \n",
       "\n",
       "   BHIT BFILE  \n",
       "0     1  None  \n",
       "1     1  None  \n",
       "2     1  None  "
      ]
     },
     "execution_count": 11,
     "metadata": {},
     "output_type": "execute_result"
    }
   ],
   "source": [
    "df"
   ]
  }
 ],
 "metadata": {
  "kernelspec": {
   "display_name": "Python 3",
   "language": "python",
   "name": "python3"
  },
  "language_info": {
   "codemirror_mode": {
    "name": "ipython",
    "version": 3
   },
   "file_extension": ".py",
   "mimetype": "text/x-python",
   "name": "python",
   "nbconvert_exporter": "python",
   "pygments_lexer": "ipython3",
   "version": "3.12.0"
  }
 },
 "nbformat": 4,
 "nbformat_minor": 2
}
