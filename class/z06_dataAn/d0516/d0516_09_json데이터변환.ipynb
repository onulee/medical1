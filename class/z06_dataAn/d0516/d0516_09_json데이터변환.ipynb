{
 "cells": [
  {
   "cell_type": "code",
   "execution_count": 4,
   "metadata": {},
   "outputs": [],
   "source": [
    "import matplotlib.pyplot as plt\n",
    "import matplotlib\n",
    "import numpy as np\n",
    "import pandas as pd\n",
    "import seaborn as sns\n",
    "import requests\n",
    "import oracledb\n",
    "matplotlib.rcParams['axes.unicode_minus'] = False  # 마이너스 표시 해결\n",
    "# 한글설정\n",
    "matplotlib.rcParams['font.family'] = 'Malgun Gothic' # windows 사용자\n",
    "# matplotlib.rcParams['font.family'] = 'AppleGothic Gothic' # Mac사용자\n",
    "matplotlib.rcParams['font.size'] = '10' # 글자크기"
   ]
  },
  {
   "cell_type": "code",
   "execution_count": 8,
   "metadata": {},
   "outputs": [
    {
     "data": {
      "text/plain": [
       "str"
      ]
     },
     "execution_count": 8,
     "metadata": {},
     "output_type": "execute_result"
    }
   ],
   "source": [
    "# https -> 보안키가 적용되어 데이터가 넘어옴.\n",
    "url = \"http://apis.data.go.kr/B551011/PhotoGalleryService1/galleryList1?serviceKey=918RE13GA7OY7ZEmUzApgbOeAcQoZ%2FaHsXWcqPAKQ9YNNPj83KOstRMRIUrCFIAcm9qj2R6b7NFZjp%2FYsYzJLg%3D%3D&numOfRows=10&pageNo=1&MobileOS=ETC&MobileApp=AppTest&arrange=A&_type=json\"\n",
    "res = requests.get(url)\n",
    "type(res.text)"
   ]
  },
  {
   "cell_type": "code",
   "execution_count": 9,
   "metadata": {},
   "outputs": [
    {
     "data": {
      "text/plain": [
       "{'response': {'header': {'resultCode': '0000', 'resultMsg': 'OK'},\n",
       "  'body': {'items': {'item': [{'galContentId': '3108474',\n",
       "      'galContentTypeId': '17',\n",
       "      'galTitle': '치악산국립공원',\n",
       "      'galWebImageUrl': 'http://tong.visitkorea.or.kr/cms2/website/74/3108474.jpg',\n",
       "      'galCreatedtime': '20240308154547',\n",
       "      'galModifiedtime': '20240421205153',\n",
       "      'galPhotographyMonth': '202402',\n",
       "      'galPhotographyLocation': '강원특별자치도 원주시 소초면',\n",
       "      'galPhotographer': '한국관광공사 이범수',\n",
       "      'galSearchKeyword': '치악산국립공원, 강원특별자치도 원주시, 눈, 설경, 겨울, 드론촬영, 드론사진, 항공촬영, 파노라마'},\n",
       "     {'galContentId': '3108458',\n",
       "      'galContentTypeId': '17',\n",
       "      'galTitle': '거돈사지',\n",
       "      'galWebImageUrl': 'http://tong.visitkorea.or.kr/cms2/website/58/3108458.JPG',\n",
       "      'galCreatedtime': '20240308152254',\n",
       "      'galModifiedtime': '20240315102301',\n",
       "      'galPhotographyMonth': '202402',\n",
       "      'galPhotographyLocation': '강원특별자치도 원주시 부론면',\n",
       "      'galPhotographer': '한국관광공사 이범수',\n",
       "      'galSearchKeyword': '거돈사지, 강원특별자치도 원주시, 사적 제168호, 절터, 사찰터, 눈, 설경, 겨울, 드론촬영, 드론사진, 항공촬영'},\n",
       "     {'galContentId': '3108341',\n",
       "      'galContentTypeId': '17',\n",
       "      'galTitle': '원주 반계리 은행나무',\n",
       "      'galWebImageUrl': 'http://tong.visitkorea.or.kr/cms2/website/41/3108341.jpg',\n",
       "      'galCreatedtime': '20240308113532',\n",
       "      'galModifiedtime': '20240308113544',\n",
       "      'galPhotographyMonth': '202402',\n",
       "      'galPhotographyLocation': '강원특별자치도 원주시 문막읍',\n",
       "      'galPhotographer': '한국관광공사 김지호',\n",
       "      'galSearchKeyword': '원주 반계리 은행나무, 강원특별자치도 원주시, 천연기념물 제167호, 은행잎, 보호수, 고목, 눈, 설경, 겨울, 드론촬영, 드론사진, 항공촬영, 파노라마'},\n",
       "     {'galContentId': '3108318',\n",
       "      'galContentTypeId': '17',\n",
       "      'galTitle': '한국관광공사',\n",
       "      'galWebImageUrl': 'http://tong.visitkorea.or.kr/cms2/website/18/3108318.JPG',\n",
       "      'galCreatedtime': '20240308104529',\n",
       "      'galModifiedtime': '20240308104746',\n",
       "      'galPhotographyMonth': '202402',\n",
       "      'galPhotographyLocation': '강원특별자치도 원주시 반곡동',\n",
       "      'galPhotographer': '한국관광공사 이범수',\n",
       "      'galSearchKeyword': '한국관광공사, 강원특별자치도 원주시, 혁신도시, 사옥, 빌딩, 건물, 전경, 눈, 설경, 겨울, 드론촬영, 드론사진, 항공촬영'},\n",
       "     {'galContentId': '3107008',\n",
       "      'galContentTypeId': '17',\n",
       "      'galTitle': '치킨',\n",
       "      'galWebImageUrl': 'http://tong.visitkorea.or.kr/cms2/website/08/3107008.jpg',\n",
       "      'galCreatedtime': '20240228141519',\n",
       "      'galModifiedtime': '20240228141537',\n",
       "      'galPhotographyMonth': '202312',\n",
       "      'galPhotographyLocation': '대한민국(한국)',\n",
       "      'galPhotographer': '토라이 리퍼블릭',\n",
       "      'galSearchKeyword': '양념치킨, 통닭, 한국음식, 한식, 치맥, 맥주, 치킨무'},\n",
       "     {'galContentId': '3106911',\n",
       "      'galContentTypeId': '17',\n",
       "      'galTitle': '제호탕',\n",
       "      'galWebImageUrl': 'http://tong.visitkorea.or.kr/cms2/website/11/3106911.jpg',\n",
       "      'galCreatedtime': '20240228111841',\n",
       "      'galModifiedtime': '20240228111852',\n",
       "      'galPhotographyMonth': '202312',\n",
       "      'galPhotographyLocation': '대한민국(한국)',\n",
       "      'galPhotographer': '토라이 리퍼블릭',\n",
       "      'galSearchKeyword': '제호탕, 한국음식, 한식, 단오, 수릿날, 명절음식, 전통음료'},\n",
       "     {'galContentId': '3106888',\n",
       "      'galContentTypeId': '17',\n",
       "      'galTitle': '잡채',\n",
       "      'galWebImageUrl': 'http://tong.visitkorea.or.kr/cms2/website/88/3106888.jpg',\n",
       "      'galCreatedtime': '20240228105805',\n",
       "      'galModifiedtime': '20240228105926',\n",
       "      'galPhotographyMonth': '202312',\n",
       "      'galPhotographyLocation': '대한민국(한국)',\n",
       "      'galPhotographer': '토라이 리퍼블릭',\n",
       "      'galSearchKeyword': '잡채, 한국음식, 한식, 궁중음식, 궁중요리, 명절음식, 전통음식, 젓가락'},\n",
       "     {'galContentId': '3106857',\n",
       "      'galContentTypeId': '17',\n",
       "      'galTitle': '육개장',\n",
       "      'galWebImageUrl': 'http://tong.visitkorea.or.kr/cms2/website/57/3106857.jpg',\n",
       "      'galCreatedtime': '20240228105036',\n",
       "      'galModifiedtime': '20240228105050',\n",
       "      'galPhotographyMonth': '202312',\n",
       "      'galPhotographyLocation': '대한민국(한국)',\n",
       "      'galPhotographer': '토라이 리퍼블릭',\n",
       "      'galSearchKeyword': '육개장, 한국음식, 한식, 칠석, 명절음식, 전통음식, 숟가락'},\n",
       "     {'galContentId': '3106847',\n",
       "      'galContentTypeId': '17',\n",
       "      'galTitle': '오이소박이',\n",
       "      'galWebImageUrl': 'http://tong.visitkorea.or.kr/cms2/website/47/3106847.jpg',\n",
       "      'galCreatedtime': '20240228104128',\n",
       "      'galModifiedtime': '20240228104200',\n",
       "      'galPhotographyMonth': '202312',\n",
       "      'galPhotographyLocation': '대한민국(한국)',\n",
       "      'galPhotographer': '토라이 리퍼블릭',\n",
       "      'galSearchKeyword': '오이소박이, 오이김치, 한국음식, 한식, 발효음식, 칠석, 명절음식, 전통음식, 흰쌀밥, 젓가락, 한복'},\n",
       "     {'galContentId': '3106841',\n",
       "      'galContentTypeId': '17',\n",
       "      'galTitle': '오곡밥',\n",
       "      'galWebImageUrl': 'http://tong.visitkorea.or.kr/cms2/website/41/3106841.jpg',\n",
       "      'galCreatedtime': '20240228103017',\n",
       "      'galModifiedtime': '20240228103314',\n",
       "      'galPhotographyMonth': '202312',\n",
       "      'galPhotographyLocation': '대한민국(한국)',\n",
       "      'galPhotographer': '토라이 리퍼블릭',\n",
       "      'galSearchKeyword': '오곡밥, 한국음식, 한식, 궁중음식, 궁중요리, 정월 대보름, 명절음식, 전통음식, 숟가락'}]},\n",
       "   'numOfRows': 10,\n",
       "   'pageNo': 1,\n",
       "   'totalCount': 5525}}}"
      ]
     },
     "execution_count": 9,
     "metadata": {},
     "output_type": "execute_result"
    }
   ],
   "source": [
    "# json데이터 변경\n",
    "json_data = res.json()\n",
    "json_data"
   ]
  },
  {
   "cell_type": "code",
   "execution_count": 10,
   "metadata": {},
   "outputs": [
    {
     "data": {
      "text/plain": [
       "list"
      ]
     },
     "execution_count": 10,
     "metadata": {},
     "output_type": "execute_result"
    }
   ],
   "source": [
    "datas = json_data['response']['body']['items']['item']\n",
    "type(datas)"
   ]
  },
  {
   "cell_type": "code",
   "execution_count": 11,
   "metadata": {},
   "outputs": [],
   "source": [
    "df = pd.DataFrame(datas)"
   ]
  },
  {
   "cell_type": "code",
   "execution_count": 13,
   "metadata": {},
   "outputs": [
    {
     "data": {
      "text/plain": [
       "0        치악산국립공원\n",
       "1           거돈사지\n",
       "2    원주 반계리 은행나무\n",
       "3         한국관광공사\n",
       "4             치킨\n",
       "5            제호탕\n",
       "6             잡채\n",
       "7            육개장\n",
       "8          오이소박이\n",
       "9            오곡밥\n",
       "Name: galTitle, dtype: object"
      ]
     },
     "execution_count": 13,
     "metadata": {},
     "output_type": "execute_result"
    }
   ],
   "source": [
    "df['galTitle']"
   ]
  }
 ],
 "metadata": {
  "kernelspec": {
   "display_name": "Python 3",
   "language": "python",
   "name": "python3"
  },
  "language_info": {
   "codemirror_mode": {
    "name": "ipython",
    "version": 3
   },
   "file_extension": ".py",
   "mimetype": "text/x-python",
   "name": "python",
   "nbconvert_exporter": "python",
   "pygments_lexer": "ipython3",
   "version": "3.12.0"
  }
 },
 "nbformat": 4,
 "nbformat_minor": 2
}
