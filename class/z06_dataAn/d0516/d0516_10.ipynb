{
 "cells": [
  {
   "cell_type": "code",
   "execution_count": 25,
   "metadata": {},
   "outputs": [],
   "source": [
    "import matplotlib.pyplot as plt\n",
    "import matplotlib\n",
    "import numpy as np\n",
    "import pandas as pd\n",
    "import seaborn as sns\n",
    "import requests\n",
    "import oracledb\n",
    "matplotlib.rcParams['axes.unicode_minus'] = False  # 마이너스 표시 해결\n",
    "# 한글설정\n",
    "matplotlib.rcParams['font.family'] = 'Malgun Gothic' # windows 사용자\n",
    "# matplotlib.rcParams['font.family'] = 'AppleGothic Gothic' # Mac사용자\n",
    "matplotlib.rcParams['font.size'] = '10' # 글자크기"
   ]
  },
  {
   "cell_type": "code",
   "execution_count": 28,
   "metadata": {},
   "outputs": [
    {
     "data": {
      "text/plain": [
       "list"
      ]
     },
     "execution_count": 28,
     "metadata": {},
     "output_type": "execute_result"
    }
   ],
   "source": [
    "# https -> 보안키가 적용되어 데이터가 넘어옴.\n",
    "url=\"http://api.odcloud.kr/api/3051434/v1/uddi:a9238a42-556e-4feb-8e2e-f89c7ff72fb9_201706131814?page=1&perPage=10&serviceKey=918RE13GA7OY7ZEmUzApgbOeAcQoZ%2FaHsXWcqPAKQ9YNNPj83KOstRMRIUrCFIAcm9qj2R6b7NFZjp%2FYsYzJLg%3D%3D\"\n",
    "res = requests.get(url)\n",
    "type(res.text)\n",
    "\n",
    "# json데이터 변경\n",
    "json_data = res.json()\n",
    "json_data\n",
    "\n",
    "datas = json_data['data']\n",
    "type(datas)"
   ]
  },
  {
   "cell_type": "code",
   "execution_count": 27,
   "metadata": {},
   "outputs": [],
   "source": [
    "df = pd.DataFrame(datas)"
   ]
  },
  {
   "cell_type": "code",
   "execution_count": 21,
   "metadata": {},
   "outputs": [
    {
     "name": "stdout",
     "output_type": "stream",
     "text": [
      "<class 'pandas.core.series.Series'>\n",
      "Index: 4 entries, 4 to 7\n",
      "Series name: 총진료비(천원)\n",
      "Non-Null Count  Dtype \n",
      "--------------  ----- \n",
      "4 non-null      object\n",
      "dtypes: object(1)\n",
      "memory usage: 64.0+ bytes\n"
     ]
    },
    {
     "data": {
      "text/plain": [
       "1576327602"
      ]
     },
     "execution_count": 21,
     "metadata": {},
     "output_type": "execute_result"
    }
   ],
   "source": [
    "df[df['시도']=='서울']['총진료비(천원)'].info()\n",
    "df[df['시도']=='서울']['총진료비(천원)'].astype(int).sum()"
   ]
  },
  {
   "cell_type": "code",
   "execution_count": 35,
   "metadata": {},
   "outputs": [
    {
     "data": {
      "text/plain": [
       "시도\n",
       "부산    9.157824e+08\n",
       "서울    1.576328e+09\n",
       "전국    1.088767e+10\n",
       "Name: 총진료비(천원), dtype: float64"
      ]
     },
     "execution_count": 35,
     "metadata": {},
     "output_type": "execute_result"
    }
   ],
   "source": [
    "df.groupby('시도')['총진료비(천원)'].sum()"
   ]
  },
  {
   "cell_type": "code",
   "execution_count": 31,
   "metadata": {},
   "outputs": [],
   "source": [
    "# 지역별 총진료비 합계를 출력하시오.\n",
    "df['총진료비(천원)'] = df['총진료비(천원)'].astype(float)"
   ]
  },
  {
   "cell_type": "code",
   "execution_count": 32,
   "metadata": {},
   "outputs": [
    {
     "data": {
      "text/plain": [
       "0    5.443836e+09\n",
       "1    3.031987e+09\n",
       "2    1.558049e+09\n",
       "3    8.538000e+08\n",
       "4    7.881638e+08\n",
       "5    3.824160e+08\n",
       "6    2.676845e+08\n",
       "7    1.380633e+08\n",
       "8    5.732066e+08\n",
       "9    3.425759e+08\n",
       "Name: 총진료비(천원), dtype: float64"
      ]
     },
     "execution_count": 32,
     "metadata": {},
     "output_type": "execute_result"
    }
   ],
   "source": [
    "df['총진료비(천원)']."
   ]
  }
 ],
 "metadata": {
  "kernelspec": {
   "display_name": "Python 3",
   "language": "python",
   "name": "python3"
  },
  "language_info": {
   "codemirror_mode": {
    "name": "ipython",
    "version": 3
   },
   "file_extension": ".py",
   "mimetype": "text/x-python",
   "name": "python",
   "nbconvert_exporter": "python",
   "pygments_lexer": "ipython3",
   "version": "3.12.0"
  }
 },
 "nbformat": 4,
 "nbformat_minor": 2
}
