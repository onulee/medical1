{
 "cells": [
  {
   "cell_type": "code",
   "execution_count": 62,
   "metadata": {},
   "outputs": [],
   "source": [
    "from sklearn import svm,metrics\n",
    "from sklearn.model_selection import train_test_split\n",
    "import pandas as pd\n",
    "import numpy as np\n",
    "import matplotlib.pyplot as plt\n",
    "import matplotlib\n",
    "import random\n",
    "matplotlib.rcParams['axes.unicode_minus'] = False  # 마이너스 표시 해결\n",
    "# 한글설정\n",
    "matplotlib.rcParams['font.family'] = 'Malgun Gothic' # windows 사용자\n",
    "# matplotlib.rcParams['font.family'] = 'AppleGothic Gothic' # Mac사용자\n",
    "matplotlib.rcParams['font.size'] = '10' # 글자크기"
   ]
  },
  {
   "cell_type": "code",
   "execution_count": 56,
   "metadata": {},
   "outputs": [],
   "source": [
    "from sklearn import model_selection, svm,metrics\n",
    "import pandas as pd"
   ]
  },
  {
   "cell_type": "code",
   "execution_count": 57,
   "metadata": {},
   "outputs": [
    {
     "data": {
      "text/html": [
       "<div>\n",
       "<style scoped>\n",
       "    .dataframe tbody tr th:only-of-type {\n",
       "        vertical-align: middle;\n",
       "    }\n",
       "\n",
       "    .dataframe tbody tr th {\n",
       "        vertical-align: top;\n",
       "    }\n",
       "\n",
       "    .dataframe thead th {\n",
       "        text-align: right;\n",
       "    }\n",
       "</style>\n",
       "<table border=\"1\" class=\"dataframe\">\n",
       "  <thead>\n",
       "    <tr style=\"text-align: right;\">\n",
       "      <th></th>\n",
       "      <th>0</th>\n",
       "      <th>1</th>\n",
       "      <th>2</th>\n",
       "      <th>3</th>\n",
       "      <th>4</th>\n",
       "      <th>5</th>\n",
       "      <th>6</th>\n",
       "      <th>7</th>\n",
       "      <th>8</th>\n",
       "      <th>9</th>\n",
       "      <th>...</th>\n",
       "      <th>775</th>\n",
       "      <th>776</th>\n",
       "      <th>777</th>\n",
       "      <th>778</th>\n",
       "      <th>779</th>\n",
       "      <th>780</th>\n",
       "      <th>781</th>\n",
       "      <th>782</th>\n",
       "      <th>783</th>\n",
       "      <th>784</th>\n",
       "    </tr>\n",
       "  </thead>\n",
       "  <tbody>\n",
       "    <tr>\n",
       "      <th>0</th>\n",
       "      <td>7</td>\n",
       "      <td>0</td>\n",
       "      <td>0</td>\n",
       "      <td>0</td>\n",
       "      <td>0</td>\n",
       "      <td>0</td>\n",
       "      <td>0</td>\n",
       "      <td>0</td>\n",
       "      <td>0</td>\n",
       "      <td>0</td>\n",
       "      <td>...</td>\n",
       "      <td>0</td>\n",
       "      <td>0</td>\n",
       "      <td>0</td>\n",
       "      <td>0</td>\n",
       "      <td>0</td>\n",
       "      <td>0</td>\n",
       "      <td>0</td>\n",
       "      <td>0</td>\n",
       "      <td>0</td>\n",
       "      <td>0</td>\n",
       "    </tr>\n",
       "    <tr>\n",
       "      <th>1</th>\n",
       "      <td>2</td>\n",
       "      <td>0</td>\n",
       "      <td>0</td>\n",
       "      <td>0</td>\n",
       "      <td>0</td>\n",
       "      <td>0</td>\n",
       "      <td>0</td>\n",
       "      <td>0</td>\n",
       "      <td>0</td>\n",
       "      <td>0</td>\n",
       "      <td>...</td>\n",
       "      <td>0</td>\n",
       "      <td>0</td>\n",
       "      <td>0</td>\n",
       "      <td>0</td>\n",
       "      <td>0</td>\n",
       "      <td>0</td>\n",
       "      <td>0</td>\n",
       "      <td>0</td>\n",
       "      <td>0</td>\n",
       "      <td>0</td>\n",
       "    </tr>\n",
       "  </tbody>\n",
       "</table>\n",
       "<p>2 rows × 785 columns</p>\n",
       "</div>"
      ],
      "text/plain": [
       "   0    1    2    3    4    5    6    7    8    9    ...  775  776  777  778  \\\n",
       "0    7    0    0    0    0    0    0    0    0    0  ...    0    0    0    0   \n",
       "1    2    0    0    0    0    0    0    0    0    0  ...    0    0    0    0   \n",
       "\n",
       "   779  780  781  782  783  784  \n",
       "0    0    0    0    0    0    0  \n",
       "1    0    0    0    0    0    0  \n",
       "\n",
       "[2 rows x 785 columns]"
      ]
     },
     "execution_count": 57,
     "metadata": {},
     "output_type": "execute_result"
    }
   ],
   "source": [
    "# 파일 불러오기\n",
    "train_csv = pd.read_csv('../mnist/train.csv',header=None)\n",
    "train_csv.head(2)\n",
    "tk_csv = pd.read_csv('../mnist/t10k.csv',header=None)\n",
    "tk_csv.head(2)"
   ]
  },
  {
   "cell_type": "code",
   "execution_count": 58,
   "metadata": {},
   "outputs": [],
   "source": [
    "# # apply\n",
    "# def change(x):\n",
    "#   return float(x)/256\n",
    "# train_csv.iloc[0,1:] = train_csv.iloc[0,1:].apply(change)\n",
    "\n",
    "#--------------------\n",
    "# for i in range(train_csv.shape[0]):\n",
    "#     train_csv.iloc[i,1:] = train_csv.iloc[i,1:].apply(lambda x:float(x)/256)\n",
    "\n",
    "# train_csv.iloc[i,232]"
   ]
  },
  {
   "cell_type": "code",
   "execution_count": 59,
   "metadata": {},
   "outputs": [],
   "source": [
    "def test(arr):\n",
    "    output = []\n",
    "    for i in arr:\n",
    "        output.append(float(i)/256) #[0,0,0,0,93/256.....]\n",
    "    return output    # 0<= i <1        "
   ]
  },
  {
   "cell_type": "code",
   "execution_count": 60,
   "metadata": {},
   "outputs": [],
   "source": [
    "# train,test 데이터를 생성\n",
    "train_input = list(map(test,train_csv.iloc[:,1:].values))  # [ [],[],[].... ]\n",
    "test_input = list(map(test,tk_csv.iloc[:,1:].values))"
   ]
  },
  {
   "cell_type": "code",
   "execution_count": 61,
   "metadata": {},
   "outputs": [],
   "source": [
    "# 1. 데이터 전처리\n",
    "# target result 정답데이터를 생성 - 제일앞에 있는 숫자\n",
    "train_target = train_csv[0].values   # 1001\n",
    "test_target = tk_csv[0].values       # 501"
   ]
  },
  {
   "cell_type": "code",
   "execution_count": 65,
   "metadata": {},
   "outputs": [
    {
     "data": {
      "text/plain": [
       "0      7\n",
       "1      2\n",
       "2      1\n",
       "3      0\n",
       "4      4\n",
       "      ..\n",
       "496    9\n",
       "497    4\n",
       "498    0\n",
       "499    6\n",
       "500    3\n",
       "Name: 0, Length: 501, dtype: int64"
      ]
     },
     "execution_count": 65,
     "metadata": {},
     "output_type": "execute_result"
    }
   ],
   "source": [
    "tk_csv[0]"
   ]
  },
  {
   "cell_type": "code",
   "execution_count": 64,
   "metadata": {},
   "outputs": [
    {
     "name": "stdout",
     "output_type": "stream",
     "text": [
      "예측결과데이터 :  [7 2 1 0 4 1 4 9 2 9 0 6 9 0 1 5 9 7 3 4 9 6 4 5 4 0 7 4 0 1 3 1 3 4 7 2 7\n",
      " 1 2 1 1 7 4 2 5 5 1 2 4 4 6 3 5 5 2 0 4 1 9 5 7 8 9 2 7 4 2 4 3 0 7 0 2 7\n",
      " 1 7 3 7 9 7 9 6 2 7 8 4 7 5 6 1 3 6 9 3 1 4 1 7 6 9 6 0 5 4 9 9 2 1 9 4 8\n",
      " 7 3 9 7 4 4 4 9 2 5 4 7 6 4 9 0 5 8 5 6 6 5 7 8 1 0 1 6 4 6 7 3 1 7 1 8 2\n",
      " 0 4 9 9 5 5 1 5 6 0 3 4 4 6 5 4 6 5 4 5 1 4 4 7 2 3 2 7 1 8 1 8 1 8 5 0 8\n",
      " 9 2 5 0 1 1 1 0 4 0 5 1 6 4 2 3 6 1 1 1 3 9 5 2 9 4 7 9 3 9 0 3 5 7 5 7 2\n",
      " 2 7 1 2 8 4 1 7 5 3 8 7 7 7 2 2 4 1 5 5 8 4 2 5 0 6 4 2 9 1 9 5 7 7 2 8 2\n",
      " 0 8 1 7 7 9 1 8 1 5 0 3 0 1 9 9 4 1 8 2 1 2 9 7 5 9 2 6 4 1 5 4 2 9 2 0 4\n",
      " 0 0 2 8 6 7 1 2 4 0 2 7 4 5 3 0 0 5 1 9 6 5 0 5 7 7 9 3 0 4 2 0 7 1 1 2 1\n",
      " 5 3 2 9 7 0 6 5 4 1 3 8 1 0 5 1 3 1 5 0 6 1 8 5 1 7 9 4 6 7 2 5 0 6 5 6 3\n",
      " 7 2 0 8 8 5 9 1 1 4 0 7 3 7 6 1 6 2 1 9 2 8 6 1 9 5 2 5 4 4 2 8 5 9 2 4 5\n",
      " 0 3 1 7 7 3 7 9 7 1 9 2 1 4 2 9 2 0 4 9 1 4 8 1 8 4 4 9 8 8 3 7 6 0 0 3 5\n",
      " 8 0 6 4 8 5 3 3 2 3 9 1 2 5 8 0 9 6 6 6 7 8 8 2 7 5 8 9 6 1 8 4 1 2 5 3 1\n",
      " 9 7 7 4 0 9 9 9 1 0 5 2 3 7 0 9 4 0 6 3]\n"
     ]
    }
   ],
   "source": [
    "# 2. 데이터 학습하기\n",
    "clf = svm.SVC()\n",
    "clf.fit(train_input,train_target)\n",
    "\n",
    "# 3. 데이터 예측하기\n",
    "pre = clf.predict(test_input)\n",
    "print(\"예측결과데이터 : \",pre)"
   ]
  },
  {
   "cell_type": "code",
   "execution_count": 66,
   "metadata": {},
   "outputs": [
    {
     "name": "stdout",
     "output_type": "stream",
     "text": [
      "정답률 :  0.8842315369261478\n"
     ]
    }
   ],
   "source": [
    "# 정답률\n",
    "score = clf.score(test_input,test_target)\n",
    "print(\"정답률 : \",score)"
   ]
  }
 ],
 "metadata": {
  "kernelspec": {
   "display_name": "Python 3",
   "language": "python",
   "name": "python3"
  },
  "language_info": {
   "codemirror_mode": {
    "name": "ipython",
    "version": 3
   },
   "file_extension": ".py",
   "mimetype": "text/x-python",
   "name": "python",
   "nbconvert_exporter": "python",
   "pygments_lexer": "ipython3",
   "version": "3.12.0"
  }
 },
 "nbformat": 4,
 "nbformat_minor": 2
}
