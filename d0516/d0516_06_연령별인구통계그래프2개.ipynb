{
 "cells": [
  {
   "cell_type": "code",
   "execution_count": 53,
   "metadata": {},
   "outputs": [],
   "source": [
    "import matplotlib.pyplot as plt\n",
    "import matplotlib\n",
    "import numpy as np\n",
    "import pandas as pd\n",
    "matplotlib.rcParams['axes.unicode_minus'] = False  # 마이너스 표시 해결\n",
    "# 한글설정\n",
    "matplotlib.rcParams['font.family'] = 'Malgun Gothic' # windows 사용자\n",
    "# matplotlib.rcParams['font.family'] = 'AppleGothic Gothic' # Mac사용자\n",
    "matplotlib.rcParams['font.size'] = '10' # 글자크기"
   ]
  },
  {
   "cell_type": "markdown",
   "metadata": {},
   "source": [
    "연령별 인구현황\n",
    "- 2023년 1월 연령별 인구수를 가로 막대그래프로 출력하시오.\n",
    "- 남자범위 : usecols='B,E:Y',    여자범위 : usecols='B,AB:AV'"
   ]
  },
  {
   "cell_type": "markdown",
   "metadata": {},
   "source": [
    "남자데이터,여자데이터 가져오기"
   ]
  },
  {
   "cell_type": "code",
   "execution_count": 54,
   "metadata": {},
   "outputs": [
    {
     "name": "stderr",
     "output_type": "stream",
     "text": [
      "c:\\Python312\\Lib\\site-packages\\openpyxl\\styles\\stylesheet.py:226: UserWarning: Workbook contains no default style, apply openpyxl's default\n",
      "  warn(\"Workbook contains no default style, apply openpyxl's default\")\n"
     ]
    },
    {
     "data": {
      "text/html": [
       "<div>\n",
       "<style scoped>\n",
       "    .dataframe tbody tr th:only-of-type {\n",
       "        vertical-align: middle;\n",
       "    }\n",
       "\n",
       "    .dataframe tbody tr th {\n",
       "        vertical-align: top;\n",
       "    }\n",
       "\n",
       "    .dataframe thead th {\n",
       "        text-align: right;\n",
       "    }\n",
       "</style>\n",
       "<table border=\"1\" class=\"dataframe\">\n",
       "  <thead>\n",
       "    <tr style=\"text-align: right;\">\n",
       "      <th></th>\n",
       "      <th>0~4세</th>\n",
       "      <th>5~9세</th>\n",
       "      <th>10~14세</th>\n",
       "      <th>15~19세</th>\n",
       "      <th>20~24세</th>\n",
       "      <th>25~29세</th>\n",
       "      <th>30~34세</th>\n",
       "      <th>35~39세</th>\n",
       "      <th>40~44세</th>\n",
       "      <th>45~49세</th>\n",
       "      <th>...</th>\n",
       "      <th>55~59세</th>\n",
       "      <th>60~64세</th>\n",
       "      <th>65~69세</th>\n",
       "      <th>70~74세</th>\n",
       "      <th>75~79세</th>\n",
       "      <th>80~84세</th>\n",
       "      <th>85~89세</th>\n",
       "      <th>90~94세</th>\n",
       "      <th>95~99세</th>\n",
       "      <th>100세 이상</th>\n",
       "    </tr>\n",
       "    <tr>\n",
       "      <th>행정기관</th>\n",
       "      <th></th>\n",
       "      <th></th>\n",
       "      <th></th>\n",
       "      <th></th>\n",
       "      <th></th>\n",
       "      <th></th>\n",
       "      <th></th>\n",
       "      <th></th>\n",
       "      <th></th>\n",
       "      <th></th>\n",
       "      <th></th>\n",
       "      <th></th>\n",
       "      <th></th>\n",
       "      <th></th>\n",
       "      <th></th>\n",
       "      <th></th>\n",
       "      <th></th>\n",
       "      <th></th>\n",
       "      <th></th>\n",
       "      <th></th>\n",
       "      <th></th>\n",
       "    </tr>\n",
       "  </thead>\n",
       "  <tbody>\n",
       "    <tr>\n",
       "      <th>전국</th>\n",
       "      <td>726,460</td>\n",
       "      <td>1,072,653</td>\n",
       "      <td>1,211,077</td>\n",
       "      <td>1,211,949</td>\n",
       "      <td>1,524,378</td>\n",
       "      <td>1,823,908</td>\n",
       "      <td>1,737,714</td>\n",
       "      <td>1,684,266</td>\n",
       "      <td>2,055,130</td>\n",
       "      <td>2,039,606</td>\n",
       "      <td>...</td>\n",
       "      <td>2,052,227</td>\n",
       "      <td>2,097,254</td>\n",
       "      <td>1,554,976</td>\n",
       "      <td>1,038,388</td>\n",
       "      <td>713,448</td>\n",
       "      <td>507,915</td>\n",
       "      <td>212,726</td>\n",
       "      <td>54,180</td>\n",
       "      <td>8,880</td>\n",
       "      <td>1,307</td>\n",
       "    </tr>\n",
       "  </tbody>\n",
       "</table>\n",
       "<p>1 rows × 21 columns</p>\n",
       "</div>"
      ],
      "text/plain": [
       "         0~4세       5~9세     10~14세     15~19세     20~24세     25~29세  \\\n",
       "행정기관                                                                   \n",
       "전국    726,460  1,072,653  1,211,077  1,211,949  1,524,378  1,823,908   \n",
       "\n",
       "         30~34세     35~39세     40~44세     45~49세  ...     55~59세     60~64세  \\\n",
       "행정기관                                              ...                         \n",
       "전국    1,737,714  1,684,266  2,055,130  2,039,606  ...  2,052,227  2,097,254   \n",
       "\n",
       "         65~69세     70~74세   75~79세   80~84세   85~89세  90~94세 95~99세 100세 이상  \n",
       "행정기관                                                                          \n",
       "전국    1,554,976  1,038,388  713,448  507,915  212,726  54,180  8,880   1,307  \n",
       "\n",
       "[1 rows x 21 columns]"
      ]
     },
     "execution_count": 54,
     "metadata": {},
     "output_type": "execute_result"
    }
   ],
   "source": [
    "# 남자데이터\n",
    "import pandas as pd\n",
    "df = pd.read_excel('../z20_data/20230104_연령별인구현황.xlsx',skiprows=3,index_col='행정기관',usecols='B,E:Y')\n",
    "# df = pd.read_excel('../z20_data/20230104_연령별인구현황.xlsx',skiprows=3,thousands = ',',index_col='행정기관',usecols='B,E:Y')\n",
    "df = df.head(1)\n",
    "df_total = df\n",
    "df"
   ]
  },
  {
   "cell_type": "code",
   "execution_count": 55,
   "metadata": {},
   "outputs": [],
   "source": [
    "# 천단위 표시 제거\n",
    "df.iloc[0] = df.iloc[0].str.replace(\",\",\"\").astype(int)"
   ]
  },
  {
   "cell_type": "code",
   "execution_count": 56,
   "metadata": {},
   "outputs": [
    {
     "name": "stderr",
     "output_type": "stream",
     "text": [
      "c:\\Python312\\Lib\\site-packages\\openpyxl\\styles\\stylesheet.py:226: UserWarning: Workbook contains no default style, apply openpyxl's default\n",
      "  warn(\"Workbook contains no default style, apply openpyxl's default\")\n"
     ]
    },
    {
     "data": {
      "text/html": [
       "<div>\n",
       "<style scoped>\n",
       "    .dataframe tbody tr th:only-of-type {\n",
       "        vertical-align: middle;\n",
       "    }\n",
       "\n",
       "    .dataframe tbody tr th {\n",
       "        vertical-align: top;\n",
       "    }\n",
       "\n",
       "    .dataframe thead th {\n",
       "        text-align: right;\n",
       "    }\n",
       "</style>\n",
       "<table border=\"1\" class=\"dataframe\">\n",
       "  <thead>\n",
       "    <tr style=\"text-align: right;\">\n",
       "      <th></th>\n",
       "      <th>0~4세.1</th>\n",
       "      <th>5~9세.1</th>\n",
       "      <th>10~14세.1</th>\n",
       "      <th>15~19세.1</th>\n",
       "      <th>20~24세.1</th>\n",
       "      <th>25~29세.1</th>\n",
       "      <th>30~34세.1</th>\n",
       "      <th>35~39세.1</th>\n",
       "      <th>40~44세.1</th>\n",
       "      <th>45~49세.1</th>\n",
       "      <th>...</th>\n",
       "      <th>55~59세.1</th>\n",
       "      <th>60~64세.1</th>\n",
       "      <th>65~69세.1</th>\n",
       "      <th>70~74세.1</th>\n",
       "      <th>75~79세.1</th>\n",
       "      <th>80~84세.1</th>\n",
       "      <th>85~89세.1</th>\n",
       "      <th>90~94세.1</th>\n",
       "      <th>95~99세.1</th>\n",
       "      <th>100세 이상.1</th>\n",
       "    </tr>\n",
       "    <tr>\n",
       "      <th>행정기관</th>\n",
       "      <th></th>\n",
       "      <th></th>\n",
       "      <th></th>\n",
       "      <th></th>\n",
       "      <th></th>\n",
       "      <th></th>\n",
       "      <th></th>\n",
       "      <th></th>\n",
       "      <th></th>\n",
       "      <th></th>\n",
       "      <th></th>\n",
       "      <th></th>\n",
       "      <th></th>\n",
       "      <th></th>\n",
       "      <th></th>\n",
       "      <th></th>\n",
       "      <th></th>\n",
       "      <th></th>\n",
       "      <th></th>\n",
       "      <th></th>\n",
       "      <th></th>\n",
       "    </tr>\n",
       "  </thead>\n",
       "  <tbody>\n",
       "    <tr>\n",
       "      <th>전국</th>\n",
       "      <td>691045</td>\n",
       "      <td>1020598</td>\n",
       "      <td>1144645</td>\n",
       "      <td>1134811</td>\n",
       "      <td>1402493</td>\n",
       "      <td>1642682</td>\n",
       "      <td>1579871</td>\n",
       "      <td>1598401</td>\n",
       "      <td>1980502</td>\n",
       "      <td>1990483</td>\n",
       "      <td>...</td>\n",
       "      <td>2017243</td>\n",
       "      <td>2132394</td>\n",
       "      <td>1649709</td>\n",
       "      <td>1174486</td>\n",
       "      <td>908877</td>\n",
       "      <td>802501</td>\n",
       "      <td>459932</td>\n",
       "      <td>177039</td>\n",
       "      <td>39806</td>\n",
       "      <td>6604</td>\n",
       "    </tr>\n",
       "  </tbody>\n",
       "</table>\n",
       "<p>1 rows × 21 columns</p>\n",
       "</div>"
      ],
      "text/plain": [
       "      0~4세.1   5~9세.1  10~14세.1  15~19세.1  20~24세.1  25~29세.1  30~34세.1  \\\n",
       "행정기관                                                                      \n",
       "전국    691045  1020598   1144645   1134811   1402493   1642682   1579871   \n",
       "\n",
       "      35~39세.1  40~44세.1  45~49세.1  ...  55~59세.1  60~64세.1  65~69세.1  \\\n",
       "행정기관                                ...                                 \n",
       "전국     1598401   1980502   1990483  ...   2017243   2132394   1649709   \n",
       "\n",
       "      70~74세.1  75~79세.1  80~84세.1  85~89세.1  90~94세.1  95~99세.1  100세 이상.1  \n",
       "행정기관                                                                         \n",
       "전국     1174486    908877    802501    459932    177039     39806       6604  \n",
       "\n",
       "[1 rows x 21 columns]"
      ]
     },
     "execution_count": 56,
     "metadata": {},
     "output_type": "execute_result"
    }
   ],
   "source": [
    "# 여자데이터\n",
    "df2 = pd.read_excel('../z20_data/20230104_연령별인구현황.xlsx',skiprows=3,thousands = ',',index_col='행정기관',usecols='B,AB:AV')\n",
    "df2 = df2.head(1)\n",
    "df2_total = df2\n",
    "df2"
   ]
  },
  {
   "cell_type": "code",
   "execution_count": 57,
   "metadata": {},
   "outputs": [
    {
     "data": {
      "text/plain": [
       "Index(['0~4세.1', '5~9세.1', '10~14세.1', '15~19세.1', '20~24세.1', '25~29세.1',\n",
       "       '30~34세.1', '35~39세.1', '40~44세.1', '45~49세.1', '50~54세.1', '55~59세.1',\n",
       "       '60~64세.1', '65~69세.1', '70~74세.1', '75~79세.1', '80~84세.1', '85~89세.1',\n",
       "       '90~94세.1', '95~99세.1', '100세 이상.1'],\n",
       "      dtype='object')"
      ]
     },
     "execution_count": 57,
     "metadata": {},
     "output_type": "execute_result"
    }
   ],
   "source": [
    "df2.columns"
   ]
  },
  {
   "cell_type": "markdown",
   "metadata": {},
   "source": [
    "남자데이터, 여자데이터 컬럼명을 동일"
   ]
  },
  {
   "cell_type": "code",
   "execution_count": 58,
   "metadata": {},
   "outputs": [],
   "source": [
    "df2.columns = df.columns"
   ]
  },
  {
   "cell_type": "markdown",
   "metadata": {},
   "source": [
    "가로막대그래프 그리기"
   ]
  },
  {
   "cell_type": "code",
   "execution_count": 59,
   "metadata": {},
   "outputs": [
    {
     "data": {
      "text/plain": [
       "<BarContainer object of 21 artists>"
      ]
     },
     "execution_count": 59,
     "metadata": {},
     "output_type": "execute_result"
    },
    {
     "data": {
      "image/png": "[encoded data removed]",
      "text/plain": [
       "<Figure size 640x480 with 1 Axes>"
      ]
     },
     "metadata": {},
     "output_type": "display_data"
    }
   ],
   "source": [
    "# 가로 막대 그래프\n",
    "plt.barh(df.columns,-df.iloc[0]//1000)\n",
    "plt.barh(df2.columns,df2.iloc[0]//1000)"
   ]
  },
  {
   "cell_type": "markdown",
   "metadata": {},
   "source": [
    "1월,2월,3월,4월 합산을 해서 가로막대그래프를 출력하시오."
   ]
  },
  {
   "cell_type": "markdown",
   "metadata": {},
   "source": [
    "- 남자범위 : usecols='B,E:Y',    여자범위 : usecols='B,AB:AV'"
   ]
  },
  {
   "cell_type": "code",
   "execution_count": 87,
   "metadata": {},
   "outputs": [
    {
     "name": "stderr",
     "output_type": "stream",
     "text": [
      "c:\\Python312\\Lib\\site-packages\\openpyxl\\styles\\stylesheet.py:226: UserWarning: Workbook contains no default style, apply openpyxl's default\n",
      "  warn(\"Workbook contains no default style, apply openpyxl's default\")\n",
      "c:\\Python312\\Lib\\site-packages\\openpyxl\\styles\\stylesheet.py:226: UserWarning: Workbook contains no default style, apply openpyxl's default\n",
      "  warn(\"Workbook contains no default style, apply openpyxl's default\")\n",
      "c:\\Python312\\Lib\\site-packages\\openpyxl\\styles\\stylesheet.py:226: UserWarning: Workbook contains no default style, apply openpyxl's default\n",
      "  warn(\"Workbook contains no default style, apply openpyxl's default\")\n",
      "c:\\Python312\\Lib\\site-packages\\openpyxl\\styles\\stylesheet.py:226: UserWarning: Workbook contains no default style, apply openpyxl's default\n",
      "  warn(\"Workbook contains no default style, apply openpyxl's default\")\n"
     ]
    }
   ],
   "source": [
    "# 1월 데이터\n",
    "df = pd.read_excel('../z20_data/20230104_연령별인구현황.xlsx',skiprows=3,thousands = ',',index_col='행정기관',usecols='B,E:Y')\n",
    "df = df.head(1)\n",
    "df_total = df\n",
    "df_w = pd.read_excel('../z20_data/20230104_연령별인구현황.xlsx',skiprows=3,thousands = ',',index_col='행정기관',usecols='B,AB:AV')\n",
    "df_w = df.head(1)\n",
    "\n",
    "# 2월 데이터\n",
    "df2 = pd.read_excel('../z20_data/20230104_연령별인구현황.xlsx',skiprows=3,thousands = ',',index_col='행정기관',usecols='B,AY:BS')\n",
    "df2 = df2.head(1)\n",
    "df2_w = pd.read_excel('../z20_data/20230104_연령별인구현황.xlsx',skiprows=3,thousands = ',',index_col='행정기관',usecols='B,BV:CP')\n",
    "df2_w = df2.head(1)\n",
    "\n",
    "#3월 데이터\n",
    "\n",
    "#4월 데이터\n"
   ]
  },
  {
   "cell_type": "code",
   "execution_count": 88,
   "metadata": {},
   "outputs": [],
   "source": [
    "df_w.columns = df.columns\n",
    "df2.columns = df.columns\n",
    "df2_w.columns = df.columns"
   ]
  },
  {
   "cell_type": "code",
   "execution_count": 91,
   "metadata": {},
   "outputs": [
    {
     "data": {
      "text/plain": [
       "21"
      ]
     },
     "execution_count": 91,
     "metadata": {},
     "output_type": "execute_result"
    }
   ],
   "source": [
    "df.shape[1]"
   ]
  },
  {
   "cell_type": "code",
   "execution_count": 92,
   "metadata": {},
   "outputs": [
    {
     "data": {
      "text/html": [
       "<div>\n",
       "<style scoped>\n",
       "    .dataframe tbody tr th:only-of-type {\n",
       "        vertical-align: middle;\n",
       "    }\n",
       "\n",
       "    .dataframe tbody tr th {\n",
       "        vertical-align: top;\n",
       "    }\n",
       "\n",
       "    .dataframe thead th {\n",
       "        text-align: right;\n",
       "    }\n",
       "</style>\n",
       "<table border=\"1\" class=\"dataframe\">\n",
       "  <thead>\n",
       "    <tr style=\"text-align: right;\">\n",
       "      <th></th>\n",
       "      <th>0~4세</th>\n",
       "      <th>5~9세</th>\n",
       "      <th>10~14세</th>\n",
       "      <th>15~19세</th>\n",
       "      <th>20~24세</th>\n",
       "      <th>25~29세</th>\n",
       "      <th>30~34세</th>\n",
       "      <th>35~39세</th>\n",
       "      <th>40~44세</th>\n",
       "      <th>45~49세</th>\n",
       "      <th>...</th>\n",
       "      <th>55~59세</th>\n",
       "      <th>60~64세</th>\n",
       "      <th>65~69세</th>\n",
       "      <th>70~74세</th>\n",
       "      <th>75~79세</th>\n",
       "      <th>80~84세</th>\n",
       "      <th>85~89세</th>\n",
       "      <th>90~94세</th>\n",
       "      <th>95~99세</th>\n",
       "      <th>100세 이상</th>\n",
       "    </tr>\n",
       "    <tr>\n",
       "      <th>행정기관</th>\n",
       "      <th></th>\n",
       "      <th></th>\n",
       "      <th></th>\n",
       "      <th></th>\n",
       "      <th></th>\n",
       "      <th></th>\n",
       "      <th></th>\n",
       "      <th></th>\n",
       "      <th></th>\n",
       "      <th></th>\n",
       "      <th></th>\n",
       "      <th></th>\n",
       "      <th></th>\n",
       "      <th></th>\n",
       "      <th></th>\n",
       "      <th></th>\n",
       "      <th></th>\n",
       "      <th></th>\n",
       "      <th></th>\n",
       "      <th></th>\n",
       "      <th></th>\n",
       "    </tr>\n",
       "  </thead>\n",
       "  <tbody>\n",
       "    <tr>\n",
       "      <th>전국</th>\n",
       "      <td>1449308</td>\n",
       "      <td>2140615</td>\n",
       "      <td>2421405</td>\n",
       "      <td>2422151</td>\n",
       "      <td>3040562</td>\n",
       "      <td>3640561</td>\n",
       "      <td>3475753</td>\n",
       "      <td>3360565</td>\n",
       "      <td>4113977</td>\n",
       "      <td>4077950</td>\n",
       "      <td>...</td>\n",
       "      <td>4107064</td>\n",
       "      <td>4199441</td>\n",
       "      <td>3118522</td>\n",
       "      <td>2078301</td>\n",
       "      <td>1427530</td>\n",
       "      <td>1021516</td>\n",
       "      <td>427508</td>\n",
       "      <td>108984</td>\n",
       "      <td>17885</td>\n",
       "      <td>2698</td>\n",
       "    </tr>\n",
       "  </tbody>\n",
       "</table>\n",
       "<p>1 rows × 21 columns</p>\n",
       "</div>"
      ],
      "text/plain": [
       "         0~4세     5~9세   10~14세   15~19세   20~24세   25~29세   30~34세   35~39세  \\\n",
       "행정기관                                                                           \n",
       "전국    1449308  2140615  2421405  2422151  3040562  3640561  3475753  3360565   \n",
       "\n",
       "       40~44세   45~49세  ...   55~59세   60~64세   65~69세   70~74세   75~79세  \\\n",
       "행정기관                    ...                                                \n",
       "전국    4113977  4077950  ...  4107064  4199441  3118522  2078301  1427530   \n",
       "\n",
       "       80~84세  85~89세  90~94세  95~99세  100세 이상  \n",
       "행정기관                                            \n",
       "전국    1021516  427508  108984   17885     2698  \n",
       "\n",
       "[1 rows x 21 columns]"
      ]
     },
     "execution_count": 92,
     "metadata": {},
     "output_type": "execute_result"
    }
   ],
   "source": [
    "# 타입 변경 1월데이터 + 2월데이터\n",
    "for i in range(df.shape[1]):\n",
    "    pass\n",
    "    # df_total[df.columns[i]] = df[df.columns[i]]+df2[df.columns[i]]+df3[df.columns[i]]+df4[df.columns[i]]\n",
    "    \n",
    "# df_total"
   ]
  },
  {
   "cell_type": "code",
   "execution_count": null,
   "metadata": {},
   "outputs": [],
   "source": [
    "# 위치값의 sum()을통해 각 컬럼의 합계를 계산방법\n",
    "# y1 = df.iloc[0,7,20].sum() #"
   ]
  }
 ],
 "metadata": {
  "kernelspec": {
   "display_name": "Python 3",
   "language": "python",
   "name": "python3"
  },
  "language_info": {
   "codemirror_mode": {
    "name": "ipython",
    "version": 3
   },
   "file_extension": ".py",
   "mimetype": "text/x-python",
   "name": "python",
   "nbconvert_exporter": "python",
   "pygments_lexer": "ipython3",
   "version": "3.12.0"
  }
 },
 "nbformat": 4,
 "nbformat_minor": 2
}
