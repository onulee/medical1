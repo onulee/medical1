{
 "cells": [
  {
   "cell_type": "code",
   "execution_count": null,
   "metadata": {},
   "outputs": [],
   "source": [
    "# 데이터 불러오기\n",
    "# 데이터 확인 - nan,0,타입,피쳐데이터 간격\n",
    "# - 문자타입 : 삭제,아스키코드,원핫인코딩\n",
    "# - 팀명 : 원핫인코딩\n",
    "# - 이름 : 삭제\n",
    "# - 연봉(2018) 분리\n",
    " \n",
    "# 서로 데이터간 상관관계\n",
    "\n",
    "# 데이터 전처리 - data,result 분리\n",
    "# - train,test세트 분리\n",
    "\n",
    "# 데이터 실습시키기\n",
    "\n",
    "# 데이터 예측\n",
    "# 데이터 예측률 구하기\n",
    "\n",
    "# 2018년 연봉 예측 프로그램 구현\n",
    "# 예측률을 구하기\n",
    "\n",
    "# 0.9276949405576705\n",
    "# 0.8860171644977817\n"
   ]
  }
 ],
 "metadata": {
  "language_info": {
   "name": "python"
  }
 },
 "nbformat": 4,
 "nbformat_minor": 2
}
